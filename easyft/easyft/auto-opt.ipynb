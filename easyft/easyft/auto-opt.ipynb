{
 "cells": [
  {
   "cell_type": "code",
   "execution_count": 10,
   "metadata": {
    "collapsed": true
   },
   "outputs": [
    {
     "name": "stdout",
     "output_type": "stream",
     "text": [
      "\n",
      "2021-05-09 00:44:23,959 - freqtrade.configuration.configuration - INFO - Using config: config_binance.json ...\n",
      "\n",
      "2021-05-09 00:44:23,959 - freqtrade - ERROR - Config file \"config_binance.json\" not found! Please create a config file or check whether it exists.\n",
      "\n",
      "\n",
      "2021-05-09 00:44:24,880 - freqtrade.loggers - INFO - Verbosity set to 0\n",
      "\n",
      "2021-05-09 00:44:24,881 - freqtrade - ERROR - Directory `/home/raphael/PycharmProjects/user_data` does not exist. Please use `freqtrade create-userdir` to create a user directory\n",
      "\n"
     ]
    },
    {
     "ename": "ErrorReturnCode_2",
     "evalue": "\n\n  RAN: /home/raphael/PycharmProjects/freqtrade/venv/bin/freqtrade hyperopt-show\n\n  STDOUT:\n\n\n  STDERR:\n",
     "output_type": "error",
     "traceback": [
      "\u001B[0;31m---------------------------------------------------------------------------\u001B[0m",
      "\u001B[0;31mErrorReturnCode_2\u001B[0m                         Traceback (most recent call last)",
      "\u001B[0;32m<ipython-input-10-e7ea9c221765>\u001B[0m in \u001B[0;36m<module>\u001B[0;34m\u001B[0m\n\u001B[1;32m     10\u001B[0m     \u001B[0;32mexcept\u001B[0m\u001B[0;34m:\u001B[0m\u001B[0;34m\u001B[0m\u001B[0;34m\u001B[0m\u001B[0m\n\u001B[1;32m     11\u001B[0m         \u001B[0;32mpass\u001B[0m\u001B[0;34m\u001B[0m\u001B[0;34m\u001B[0m\u001B[0m\n\u001B[0;32m---> 12\u001B[0;31m     \u001B[0msh\u001B[0m\u001B[0;34m.\u001B[0m\u001B[0mfreqtrade\u001B[0m\u001B[0;34m(\u001B[0m\u001B[0;34m'hyperopt-show'\u001B[0m\u001B[0;34m,\u001B[0m  \u001B[0m_in\u001B[0m\u001B[0;34m=\u001B[0m\u001B[0mprint\u001B[0m\u001B[0;34m,\u001B[0m \u001B[0m_err\u001B[0m\u001B[0;34m=\u001B[0m\u001B[0mprint\u001B[0m\u001B[0;34m)\u001B[0m\u001B[0;34m\u001B[0m\u001B[0;34m\u001B[0m\u001B[0m\n\u001B[0m\u001B[1;32m     13\u001B[0m     \u001B[0mi\u001B[0m \u001B[0;34m-=\u001B[0m \u001B[0;36m1\u001B[0m\u001B[0;34m\u001B[0m\u001B[0;34m\u001B[0m\u001B[0m\n",
      "\u001B[0;32m~/PycharmProjects/freqtrade/venv/lib/python3.9/site-packages/sh.py\u001B[0m in \u001B[0;36m__call__\u001B[0;34m(self, *args, **kwargs)\u001B[0m\n\u001B[1;32m   1518\u001B[0m             \u001B[0mstderr\u001B[0m \u001B[0;34m=\u001B[0m \u001B[0mopen\u001B[0m\u001B[0;34m(\u001B[0m\u001B[0mstr\u001B[0m\u001B[0;34m(\u001B[0m\u001B[0mstderr\u001B[0m\u001B[0;34m)\u001B[0m\u001B[0;34m,\u001B[0m \u001B[0;34m\"wb\"\u001B[0m\u001B[0;34m)\u001B[0m\u001B[0;34m\u001B[0m\u001B[0;34m\u001B[0m\u001B[0m\n\u001B[1;32m   1519\u001B[0m \u001B[0;34m\u001B[0m\u001B[0m\n\u001B[0;32m-> 1520\u001B[0;31m         \u001B[0;32mreturn\u001B[0m \u001B[0mRunningCommand\u001B[0m\u001B[0;34m(\u001B[0m\u001B[0mcmd\u001B[0m\u001B[0;34m,\u001B[0m \u001B[0mcall_args\u001B[0m\u001B[0;34m,\u001B[0m \u001B[0mstdin\u001B[0m\u001B[0;34m,\u001B[0m \u001B[0mstdout\u001B[0m\u001B[0;34m,\u001B[0m \u001B[0mstderr\u001B[0m\u001B[0;34m)\u001B[0m\u001B[0;34m\u001B[0m\u001B[0;34m\u001B[0m\u001B[0m\n\u001B[0m\u001B[1;32m   1521\u001B[0m \u001B[0;34m\u001B[0m\u001B[0m\n\u001B[1;32m   1522\u001B[0m \u001B[0;34m\u001B[0m\u001B[0m\n",
      "\u001B[0;32m~/PycharmProjects/freqtrade/venv/lib/python3.9/site-packages/sh.py\u001B[0m in \u001B[0;36m__init__\u001B[0;34m(self, cmd, call_args, stdin, stdout, stderr)\u001B[0m\n\u001B[1;32m    782\u001B[0m \u001B[0;34m\u001B[0m\u001B[0m\n\u001B[1;32m    783\u001B[0m             \u001B[0;32mif\u001B[0m \u001B[0mshould_wait\u001B[0m\u001B[0;34m:\u001B[0m\u001B[0;34m\u001B[0m\u001B[0;34m\u001B[0m\u001B[0m\n\u001B[0;32m--> 784\u001B[0;31m                 \u001B[0mself\u001B[0m\u001B[0;34m.\u001B[0m\u001B[0mwait\u001B[0m\u001B[0;34m(\u001B[0m\u001B[0;34m)\u001B[0m\u001B[0;34m\u001B[0m\u001B[0;34m\u001B[0m\u001B[0m\n\u001B[0m\u001B[1;32m    785\u001B[0m \u001B[0;34m\u001B[0m\u001B[0m\n\u001B[1;32m    786\u001B[0m     \u001B[0;32mdef\u001B[0m \u001B[0mwait\u001B[0m\u001B[0;34m(\u001B[0m\u001B[0mself\u001B[0m\u001B[0;34m,\u001B[0m \u001B[0mtimeout\u001B[0m\u001B[0;34m=\u001B[0m\u001B[0;32mNone\u001B[0m\u001B[0;34m)\u001B[0m\u001B[0;34m:\u001B[0m\u001B[0;34m\u001B[0m\u001B[0;34m\u001B[0m\u001B[0m\n",
      "\u001B[0;32m~/PycharmProjects/freqtrade/venv/lib/python3.9/site-packages/sh.py\u001B[0m in \u001B[0;36mwait\u001B[0;34m(self, timeout)\u001B[0m\n\u001B[1;32m    839\u001B[0m \u001B[0;34m\u001B[0m\u001B[0m\n\u001B[1;32m    840\u001B[0m             \u001B[0;32melse\u001B[0m\u001B[0;34m:\u001B[0m\u001B[0;34m\u001B[0m\u001B[0;34m\u001B[0m\u001B[0m\n\u001B[0;32m--> 841\u001B[0;31m                 \u001B[0mself\u001B[0m\u001B[0;34m.\u001B[0m\u001B[0mhandle_command_exit_code\u001B[0m\u001B[0;34m(\u001B[0m\u001B[0mexit_code\u001B[0m\u001B[0;34m)\u001B[0m\u001B[0;34m\u001B[0m\u001B[0;34m\u001B[0m\u001B[0m\n\u001B[0m\u001B[1;32m    842\u001B[0m \u001B[0;34m\u001B[0m\u001B[0m\n\u001B[1;32m    843\u001B[0m                 \u001B[0;31m# if an iterable command is using an instance of OProc for its stdin,\u001B[0m\u001B[0;34m\u001B[0m\u001B[0;34m\u001B[0m\u001B[0;34m\u001B[0m\u001B[0m\n",
      "\u001B[0;32m~/PycharmProjects/freqtrade/venv/lib/python3.9/site-packages/sh.py\u001B[0m in \u001B[0;36mhandle_command_exit_code\u001B[0;34m(self, code)\u001B[0m\n\u001B[1;32m    863\u001B[0m         \u001B[0;32mif\u001B[0m \u001B[0mexc_class\u001B[0m\u001B[0;34m:\u001B[0m\u001B[0;34m\u001B[0m\u001B[0;34m\u001B[0m\u001B[0m\n\u001B[1;32m    864\u001B[0m             \u001B[0mexc\u001B[0m \u001B[0;34m=\u001B[0m \u001B[0mexc_class\u001B[0m\u001B[0;34m(\u001B[0m\u001B[0mself\u001B[0m\u001B[0;34m.\u001B[0m\u001B[0mran\u001B[0m\u001B[0;34m,\u001B[0m \u001B[0mself\u001B[0m\u001B[0;34m.\u001B[0m\u001B[0mprocess\u001B[0m\u001B[0;34m.\u001B[0m\u001B[0mstdout\u001B[0m\u001B[0;34m,\u001B[0m \u001B[0mself\u001B[0m\u001B[0;34m.\u001B[0m\u001B[0mprocess\u001B[0m\u001B[0;34m.\u001B[0m\u001B[0mstderr\u001B[0m\u001B[0;34m,\u001B[0m \u001B[0mca\u001B[0m\u001B[0;34m[\u001B[0m\u001B[0;34m\"truncate_exc\"\u001B[0m\u001B[0;34m]\u001B[0m\u001B[0;34m)\u001B[0m\u001B[0;34m\u001B[0m\u001B[0;34m\u001B[0m\u001B[0m\n\u001B[0;32m--> 865\u001B[0;31m             \u001B[0;32mraise\u001B[0m \u001B[0mexc\u001B[0m\u001B[0;34m\u001B[0m\u001B[0;34m\u001B[0m\u001B[0m\n\u001B[0m\u001B[1;32m    866\u001B[0m \u001B[0;34m\u001B[0m\u001B[0m\n\u001B[1;32m    867\u001B[0m     \u001B[0;34m@\u001B[0m\u001B[0mproperty\u001B[0m\u001B[0;34m\u001B[0m\u001B[0;34m\u001B[0m\u001B[0m\n",
      "\u001B[0;31mErrorReturnCode_2\u001B[0m: \n\n  RAN: /home/raphael/PycharmProjects/freqtrade/venv/bin/freqtrade hyperopt-show\n\n  STDOUT:\n\n\n  STDERR:\n"
     ]
    }
   ],
   "source": [
    "import os\n",
    "import sh\n",
    "\n",
    "os.chdir('..')\n",
    "i = 3\n",
    "while i:\n",
    "    try:\n",
    "        sh.freqtrade('hyperopt', ['--spaces', 'buy'], s='BbandRsiMod', timerange='20210207-20210408',\n",
    "                 c='config_binance.json', hyperopt_loss='SortinoHyperOptLossDaily', _in=print, _err=print)\n",
    "    except:\n",
    "        pass\n",
    "    sh.freqtrade('hyperopt-show',  _in=print, _err=print)\n",
    "    i -= 1"
   ]
  },
  {
   "cell_type": "code",
   "execution_count": 6,
   "outputs": [
    {
     "name": "stdout",
     "output_type": "stream",
     "text": [
      "\n",
      "\n",
      "*    9/10:    181 trades. 88/92/1 Wins/Draws/Losses. Avg profit   0.46%. Median profit   0.00%. Total profit  83.01192617 USD (  16.60Σ%). Avg duration 22:08:00 min. Objective: -3.91473\n",
      "\n",
      "\n",
      "    # Buy hyperspace params:\n",
      "    buy_params = {\n",
      "        \"buy_bb_lower\": 2.03662,\n",
      "        \"buy_bbdelta_close\": 0.01152,\n",
      "        \"buy_closedelta_close\": 0.00331,\n",
      "        \"buy_tail_bbdelta\": 0.29437,\n",
      "    }\n",
      "\n",
      "    # Sell hyperspace params:\n",
      "    sell_params = {\n",
      "        \"sell_mfi\": 100,\n",
      "        \"sell_mfi_enabled\": True,\n",
      "    }\n",
      "\n",
      "    # ROI table:\n",
      "    minimal_roi = {\n",
      "        \"0\": 0.251,\n",
      "        \"27\": 0.073,\n",
      "        \"84\": 0.029,\n",
      "        \"145\": 0\n",
      "    }\n",
      "\n",
      "    # Stoploss:\n",
      "    stoploss = -0.26\n",
      "\n"
     ]
    }
   ],
   "source": [
    "text = \"\"\"2021-05-09 20:12:40,474 - freqtrade.exchange.exchange - INFO - Using CCXT 1.49.58\n",
    "2021-05-09 20:12:40,474 - freqtrade.exchange.exchange - INFO - Applying additional ccxt config: {'enableRateLimit': True}\n",
    "2021-05-09 20:12:40,479 - freqtrade.exchange.exchange - INFO - Applying additional ccxt config: {'enableRateLimit': True, 'rateLimit': 200}\n",
    "2021-05-09 20:12:40,484 - freqtrade.exchange.exchange - INFO - Using Exchange \"Binance US\"\n",
    "2021-05-09 20:12:41,178 - freqtrade.resolvers.exchange_resolver - INFO - Using resolved exchange 'Binance'...\n",
    "2021-05-09 20:12:41,210 - freqtrade.resolvers.iresolver - INFO - Using resolved strategy BinH2 from '/home/sage/freqtrade/user_data/strategies/binh2.py'...\n",
    "2021-05-09 20:12:41,211 - freqtrade.strategy.hyper - INFO - Strategy Parameter: buy_bb_lower = -0.94662\n",
    "2021-05-09 20:12:41,211 - freqtrade.strategy.hyper - INFO - Strategy Parameter: buy_bbdelta_close = 0.00315\n",
    "2021-05-09 20:12:41,211 - freqtrade.strategy.hyper - INFO - Strategy Parameter: buy_closedelta_close = 0.02977\n",
    "2021-05-09 20:12:41,211 - freqtrade.strategy.hyper - INFO - Strategy Parameter: buy_tail_bbdelta = 0.10643\n",
    "2021-05-09 20:12:41,211 - freqtrade.strategy.hyper - INFO - Strategy Parameter: sell_mfi = 100\n",
    "2021-05-09 20:12:41,211 - freqtrade.strategy.hyper - INFO - Strategy Parameter: sell_mfi_enabled = True\n",
    "2021-05-09 20:12:41,212 - freqtrade.resolvers.strategy_resolver - INFO - Override strategy 'timeframe' with value in config file: 5m.\n",
    "2021-05-09 20:12:41,212 - freqtrade.resolvers.strategy_resolver - INFO - Override strategy 'stake_currency' with value in config file: USD.\n",
    "2021-05-09 20:12:41,212 - freqtrade.resolvers.strategy_resolver - INFO - Override strategy 'stake_amount' with value in config file: 100.\n",
    "2021-05-09 20:12:41,212 - freqtrade.resolvers.strategy_resolver - INFO - Override strategy 'unfilledtimeout' with value in config file: {'buy': 10, 'sell': 30}.\n",
    "2021-05-09 20:12:41,212 - freqtrade.resolvers.strategy_resolver - INFO - Override strategy 'use_sell_signal' with value in config file: True.\n",
    "2021-05-09 20:12:41,212 - freqtrade.resolvers.strategy_resolver - INFO - Override strategy 'sell_profit_only' with value in config file: False.\n",
    "2021-05-09 20:12:41,212 - freqtrade.resolvers.strategy_resolver - INFO - Override strategy 'ignore_roi_if_buy_signal' with value in config file: False.\n",
    "2021-05-09 20:12:41,212 - freqtrade.resolvers.strategy_resolver - INFO - Strategy using minimal_roi: {'0': 10.0}\n",
    "2021-05-09 20:12:41,213 - freqtrade.resolvers.strategy_resolver - INFO - Strategy using timeframe: 5m\n",
    "2021-05-09 20:12:41,213 - freqtrade.resolvers.strategy_resolver - INFO - Strategy using stoploss: -0.274\n",
    "2021-05-09 20:12:41,213 - freqtrade.resolvers.strategy_resolver - INFO - Strategy using trailing_stop: True\n",
    "2021-05-09 20:12:41,213 - freqtrade.resolvers.strategy_resolver - INFO - Strategy using trailing_stop_positive: 0.015\n",
    "2021-05-09 20:12:41,213 - freqtrade.resolvers.strategy_resolver - INFO - Strategy using trailing_stop_positive_offset: 0.058\n",
    "2021-05-09 20:12:41,213 - freqtrade.resolvers.strategy_resolver - INFO - Strategy using trailing_only_offset_is_reached: False\n",
    "2021-05-09 20:12:41,213 - freqtrade.resolvers.strategy_resolver - INFO - Strategy using use_custom_stoploss: False\n",
    "2021-05-09 20:12:41,213 - freqtrade.resolvers.strategy_resolver - INFO - Strategy using process_only_new_candles: False\n",
    "2021-05-09 20:12:41,213 - freqtrade.resolvers.strategy_resolver - INFO - Strategy using order_types: {'buy': 'limit', 'sell': 'limit', 'stoploss': 'limit', 'stoploss_on_exchange': False, 'stoploss_on_exchange_interval': 60}\n",
    "2021-05-09 20:12:41,213 - freqtrade.resolvers.strategy_resolver - INFO - Strategy using order_time_in_force: {'buy': 'gtc', 'sell': 'gtc'}\n",
    "2021-05-09 20:12:41,213 - freqtrade.resolvers.strategy_resolver - INFO - Strategy using stake_currency: USD\n",
    "2021-05-09 20:12:41,213 - freqtrade.resolvers.strategy_resolver - INFO - Strategy using stake_amount: 100\n",
    "2021-05-09 20:12:41,213 - freqtrade.resolvers.strategy_resolver - INFO - Strategy using startup_candle_count: 0\n",
    "2021-05-09 20:12:41,214 - freqtrade.resolvers.strategy_resolver - INFO - Strategy using unfilledtimeout: {'buy': 10, 'sell': 30}\n",
    "2021-05-09 20:12:41,214 - freqtrade.resolvers.strategy_resolver - INFO - Strategy using use_sell_signal: True\n",
    "2021-05-09 20:12:41,214 - freqtrade.resolvers.strategy_resolver - INFO - Strategy using sell_profit_only: False\n",
    "2021-05-09 20:12:41,214 - freqtrade.resolvers.strategy_resolver - INFO - Strategy using ignore_roi_if_buy_signal: False\n",
    "2021-05-09 20:12:41,214 - freqtrade.resolvers.strategy_resolver - INFO - Strategy using sell_profit_offset: 0.0\n",
    "2021-05-09 20:12:41,214 - freqtrade.resolvers.strategy_resolver - INFO - Strategy using disable_dataframe_checks: False\n",
    "2021-05-09 20:12:41,214 - freqtrade.resolvers.strategy_resolver - INFO - Strategy using ignore_buying_expired_candle_after: 0\n",
    "2021-05-09 20:12:41,214 - freqtrade.configuration.config_validation - INFO - Validating configuration ...\n",
    "2021-05-09 20:12:41,219 - freqtrade.resolvers.iresolver - INFO - Using resolved pairlist StaticPairList from '/home/sage/freqtrade/freqtrade/plugins/pairlist/StaticPairList.py'...\n",
    "2021-05-09 20:12:41,226 - freqtrade.resolvers.iresolver - INFO - Using resolved pairlist AgeFilter from '/home/sage/freqtrade/freqtrade/plugins/pairlist/AgeFilter.py'...\n",
    "2021-05-09 20:12:41,230 - freqtrade.resolvers.iresolver - INFO - Using resolved pairlist PriceFilter from '/home/sage/freqtrade/freqtrade/plugins/pairlist/PriceFilter.py'...\n",
    "2021-05-09 20:12:41,431 - freqtrade.resolvers.iresolver - INFO - Using resolved hyperoptloss SortinoHyperOptLossDaily from '/home/sage/freqtrade/freqtrade/optimize/hyperopt_loss_sortino_daily.py'...\n",
    "2021-05-09 20:12:41,431 - freqtrade.optimize.hyperopt - INFO - Removing `/home/sage/freqtrade/user_data/hyperopt_results/hyperopt_tickerdata.pkl`.\n",
    "2021-05-09 20:12:41,436 - freqtrade.optimize.hyperopt - INFO - Using optimizer random state: 2293\n",
    "2021-05-09 20:12:41,442 - freqtrade.optimize.hyperopt_interface - INFO - Min roi table: {0: 0.03, 10: 0.02, 20: 0.01, 30: 0}\n",
    "2021-05-09 20:12:41,443 - freqtrade.optimize.hyperopt_interface - INFO - Max roi table: {0: 0.31, 40: 0.11, 100: 0.04, 220: 0}\n",
    "2021-05-09 20:12:41,673 - numexpr.utils - INFO - NumExpr defaulting to 4 threads.\n",
    "\n",
    "2021-05-09 20:12:41,721 - freqtrade.optimize.backtesting - INFO - Loading data from 2020-05-09 00:00:00 up to 2021-01-07 00:00:00 (243 days)..\n",
    "2021-05-09 20:12:41,721 - freqtrade.optimize.hyperopt - INFO - Dataload complete. Calculating indicators\n",
    "2021-05-09 20:12:41,749 - freqtrade.optimize.hyperopt - INFO - Hyperopting with data from 2020-05-09 00:00:00 up to 2021-01-07 00:00:00 (243 days)..\n",
    "2021-05-09 20:12:41,770 - freqtrade.optimize.hyperopt - INFO - Found 4 CPU cores. Let's make them scream!\n",
    "2021-05-09 20:12:41,770 - freqtrade.optimize.hyperopt - INFO - Number of parallel jobs set as: -1\n",
    "2021-05-09 20:12:41,778 - freqtrade.optimize.hyperopt - INFO - Effective number of parallel workers used: 4\n",
    "+--------+---------+----------+------------------+--------------+------------------------------+-----------------+-------------+\n",
    "|   Best |   Epoch |   Trades |    Win Draw Loss |   Avg profit |                       Profit |    Avg duration |   Objective |\n",
    "|--------+---------+----------+------------------+--------------+------------------------------+-----------------+-------------|\n",
    "| * Best |    1/10 |      242 |    120   99   23 |        0.12% |        28.188 USD    (5.64%) | 0 days 09:12:00 |    -0.74504 |\n",
    "| * Best |    9/10 |      181 |     88   92    1 |        0.46% |        83.012 USD   (16.60%) | 0 days 22:08:00 |    -3.91473 |\n",
    " [Epoch 10 of 10 (100%)] ||                                                                                                                                                                        | [Time:  0:00:08, Elapsed Time: 0:00:08]\n",
    "2021-05-09 20:12:56,822 - freqtrade.optimize.hyperopt - INFO - 10 epochs saved to '/home/sage/freqtrade/user_data/hyperopt_results/strategy_BinH2_hyperopt_results_2021-05-09_20-12-41.pickle'.\n",
    "\n",
    "Best result:\n",
    "\n",
    "*    9/10:    181 trades. 88/92/1 Wins/Draws/Losses. Avg profit   0.46%. Median profit   0.00%. Total profit  83.01192617 USD (  16.60Σ%). Avg duration 22:08:00 min. Objective: -3.91473\n",
    "\n",
    "\n",
    "    # Buy hyperspace params:\n",
    "    buy_params = {\n",
    "        \"buy_bb_lower\": 2.03662,\n",
    "        \"buy_bbdelta_close\": 0.01152,\n",
    "        \"buy_closedelta_close\": 0.00331,\n",
    "        \"buy_tail_bbdelta\": 0.29437,\n",
    "    }\n",
    "\n",
    "    # Sell hyperspace params:\n",
    "    sell_params = {\n",
    "        \"sell_mfi\": 100,\n",
    "        \"sell_mfi_enabled\": True,\n",
    "    }\n",
    "\n",
    "    # ROI table:\n",
    "    minimal_roi = {\n",
    "        \"0\": 0.251,\n",
    "        \"27\": 0.073,\n",
    "        \"84\": 0.029,\n",
    "        \"145\": 0\n",
    "    }\n",
    "\n",
    "    # Stoploss:\n",
    "    stoploss = -0.26\n",
    "\"\"\"\n",
    "\n",
    "print(text.split('Best result:', 1)[1])"
   ],
   "metadata": {
    "collapsed": false,
    "pycharm": {
     "name": "#%%\n"
    }
   }
  },
  {
   "cell_type": "code",
   "execution_count": 13,
   "outputs": [
    {
     "data": {
      "text/plain": "{'trades': '242',\n 'wins': '120',\n 'draws': '99',\n 'losses': '23',\n 'profit': '0.12',\n 'avg_profit': '28.188',\n 'objective': '-0.74504'}"
     },
     "execution_count": 13,
     "metadata": {},
     "output_type": "execute_result"
    }
   ],
   "source": [
    "import re\n",
    "pattern = re.compile(\n",
    "        r'Best \\|\\s+([\\d/]+) \\|\\s+(?P<trades>\\d+)\\s\\|\\s+(?P<wins>\\d+)\\s+(?P<draws>\\d+)\\s+(?P<losses>\\d+) \\|\\s+(?P<profit>[\\d.]+)% \\|\\s+(?P<avg_profit>[\\d.]+)\\ USD\\s+\\([\\d.]+%\\) \\|\\ \\d\\sdays ..:..:.. \\|\\s+(?P<objective>-?[\\d.]+)'\n",
    ")\n",
    "pattern.search(text).groupdict()"
   ],
   "metadata": {
    "collapsed": false,
    "pycharm": {
     "name": "#%%\n"
    }
   }
  },
  {
   "cell_type": "code",
   "execution_count": null,
   "outputs": [],
   "source": [
    "FINAL_REGEX = re.compile(\n",
    "    r'\\s+(?P<trades>\\d+) trades.\\s?(?P<wins>\\d+)/(?P<draws>\\d+)/(?P<losses>\\d+) Wins/Draws/Losses. Avg profit\\s+(?P<avg_profits>[\\d.]+)%. Median profit\\s+(?P<med_profit>[\\d.]+)%. Total profit  (?P<tot_profit>[\\d.]+) USD \\(  (?P<profit_percent>[\\d.]+)Σ%\\). Avg duration (?P<avg_duration>..:..:..) min. Objective: (?P<loss>[\\-\\d.]+)'\n",
    ")"
   ],
   "metadata": {
    "collapsed": false,
    "pycharm": {
     "name": "#%%\n"
    }
   }
  }
 ],
 "metadata": {
  "kernelspec": {
   "display_name": "Python 3",
   "language": "python",
   "name": "python3"
  },
  "language_info": {
   "codemirror_mode": {
    "name": "ipython",
    "version": 2
   },
   "file_extension": ".py",
   "mimetype": "text/x-python",
   "name": "python",
   "nbconvert_exporter": "python",
   "pygments_lexer": "ipython2",
   "version": "2.7.6"
  }
 },
 "nbformat": 4,
 "nbformat_minor": 0
}