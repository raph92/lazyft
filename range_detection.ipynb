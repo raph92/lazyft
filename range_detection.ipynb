{
 "cells": [
  {
   "cell_type": "code",
   "execution_count": 116,
   "metadata": {
    "pycharm": {
     "name": "#%%\n"
    }
   },
   "outputs": [],
   "source": [
    "import nest_asyncio\n",
    "nest_asyncio.apply()"
   ]
  },
  {
   "cell_type": "code",
   "execution_count": 2,
   "metadata": {},
   "outputs": [],
   "source": [
    "from lazyft.command_parameters import HyperoptParameters\n",
    "from lazyft.downloader import download_missing_historical_data\n",
    "import pandas as pd\n",
    "\n",
    "days = 365\n",
    "starting_balance = 100\n",
    "max_open_trades = 7\n",
    "stake_amount = 25\n",
    "interval = '15m'\n",
    "use_custom_stoploss = False\n",
    "# binance = Config('binance_refresh_december.json')\n",
    "# bin_us = Config(\"config.binanceus.json\")\n",
    "\n",
    "h_params = HyperoptParameters(\n",
    "    epochs=50,\n",
    "    config_path='config.json',\n",
    "    days=days,\n",
    "    spaces=\"buy sell\",\n",
    "    # loss='ROIAndProfitHyperOptLoss',\n",
    "    loss='CalmarHyperOptLoss',\n",
    "    interval=interval,\n",
    "    min_trades=100,\n",
    "    starting_balance=starting_balance,\n",
    "    max_open_trades=max_open_trades,\n",
    "    stake_amount=stake_amount,\n",
    "    jobs=-2,\n",
    "    download_data=True,\n",
    "    custom_spaces='',\n",
    "    custom_settings={\n",
    "        'use_custom_stoploss': use_custom_stoploss,\n",
    "        'timeframe':           interval\n",
    "    },\n",
    "    tag='auto',\n",
    ")\n",
    "\n",
    "# download_missing_historical_data(intervals=['4h'], pairs=h_params.pairs, config=h_params.config, parameters=h_params)"
   ]
  },
  {
   "cell_type": "code",
   "execution_count": 124,
   "metadata": {
    "pycharm": {
     "name": "#%%\n"
    }
   },
   "outputs": [
    {
     "name": "stderr",
     "output_type": "stream",
     "text": [
      "2022-03-15 18:09:24,782 - indicatormix.parameter_tools:71 - INFO - Creating buy comparison groups. Skip groups: [1, 2, 3]\n",
      "2022-03-15 18:09:24,783 - indicatormix.parameter_tools:80 - WARNING - Skip groups are the same as number of groups. No groups will be created.\n",
      "2022-03-15 18:09:24,783 - indicatormix.parameter_tools:49 - INFO - Created 0 buy comparison groups.\n",
      "2022-03-15 18:09:24,784 - indicatormix.parameter_tools:71 - INFO - Creating sell comparison groups. Skip groups: [1, 2, 3]\n",
      "2022-03-15 18:09:24,785 - indicatormix.parameter_tools:55 - INFO - Created 3 sell comparison groups.\n"
     ]
    },
    {
     "name": "stdout",
     "output_type": "stream",
     "text": [
      "2022-03-15 18:09:24.806 | INFO     | lazyft.downloader:download_missing_historical_data:274 - Checking if download is needed for SAND/USDT, MANA/USDT, SOL/USDT, LTC/USDT, TRX/USDT, AVAX/USDT, XRP/USDT @ 4h interval(s)\n",
      "2022-03-15 18:09:24.817 | SUCCESS  | lazyft.downloader:download_missing_historical_data:311 - Data is up to date\n",
      "2022-03-15 18:09:24.881 | INFO     | lazyft.parameter_tools:remove_params_file:36 - Removing strategy params: /home/raphael/PycharmProjects/ftworkdir/user_data/strategies/hodl.json\n",
      "2022-03-15 18:09:24.983 | INFO     | lazyft.strategy:save_strategy_text_to_database:172 - Strategy Hodl already in database...skipping\n"
     ]
    },
    {
     "name": "stderr",
     "output_type": "stream",
     "text": [
      "2022-03-15 18:09:27,462 - indicatormix.parameter_tools:71 - INFO - Creating buy comparison groups. Skip groups: [1, 2, 3]\n",
      "2022-03-15 18:09:27,463 - indicatormix.parameter_tools:80 - WARNING - Skip groups are the same as number of groups. No groups will be created.\n",
      "2022-03-15 18:09:27,464 - indicatormix.parameter_tools:49 - INFO - Created 0 buy comparison groups.\n",
      "2022-03-15 18:09:27,464 - indicatormix.parameter_tools:71 - INFO - Creating sell comparison groups. Skip groups: [1, 2, 3]\n",
      "2022-03-15 18:09:27,465 - indicatormix.parameter_tools:55 - INFO - Created 3 sell comparison groups.\n"
     ]
    },
    {
     "name": "stdout",
     "output_type": "stream",
     "text": [
      "2022-03-15 18:09:27.499 | INFO     | lazyft.backtest.runner:pre_execute:180 - Running command: \"freqtrade backtesting -c /home/raphael/PycharmProjects/ftworkdir/configs/config.json --user-data-dir /home/raphael/PycharmProjects/ftworkdir/user_data --strategy-path /home/raphael/PycharmProjects/ftworkdir/user_data/strategies --timerange 20210315-20211113 --pairs SAND/USDT MANA/USDT SOL/USDT LTC/USDT TRX/USDT AVAX/USDT XRP/USDT --starting-balance 100 --stake-amount unlimited --max-open-trades 7 --timeframe 4h -s Hodl\"\n",
      "2022-03-15 18:09:27.500 | INFO     | lazyft.backtest.runner:pre_execute:183 - Backtesting Hodl with params id \"null\" - 8ac8d12cb395eb6404c4e1912f194f39\n",
      "Result for strategy Hodl\n",
      "============================================================ BACKTESTING REPORT ============================================================\n",
      "|      Pair |   Buys |   Avg Profit % |   Cum Profit % |   Tot Profit USDT |   Tot Profit % |       Avg Duration |   Win  Draw  Loss  Win% |\n",
      "|-----------+--------+----------------+----------------+-------------------+----------------+--------------------+-------------------------|\n",
      "|  SOL/USDT |      1 |        1444.30 |        1444.30 |           204.470 |         204.47 | 242 days, 20:00:00 |     1     0     0   100 |\n",
      "| SAND/USDT |      1 |         270.45 |         270.45 |            38.288 |          38.29 | 242 days, 20:00:00 |     1     0     0   100 |\n",
      "| MANA/USDT |      1 |         209.13 |         209.13 |            29.606 |          29.61 | 242 days, 20:00:00 |     1     0     0   100 |\n",
      "| AVAX/USDT |      1 |         185.07 |         185.07 |            26.200 |          26.20 | 242 days, 20:00:00 |     1     0     0   100 |\n",
      "|  XRP/USDT |      1 |         167.97 |         167.97 |            23.779 |          23.78 | 242 days, 20:00:00 |     1     0     0   100 |\n",
      "|  TRX/USDT |      1 |         107.36 |         107.36 |            15.199 |          15.20 | 242 days, 20:00:00 |     1     0     0   100 |\n",
      "|  LTC/USDT |      1 |          13.91 |          13.91 |             1.970 |           1.97 | 242 days, 20:00:00 |     1     0     0   100 |\n",
      "|     TOTAL |      7 |         342.60 |        2398.19 |           339.512 |         339.51 | 242 days, 20:00:00 |     7     0     0   100 |\n",
      "============================================================ BUY TAG STATS =============================================================\n",
      "|   TAG |   Buys |   Avg Profit % |   Cum Profit % |   Tot Profit USDT |   Tot Profit % |       Avg Duration |   Win  Draw  Loss  Win% |\n",
      "|-------+--------+----------------+----------------+-------------------+----------------+--------------------+-------------------------|\n",
      "| TOTAL |      7 |         342.60 |        2398.19 |           339.512 |         339.51 | 242 days, 20:00:00 |     7     0     0   100 |\n",
      "===================================================== SELL REASON STATS =====================================================\n",
      "|   Sell Reason |   Sells |   Win  Draws  Loss  Win% |   Avg Profit % |   Cum Profit % |   Tot Profit USDT |   Tot Profit % |\n",
      "|---------------+---------+--------------------------+----------------+----------------+-------------------+----------------|\n",
      "|    force_sell |       7 |      7     0     0   100 |          342.6 |        2398.19 |           339.512 |          342.6 |\n",
      "========================================================= LEFT OPEN TRADES REPORT ==========================================================\n",
      "|      Pair |   Buys |   Avg Profit % |   Cum Profit % |   Tot Profit USDT |   Tot Profit % |       Avg Duration |   Win  Draw  Loss  Win% |\n",
      "|-----------+--------+----------------+----------------+-------------------+----------------+--------------------+-------------------------|\n",
      "|  SOL/USDT |      1 |        1444.30 |        1444.30 |           204.470 |         204.47 | 242 days, 20:00:00 |     1     0     0   100 |\n",
      "| SAND/USDT |      1 |         270.45 |         270.45 |            38.288 |          38.29 | 242 days, 20:00:00 |     1     0     0   100 |\n",
      "| MANA/USDT |      1 |         209.13 |         209.13 |            29.606 |          29.61 | 242 days, 20:00:00 |     1     0     0   100 |\n",
      "| AVAX/USDT |      1 |         185.07 |         185.07 |            26.200 |          26.20 | 242 days, 20:00:00 |     1     0     0   100 |\n",
      "|  XRP/USDT |      1 |         167.97 |         167.97 |            23.779 |          23.78 | 242 days, 20:00:00 |     1     0     0   100 |\n",
      "|  TRX/USDT |      1 |         107.36 |         107.36 |            15.199 |          15.20 | 242 days, 20:00:00 |     1     0     0   100 |\n",
      "|  LTC/USDT |      1 |          13.91 |          13.91 |             1.970 |           1.97 | 242 days, 20:00:00 |     1     0     0   100 |\n",
      "|     TOTAL |      7 |         342.60 |        2398.19 |           339.512 |         339.51 | 242 days, 20:00:00 |     7     0     0   100 |\n",
      "================== SUMMARY METRICS ===================\n",
      "| Metric                 | Value                     |\n",
      "|------------------------+---------------------------|\n",
      "| Backtesting from       | 2021-03-15 00:00:00       |\n",
      "| Backtesting to         | 2021-11-13 00:00:00       |\n",
      "| Max open trades        | 7                         |\n",
      "|                        |                           |\n",
      "| Total/Daily Avg Trades | 7 / 0.03                  |\n",
      "| Starting balance       | 100 USDT                  |\n",
      "| Final balance          | 439.512 USDT              |\n",
      "| Absolute profit        | 339.512 USDT              |\n",
      "| Total profit %         | 339.51%                   |\n",
      "| Trades per day         | 0.03                      |\n",
      "| Avg. daily profit %    | 1.40%                     |\n",
      "| Avg. stake amount      | 14.143 USDT               |\n",
      "| Total trade volume     | 99 USDT                   |\n",
      "|                        |                           |\n",
      "| Best Pair              | SOL/USDT 1444.30%         |\n",
      "| Worst Pair             | LTC/USDT 13.91%           |\n",
      "| Best trade             | SOL/USDT 1444.30%         |\n",
      "| Worst trade            | LTC/USDT 13.91%           |\n",
      "| Best day               | 339.512 USDT              |\n",
      "| Worst day              | 339.512 USDT              |\n",
      "| Days win/draw/lose     | 1 / 0 / 0                 |\n",
      "| Avg. Duration Winners  | 242 days, 20:00:00        |\n",
      "| Avg. Duration Loser    | 0:00:00                   |\n",
      "| Rejected Buy signals   | 0                         |\n",
      "| Entry/Exit Timeouts    | 0 / 0                     |\n",
      "|                        |                           |\n",
      "| Min balance            | 0 USDT                    |\n",
      "| Max balance            | 0 USDT                    |\n",
      "| Drawdown (Account)     | 0.00%                     |\n",
      "| Drawdown               | 0 USDT                    |\n",
      "| Drawdown high          | 0 USDT                    |\n",
      "| Drawdown low           | 0 USDT                    |\n",
      "| Drawdown Start         | 1970-01-01 00:00:00+00:00 |\n",
      "| Drawdown End           | 1970-01-01 00:00:00+00:00 |\n",
      "| Market change          | 348.05%                   |\n",
      "======================================================\n",
      "\n",
      "2022-03-15 18:09:28.081 | INFO     | lazyft.backtest.runner:on_finished:255 - Elapsed time: 0.58\n",
      "2022-03-15 18:09:28.261 | INFO     | lazyft.parameter_tools:remove_params_file:36 - Removing strategy params: /home/raphael/PycharmProjects/ftworkdir/user_data/strategies/hodl.json\n",
      "2022-03-15 18:09:28.262 | SUCCESS  | lazyft.backtest.runner:on_finished:259 - Backtest Hodl finished successfully\n",
      "2022-03-15 18:09:28.262 | INFO     | lazyft.strategy:delete_temporary_strategy_backup_dir:227 - Temporary folder \"None\" does not exist...skipping\n"
     ]
    },
    {
     "data": {
      "text/plain": [
       "<lazyft.backtest.runner.BacktestRunner at 0x7f7cff9fea30>"
      ]
     },
     "execution_count": 124,
     "metadata": {},
     "output_type": "execute_result"
    }
   ],
   "source": [
    "from lazyft.command_parameters import BacktestParameters\n",
    "\n",
    "b_params = BacktestParameters(\n",
    "    # timerange=\"20200101-\",\n",
    "    config_path='config.json',\n",
    "    days=days,\n",
    "        interval='4h',\n",
    "    timerange='20210315-20211113',\n",
    "    stake_amount='unlimited',\n",
    "    starting_balance=starting_balance,\n",
    "    max_open_trades=max_open_trades,\n",
    "    # timeframe_detail='4h',\n",
    "    download_data=True,\n",
    "    tag=\"\",\n",
    ")\n",
    "b_params.run('Hodl')"
   ]
  },
  {
   "cell_type": "code",
   "execution_count": 114,
   "metadata": {
    "pycharm": {
     "name": "#%%\n"
    }
   },
   "outputs": [
    {
     "data": {
      "text/plain": [
       "'20210315-20211113'"
      ]
     },
     "execution_count": 114,
     "metadata": {},
     "output_type": "execute_result"
    }
   ],
   "source": [
    "h_params.timerange"
   ]
  },
  {
   "cell_type": "code",
   "execution_count": 3,
   "metadata": {
    "pycharm": {
     "name": "#%%\n"
    }
   },
   "outputs": [
    {
     "data": {
      "text/plain": "1"
     },
     "execution_count": 3,
     "metadata": {},
     "output_type": "execute_result"
    }
   ],
   "source": [
    "from freqtrade.configuration import TimeRange\n",
    "from freqtrade.data.history import load_pair_history\n",
    "\n",
    "candles = {}\n",
    "\n",
    "# for p in h_params.pairs:\n",
    "for p in ['BTC/USDT']:\n",
    "    c = load_pair_history(datadir=h_params.user_data_dir.joinpath('data', h_params.config.exchange),\n",
    "                          timeframe='4h',\n",
    "                          pair=p,\n",
    "                          data_format=\"json\",\n",
    "                          # timerange=TimeRange.parse_timerange(h_params.timerange)\n",
    "                          )\n",
    "    candles[p] = c\n",
    "\n",
    "len(candles)"
   ]
  },
  {
   "cell_type": "code",
   "execution_count": null,
   "metadata": {
    "pycharm": {
     "name": "#%%\n"
    }
   },
   "outputs": [],
   "source": []
  },
  {
   "cell_type": "code",
   "execution_count": 5,
   "metadata": {
    "pycharm": {
     "name": "#%%\n"
    }
   },
   "outputs": [
    {
     "name": "stdout",
     "output_type": "stream",
     "text": [
      "                       date  open  high   low  close  volume    roc\n",
      "0 2021-01-10 00:00:00+00:00 40.1K 41.4K 40.1K  40.3K   11.8K  0.006\n",
      "1 2021-01-10 04:00:00+00:00 40.3K 41.1K   40K    41K   9.17K  0.016\n",
      "2 2021-01-10 08:00:00+00:00   41K 41.1K 38.9K  39.2K   18.8K -0.044\n",
      "3 2021-01-10 12:00:00+00:00 39.2K 40.1K 38.4K  39.7K   17.1K  0.013\n",
      "4 2021-01-10 16:00:00+00:00 39.7K 39.8K 37.1K  37.5K   26.1K -0.056\n",
      "                          date  open  high   low  close  volume    roc\n",
      "2196 2022-01-11 00:00:00+00:00 41.8K 42.4K 41.5K  42.3K   4.93K  0.011\n",
      "2197 2022-01-11 04:00:00+00:00 42.3K 42.4K   42K  42.2K   3.88K -0.002\n",
      "2198 2022-01-11 08:00:00+00:00 42.2K 42.6K 41.6K  41.8K   6.07K -0.010\n",
      "2199 2022-01-11 12:00:00+00:00 41.8K 42.2K 41.3K  41.7K   7.35K -0.002\n",
      "2200 2022-01-11 16:00:00+00:00 41.7K 43.1K 41.7K    43K   11.9K  0.030\n"
     ]
    }
   ],
   "source": [
    "for pair, candle in candles.items():\n",
    "    # add column with rate of change percentage\n",
    "    candle['roc'] = (candle['close'] - candle['open']) / candle['open']\n",
    "    print(candle.head())\n",
    "    print(candle.tail())"
   ]
  },
  {
   "cell_type": "code",
   "execution_count": 6,
   "metadata": {
    "pycharm": {
     "name": "#%%\n"
    }
   },
   "outputs": [],
   "source": [
    "# create an empty dataframe with index as date\n",
    "df = pd.DataFrame(index=list(candles.values())[0].date)\n",
    "\n",
    "# for each date in df, combine the roc values for all pairs\n",
    "for date in df.index:\n",
    "    # get the combined roc from all pairs for this date\n",
    "    total = 0\n",
    "    for pair, candle in candles.items():\n",
    "        # get the roc for this date\n",
    "        try:\n",
    "            roc = candle.loc[candle['date'] == date, 'roc'].values[0]\n",
    "        except KeyError:\n",
    "            print(f\"{pair} does not have data for {date}\")\n",
    "            continue\n",
    "        except IndexError:\n",
    "            print(f\"{pair} does not have data for {date}\")\n",
    "            continue\n",
    "        # add it to the total\n",
    "        total += roc\n",
    "    # set the combined roc for this date\n",
    "    df.loc[date, 'combined_roc'] = total\n"
   ]
  },
  {
   "cell_type": "code",
   "execution_count": 7,
   "metadata": {
    "pycharm": {
     "name": "#%%\n"
    }
   },
   "outputs": [],
   "source": [
    "# sum the combined roc for each date\n",
    "df['combined_roc_sum'] = df['combined_roc'].cumsum()"
   ]
  },
  {
   "cell_type": "code",
   "execution_count": 17,
   "metadata": {
    "pycharm": {
     "name": "#%%\n"
    }
   },
   "outputs": [
    {
     "name": "stdout",
     "output_type": "stream",
     "text": [
      "The 1 longest streak of positive combined roc is 35 days, from 20210725-20210829\n",
      "The 2 longest streak of positive combined roc is 28 days, from 20210131-20210228\n",
      "The 3 longest streak of positive combined roc is 21 days, from 20210530-20210620\n",
      "\n",
      "The 1 longest streak of negative combined roc is 21 days, from 20210110-20210131\n",
      "The 2 longest streak of negative combined roc is 21 days, from 20211121-20211212\n",
      "The 3 longest streak of negative combined roc is 14 days, from 20210321-20210404\n"
     ]
    }
   ],
   "source": [
    "# get worst streak of days with negative combined roc\n",
    "negative_streaks = []\n",
    "start_date = None\n",
    "\n",
    "# resample to weekly and sum the combined roc\n",
    "df_weekly = df.resample('W').sum()\n",
    "# negative\n",
    "for date in df_weekly.index:\n",
    "    roc = df_weekly.loc[date, 'combined_roc']\n",
    "    if roc < 0:\n",
    "        if start_date is None:\n",
    "            start_date = date\n",
    "    else:\n",
    "        if not start_date:\n",
    "            continue\n",
    "        negative_streaks.append((start_date.to_pydatetime(), date.to_pydatetime()))\n",
    "        start_date = None\n",
    "# postive\n",
    "positive_streaks = []\n",
    "for date in df_weekly.index:\n",
    "    roc = df_weekly.loc[date, 'combined_roc']\n",
    "    if roc > 0:\n",
    "        if start_date is None:\n",
    "            start_date = date\n",
    "    else:\n",
    "        if not start_date:\n",
    "            continue\n",
    "        positive_streaks.append((start_date.to_pydatetime(), date.to_pydatetime()))\n",
    "        start_date = None\n",
    "\n",
    "# longest = sorted_streaks[-1]\n",
    "# longest_as_timedelta = longest[1] - longest[0]\n",
    "# print(\n",
    "#     f'The longest streak of negative combined roc is {longest_as_timedelta}, from {longest[0].date()} to {longest[1].date()}')\n",
    "#\n",
    "# second_longest = sorted_streaks[-2]\n",
    "# second_longest_as_timedelta = second_longest[1] - second_longest[0]\n",
    "# print(\n",
    "#     f'The second longest streak of negative combined roc is {second_longest_as_timedelta}, from {second_longest[0].date()} to {second_longest[1].date()}')\n",
    "# third_longest = sorted_streaks[-3]\n",
    "# third_longest_as_timedelta = third_longest[1] - third_longest[0]\n",
    "# print(\n",
    "#     f'The third longest streak of negative combined roc is {third_longest_as_timedelta}, from {third_longest[0].date()}-{third_longest[1].date()}')\n",
    "sorted_positive_streaks = sorted(positive_streaks, key=lambda x: (x[1] - x[0]).days, reverse=True)\n",
    "for i in range(0, 3):\n",
    "    # turn to YYYYMMDD\n",
    "    start = sorted_positive_streaks[i][0].date().strftime('%Y%m%d')\n",
    "    end = sorted_positive_streaks[i][1].date().strftime('%Y%m%d')\n",
    "    print(f'The {i+1} longest streak of positive combined roc is {(sorted_positive_streaks[i][1] - sorted_positive_streaks[i][0]).days} days, from {start}-{end}')\n",
    "print()\n",
    "sorted_negative_streaks = sorted(negative_streaks, key=lambda x: (x[1] - x[0]).days, reverse=True)\n",
    "for i in range(0, 3):\n",
    "    # turn to YYYYMMDD\n",
    "    start = sorted_negative_streaks[i][0].date().strftime('%Y%m%d')\n",
    "    end = sorted_negative_streaks[i][1].date().strftime('%Y%m%d')\n",
    "    print(f'The {i+1} longest streak of negative combined roc is {(sorted_negative_streaks[i][1] - sorted_negative_streaks[i][0]).days} days, from {start}-{end}')"
   ]
  },
  {
   "cell_type": "code",
   "execution_count": 9,
   "metadata": {
    "pycharm": {
     "name": "#%%\n"
    }
   },
   "outputs": [
    {
     "data": {
      "text/plain": "<AxesSubplot:xlabel='date'>"
     },
     "execution_count": 9,
     "metadata": {},
     "output_type": "execute_result"
    },
    {
     "data": {
      "text/plain": "<Figure size 432x288 with 1 Axes>",
      "image/png": "[encoded data removed]"
     },
     "metadata": {
      "needs_background": "light"
     },
     "output_type": "display_data"
    }
   ],
   "source": [
    "df_weekly.combined_roc_sum.plot(kind='line')"
   ]
  },
  {
   "cell_type": "code",
   "execution_count": 125,
   "metadata": {
    "pycharm": {
     "name": "#%%\n"
    }
   },
   "outputs": [
    {
     "data": {
      "text/plain": "<AxesSubplot:xlabel='date'>"
     },
     "execution_count": 125,
     "metadata": {},
     "output_type": "execute_result"
    },
    {
     "data": {
      "text/plain": "<Figure size 432x288 with 1 Axes>",
      "image/png": "[encoded data removed]"
     },
     "metadata": {
      "needs_background": "light"
     },
     "output_type": "display_data"
    }
   ],
   "source": [
    "df_weekly.combined_roc.plot(kind='line')"
   ]
  },
  {
   "cell_type": "code",
   "execution_count": 88,
   "metadata": {
    "pycharm": {
     "name": "#%%\n"
    }
   },
   "outputs": [
    {
     "data": {
      "text/plain": [
       "datetime.datetime(2022, 2, 12, 4, 0, tzinfo=<UTC>)"
      ]
     },
     "execution_count": 88,
     "metadata": {},
     "output_type": "execute_result"
    }
   ],
   "source": [
    "dir(start_date)\n",
    "start_date.to_pydatetime()"
   ]
  },
  {
   "cell_type": "code",
   "execution_count": null,
   "metadata": {
    "pycharm": {
     "name": "#%%\n"
    }
   },
   "outputs": [],
   "source": []
  }
 ],
 "metadata": {
  "kernelspec": {
   "display_name": "Python 3 (ipykernel)",
   "language": "python",
   "name": "python3"
  },
  "language_info": {
   "codemirror_mode": {
    "name": "ipython",
    "version": 3
   },
   "file_extension": ".py",
   "mimetype": "text/x-python",
   "name": "python",
   "nbconvert_exporter": "python",
   "pygments_lexer": "ipython3",
   "version": "3.9.10"
  }
 },
 "nbformat": 4,
 "nbformat_minor": 1
}