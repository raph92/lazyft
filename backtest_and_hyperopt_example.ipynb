{
 "cells": [
  {
   "cell_type": "code",
   "execution_count": null,
   "metadata": {
    "pycharm": {
     "name": "#%%\n"
    }
   },
   "outputs": [],
   "source": [
    "%pip install -e .\n",
    "%pip install -r requirements.txt\n",
    "%pip install nest_asyncio"
   ]
  },
  {
   "cell_type": "code",
   "execution_count": 1,
   "metadata": {
    "pycharm": {
     "name": "#%%\n"
    }
   },
   "outputs": [
    {
     "data": {
      "text/html": [
       "<style>.output_result { max-width:100% !important; }</style>"
      ],
      "text/plain": [
       "<IPython.core.display.HTML object>"
      ]
     },
     "metadata": {},
     "output_type": "display_data"
    }
   ],
   "source": [
    "import nest_asyncio\n",
    "\n",
    "# Allow backtests to run in notebook\n",
    "nest_asyncio.apply()\n",
    "\n",
    "# Increase width of console output for browsers\n",
    "from IPython.display import HTML, display\n",
    "\n",
    "\n",
    "display(HTML(\"<style>.output_result { max-width:100% !important; }</style>\"))"
   ]
  },
  {
   "cell_type": "code",
   "execution_count": 1,
   "metadata": {
    "pycharm": {
     "name": "#%%\n"
    }
   },
   "outputs": [
    {
     "ename": "ImportError",
     "evalue": "cannot import name 'PerformanceBase' from partially initialized module 'lazyft.models' (most likely due to a circular import) (/home/raphael/PycharmProjects/lazyft_lib/lazyft/models/__init__.py)",
     "output_type": "error",
     "traceback": [
      "\u001b[0;31m---------------------------------------------------------------------------\u001b[0m",
      "\u001b[0;31mImportError\u001b[0m                               Traceback (most recent call last)",
      "\u001b[1;32m/home/raphael/PycharmProjects/lazyft_lib/backtest_and_hyperopt_example.ipynb Cell 3'\u001b[0m in \u001b[0;36m<cell line: 4>\u001b[0;34m()\u001b[0m\n\u001b[1;32m      <a href='vscode-notebook-cell://ssh-remote%2B192.168.193.1/home/raphael/PycharmProjects/lazyft_lib/backtest_and_hyperopt_example.ipynb#ch0000002vscode-remote?line=0'>1</a>\u001b[0m \u001b[39mimport\u001b[39;00m \u001b[39mpandas\u001b[39;00m \u001b[39mas\u001b[39;00m \u001b[39mpd\u001b[39;00m\n\u001b[0;32m----> <a href='vscode-notebook-cell://ssh-remote%2B192.168.193.1/home/raphael/PycharmProjects/lazyft_lib/backtest_and_hyperopt_example.ipynb#ch0000002vscode-remote?line=3'>4</a>\u001b[0m \u001b[39mfrom\u001b[39;00m \u001b[39mlazyft\u001b[39;00m \u001b[39mimport\u001b[39;00m backtest, paths, remote\n\u001b[1;32m      <a href='vscode-notebook-cell://ssh-remote%2B192.168.193.1/home/raphael/PycharmProjects/lazyft_lib/backtest_and_hyperopt_example.ipynb#ch0000002vscode-remote?line=4'>5</a>\u001b[0m \u001b[39mfrom\u001b[39;00m \u001b[39mlazyft\u001b[39;00m\u001b[39m.\u001b[39;00m\u001b[39mbacktest\u001b[39;00m\u001b[39m.\u001b[39;00m\u001b[39mrunner\u001b[39;00m \u001b[39mimport\u001b[39;00m BacktestMultiRunner\n\u001b[1;32m      <a href='vscode-notebook-cell://ssh-remote%2B192.168.193.1/home/raphael/PycharmProjects/lazyft_lib/backtest_and_hyperopt_example.ipynb#ch0000002vscode-remote?line=5'>6</a>\u001b[0m \u001b[39mfrom\u001b[39;00m \u001b[39mlazyft\u001b[39;00m\u001b[39m.\u001b[39;00m\u001b[39mconfig\u001b[39;00m \u001b[39mimport\u001b[39;00m Config\n",
      "File \u001b[0;32m~/PycharmProjects/lazyft_lib/lazyft/remote.py:14\u001b[0m, in \u001b[0;36m<module>\u001b[0;34m\u001b[0m\n\u001b[1;32m     <a href='file:///home/raphael/PycharmProjects/lazyft_lib/lazyft/remote.py?line=11'>12</a>\u001b[0m \u001b[39mfrom\u001b[39;00m \u001b[39mlazyft\u001b[39;00m \u001b[39mimport\u001b[39;00m logger, paths\n\u001b[1;32m     <a href='file:///home/raphael/PycharmProjects/lazyft_lib/lazyft/remote.py?line=12'>13</a>\u001b[0m \u001b[39mfrom\u001b[39;00m \u001b[39mlazyft\u001b[39;00m\u001b[39m.\u001b[39;00m\u001b[39mconfig\u001b[39;00m \u001b[39mimport\u001b[39;00m Config\n\u001b[0;32m---> <a href='file:///home/raphael/PycharmProjects/lazyft_lib/lazyft/remote.py?line=13'>14</a>\u001b[0m \u001b[39mfrom\u001b[39;00m \u001b[39mlazyft\u001b[39;00m\u001b[39m.\u001b[39;00m\u001b[39mmodels\u001b[39;00m \u001b[39mimport\u001b[39;00m StrategyBackup\n\u001b[1;32m     <a href='file:///home/raphael/PycharmProjects/lazyft_lib/lazyft/remote.py?line=14'>15</a>\u001b[0m \u001b[39mfrom\u001b[39;00m \u001b[39mlazyft\u001b[39;00m\u001b[39m.\u001b[39;00m\u001b[39mmodels\u001b[39;00m\u001b[39m.\u001b[39;00m\u001b[39mremote\u001b[39;00m \u001b[39mimport\u001b[39;00m Environment, RemoteBotInfo, RemotePreset\n\u001b[1;32m     <a href='file:///home/raphael/PycharmProjects/lazyft_lib/lazyft/remote.py?line=15'>16</a>\u001b[0m \u001b[39mfrom\u001b[39;00m \u001b[39mlazyft\u001b[39;00m\u001b[39m.\u001b[39;00m\u001b[39mreports\u001b[39;00m \u001b[39mimport\u001b[39;00m get_hyperopt_repo\n",
      "File \u001b[0;32m~/PycharmProjects/lazyft_lib/lazyft/models/__init__.py:7\u001b[0m, in \u001b[0;36m<module>\u001b[0;34m\u001b[0m\n\u001b[1;32m      <a href='file:///home/raphael/PycharmProjects/lazyft_lib/lazyft/models/__init__.py?line=2'>3</a>\u001b[0m \u001b[39mfrom\u001b[39;00m \u001b[39msqlmodel\u001b[39;00m \u001b[39mimport\u001b[39;00m SQLModel\n\u001b[1;32m      <a href='file:///home/raphael/PycharmProjects/lazyft_lib/lazyft/models/__init__.py?line=4'>5</a>\u001b[0m \u001b[39mfrom\u001b[39;00m \u001b[39mlazyft\u001b[39;00m\u001b[39m.\u001b[39;00m\u001b[39mdatabase\u001b[39;00m \u001b[39mimport\u001b[39;00m engine\n\u001b[0;32m----> <a href='file:///home/raphael/PycharmProjects/lazyft_lib/lazyft/models/__init__.py?line=6'>7</a>\u001b[0m \u001b[39mfrom\u001b[39;00m \u001b[39m.\u001b[39;00m\u001b[39mbacktest\u001b[39;00m \u001b[39mimport\u001b[39;00m BacktestPerformance, BacktestReport\n\u001b[1;32m      <a href='file:///home/raphael/PycharmProjects/lazyft_lib/lazyft/models/__init__.py?line=7'>8</a>\u001b[0m \u001b[39mfrom\u001b[39;00m \u001b[39m.\u001b[39;00m\u001b[39mbase\u001b[39;00m \u001b[39mimport\u001b[39;00m PerformanceBase, ReportBase\n\u001b[1;32m      <a href='file:///home/raphael/PycharmProjects/lazyft_lib/lazyft/models/__init__.py?line=8'>9</a>\u001b[0m \u001b[39mfrom\u001b[39;00m \u001b[39m.\u001b[39;00m\u001b[39mhyperopt\u001b[39;00m \u001b[39mimport\u001b[39;00m HyperoptPerformance, HyperoptReport\n",
      "File \u001b[0;32m~/PycharmProjects/lazyft_lib/lazyft/models/backtest.py:23\u001b[0m, in \u001b[0;36m<module>\u001b[0;34m\u001b[0m\n\u001b[1;32m     <a href='file:///home/raphael/PycharmProjects/lazyft_lib/lazyft/models/backtest.py?line=15'>16</a>\u001b[0m \u001b[39mfrom\u001b[39;00m \u001b[39mlazyft\u001b[39;00m\u001b[39m.\u001b[39;00m\u001b[39mdatabase\u001b[39;00m \u001b[39mimport\u001b[39;00m engine\n\u001b[1;32m     <a href='file:///home/raphael/PycharmProjects/lazyft_lib/lazyft/models/backtest.py?line=16'>17</a>\u001b[0m \u001b[39mfrom\u001b[39;00m \u001b[39mlazyft\u001b[39;00m\u001b[39m.\u001b[39;00m\u001b[39mloss_functions\u001b[39;00m \u001b[39mimport\u001b[39;00m (\n\u001b[1;32m     <a href='file:///home/raphael/PycharmProjects/lazyft_lib/lazyft/models/backtest.py?line=17'>18</a>\u001b[0m     roi_and_profit_hyperopt_loss,\n\u001b[1;32m     <a href='file:///home/raphael/PycharmProjects/lazyft_lib/lazyft/models/backtest.py?line=18'>19</a>\u001b[0m     sharpe_hyperopt_loss,\n\u001b[1;32m     <a href='file:///home/raphael/PycharmProjects/lazyft_lib/lazyft/models/backtest.py?line=19'>20</a>\u001b[0m     sortino_daily,\n\u001b[1;32m     <a href='file:///home/raphael/PycharmProjects/lazyft_lib/lazyft/models/backtest.py?line=20'>21</a>\u001b[0m     win_ratio_and_profit_ratio_loss,\n\u001b[1;32m     <a href='file:///home/raphael/PycharmProjects/lazyft_lib/lazyft/models/backtest.py?line=21'>22</a>\u001b[0m )\n\u001b[0;32m---> <a href='file:///home/raphael/PycharmProjects/lazyft_lib/lazyft/models/backtest.py?line=22'>23</a>\u001b[0m \u001b[39mfrom\u001b[39;00m \u001b[39mlazyft\u001b[39;00m\u001b[39m.\u001b[39;00m\u001b[39mmodels\u001b[39;00m \u001b[39mimport\u001b[39;00m PerformanceBase\n\u001b[1;32m     <a href='file:///home/raphael/PycharmProjects/lazyft_lib/lazyft/models/backtest.py?line=23'>24</a>\u001b[0m \u001b[39mfrom\u001b[39;00m \u001b[39mlazyft\u001b[39;00m\u001b[39m.\u001b[39;00m\u001b[39mmodels\u001b[39;00m\u001b[39m.\u001b[39;00m\u001b[39mbase\u001b[39;00m \u001b[39mimport\u001b[39;00m ReportBase\n\u001b[1;32m     <a href='file:///home/raphael/PycharmProjects/lazyft_lib/lazyft/models/backtest.py?line=24'>25</a>\u001b[0m \u001b[39mfrom\u001b[39;00m \u001b[39mlazyft\u001b[39;00m\u001b[39m.\u001b[39;00m\u001b[39mmodels\u001b[39;00m\u001b[39m.\u001b[39;00m\u001b[39mhyperopt\u001b[39;00m \u001b[39mimport\u001b[39;00m HyperoptReport\n",
      "\u001b[0;31mImportError\u001b[0m: cannot import name 'PerformanceBase' from partially initialized module 'lazyft.models' (most likely due to a circular import) (/home/raphael/PycharmProjects/lazyft_lib/lazyft/models/__init__.py)"
     ]
    }
   ],
   "source": [
    "import pandas as pd\n",
    "\n",
    "\n",
    "from lazyft import backtest, paths, remote\n",
    "from lazyft.backtest.runner import BacktestMultiRunner\n",
    "from lazyft.config import Config\n",
    "from lazyft.reports import get_backtest_repo, get_hyperopt_repo"
   ]
  },
  {
   "cell_type": "markdown",
   "metadata": {
    "pycharm": {
     "name": "#%% md\n"
    }
   },
   "source": [
    "# Prepare to backtest"
   ]
  },
  {
   "cell_type": "code",
   "execution_count": null,
   "metadata": {
    "pycharm": {
     "name": "#%%\n"
    }
   },
   "outputs": [],
   "source": [
    "from lazyft.command_parameters import BacktestParameters\n",
    "\n",
    "b_timerange = \"20220301-20220401\"\n",
    "# b_days = 30\n",
    "\n",
    "b_conf = Config('config.json')\n",
    "\n",
    "b_params = BacktestParameters(\n",
    "    timerange=b_timerange,\n",
    "    interval='1h',\n",
    "    config_path=b_conf,\n",
    "    # days=b_days,\n",
    "    # secrets_config=priv_bin_us,\n",
    "    # pairs=['PYR/USDT'],\n",
    "    stake_amount='unlimited',\n",
    "    # timeframe_detail='5m',\n",
    "    starting_balance=100,\n",
    "    max_open_trades=3,\n",
    "    download_data=True,\n",
    "    tag='',\n",
    ")\n",
    "print(len(b_params.pairs), 'pairs')\n",
    "# b_params.max_open_trades = len(b_params.pairs)\n",
    "# print('strategy:', b_params.strategies[0])\n",
    "print('max open trades:', b_params.max_open_trades)\n",
    "print('stake amount:', b_params.stake_amount)\n",
    "print('timeframe:', b_params.timerange)\n",
    "print('starting balance:', b_params.starting_balance)\n",
    "print('exchange:', b_params.config['exchange']['name'])\n",
    "print('timeframe:', b_params.interval)\n",
    "if b_params.ensemble:\n",
    "    print('ensemble:', b_params.ensemble)"
   ]
  },
  {
   "cell_type": "markdown",
   "metadata": {
    "pycharm": {
     "name": "#%% md\n"
    }
   },
   "source": [
    "## Run Backtest on Gumbo1"
   ]
  },
  {
   "cell_type": "code",
   "execution_count": null,
   "metadata": {
    "pycharm": {
     "name": "#%%\n"
    }
   },
   "outputs": [],
   "source": [
    "b_runner = b_params.run('Gumbo1', load_from_hash=False)\n",
    "b_runner.save()"
   ]
  },
  {
   "cell_type": "markdown",
   "metadata": {
    "pycharm": {
     "name": "#%% md\n"
    }
   },
   "source": [
    "## Show backtest"
   ]
  },
  {
   "cell_type": "code",
   "execution_count": null,
   "metadata": {
    "pycharm": {
     "name": "#%%\n"
    }
   },
   "outputs": [],
   "source": [
    "print(b_runner.report.report_text)"
   ]
  },
  {
   "cell_type": "code",
   "execution_count": null,
   "metadata": {
    "pycharm": {
     "name": "#%%\n"
    }
   },
   "outputs": [],
   "source": [
    "b_runner.report.df"
   ]
  },
  {
   "cell_type": "code",
   "execution_count": null,
   "metadata": {
    "pycharm": {
     "name": "#%%\n"
    }
   },
   "outputs": [],
   "source": [
    "b_runner.report.plot_weekly()"
   ]
  },
  {
   "cell_type": "markdown",
   "metadata": {
    "pycharm": {
     "name": "#%% md\n"
    }
   },
   "source": [
    "# Prepare to Hyperopt Gumbo1"
   ]
  },
  {
   "cell_type": "code",
   "execution_count": null,
   "metadata": {
    "pycharm": {
     "name": "#%%\n"
    }
   },
   "outputs": [],
   "source": [
    "from lazyft.command_parameters import HyperoptParameters\n",
    "\n",
    "h_days = 365\n",
    "h_conf = Config('config.json')\n",
    "starting_balance = 100\n",
    "h_timerange = \"20220101-20220331\"\n",
    "# VRA/USDT HTR/USDT ARX/USDT\n",
    "params = HyperoptParameters(\n",
    "    epochs=50,\n",
    "    config_path=h_conf,\n",
    "    #     secrets_config=str(priv_us),\n",
    "    # days=h_days,\n",
    "    timerange=h_timerange,\n",
    "    spaces=\"default\",\n",
    "    # loss='CalmarHyperOptLoss',\n",
    "    loss='SortinoHyperOptLoss',\n",
    "    interval=\"1h\",\n",
    "    # min_trades=int(days * 0.67 * 0.85),\n",
    "    min_trades=10,\n",
    "    #     pairs=pairlist.load_pairlist_from_id(1),\n",
    "    starting_balance=starting_balance,\n",
    "    max_open_trades=3,\n",
    "    stake_amount=\"unlimited\",\n",
    "    jobs=-2,\n",
    "    download_data=True,\n",
    "    # custom_spaces='atr_roi atr_stoploss',\n",
    "    # custom_settings={\n",
    "    #     'use_custom_stoploss': False,\n",
    "    # },\n",
    "    tag=\"\",\n",
    "    # seed=62581,\n",
    "    #     ensemble=ensemble\n",
    ")\n",
    "# params.tag = params.tag + ',' + params.pairs[0]\n",
    "# params.min_trades = len(params.pairs)\n",
    "print(\"\\ntimerange: \", params.timerange,\n",
    "      \"\\ndays: \", round(params.days * 0.667),\n",
    "      '\\nspaces:', params.spaces,\n",
    "      '\\nloss function:', params.loss,\n",
    "      '\\nepochs:', params.epochs,\n",
    "      '\\nmin trades:', params.min_trades,\n",
    "      '\\ntag:', params.tag,\n",
    "      '\\ninterval:', params.interval,\n",
    "      '\\nnum pairs:', len(params.pairs))\n",
    "# QuickTools.refresh_pairlist(us_conf, 100)"
   ]
  },
  {
   "cell_type": "markdown",
   "metadata": {
    "pycharm": {
     "name": "#%% md\n"
    }
   },
   "source": [
    "## Run Hyperopt"
   ]
  },
  {
   "cell_type": "code",
   "execution_count": null,
   "metadata": {
    "pycharm": {
     "name": "#%%\n"
    }
   },
   "outputs": [],
   "source": [
    "h_runner = params.run('Strategy', background=True)"
   ]
  },
  {
   "cell_type": "code",
   "execution_count": null,
   "metadata": {},
   "outputs": [],
   "source": [
    "print(get_hyperopt_repo().filter_by_id([2]).df().to_markdown())"
   ]
  },
  {
   "cell_type": "markdown",
   "metadata": {
    "pycharm": {
     "name": "#%% md\n"
    }
   },
   "source": [
    "## Show"
   ]
  },
  {
   "cell_type": "code",
   "execution_count": null,
   "metadata": {
    "pycharm": {
     "name": "#%%\n"
    }
   },
   "outputs": [],
   "source": [
    "h_runner.report.df"
   ]
  },
  {
   "cell_type": "markdown",
   "metadata": {
    "pycharm": {
     "name": "#%% md\n"
    }
   },
   "source": [
    "## Save"
   ]
  },
  {
   "cell_type": "code",
   "execution_count": null,
   "metadata": {
    "pycharm": {
     "name": "#%%\n"
    }
   },
   "outputs": [],
   "source": [
    "h_runner.save()"
   ]
  },
  {
   "cell_type": "markdown",
   "metadata": {
    "pycharm": {
     "name": "#%% md\n"
    }
   },
   "source": [
    "# Backtest Gumbo1 Using Hyperopted Parameters"
   ]
  },
  {
   "cell_type": "code",
   "execution_count": null,
   "metadata": {
    "pycharm": {
     "name": "#%%\n"
    }
   },
   "outputs": [],
   "source": [
    "bh_runner = b_params.run('Gumbo1-1', load_from_hash=False)"
   ]
  },
  {
   "cell_type": "code",
   "execution_count": null,
   "metadata": {
    "pycharm": {
     "name": "#%%\n"
    }
   },
   "outputs": [],
   "source": [
    "bh_runner.save()"
   ]
  },
  {
   "cell_type": "markdown",
   "metadata": {
    "pycharm": {
     "name": "#%% md\n"
    }
   },
   "source": [
    "## Show"
   ]
  },
  {
   "cell_type": "code",
   "execution_count": null,
   "metadata": {
    "pycharm": {
     "name": "#%%\n"
    }
   },
   "outputs": [],
   "source": [
    "print(bh_runner.report.report_text)"
   ]
  },
  {
   "cell_type": "code",
   "execution_count": null,
   "metadata": {
    "pycharm": {
     "name": "#%%\n"
    }
   },
   "outputs": [],
   "source": [
    "bh_runner.report.plot() "
   ]
  },
  {
   "cell_type": "markdown",
   "metadata": {
    "pycharm": {
     "name": "#%% md\n"
    }
   },
   "source": [
    "# Browse Repo"
   ]
  },
  {
   "cell_type": "code",
   "execution_count": null,
   "metadata": {
    "pycharm": {
     "name": "#%%\n"
    }
   },
   "outputs": [],
   "source": [
    "get_backtest_repo()"
   ]
  },
  {
   "cell_type": "code",
   "execution_count": null,
   "metadata": {
    "pycharm": {
     "name": "#%%\n"
    }
   },
   "outputs": [],
   "source": [
    "get_backtest_repo().df()"
   ]
  },
  {
   "cell_type": "code",
   "execution_count": null,
   "metadata": {
    "pycharm": {
     "name": "#%%\n"
    }
   },
   "outputs": [],
   "source": [
    "get_hyperopt_repo().first().backtest_data.keys()"
   ]
  },
  {
   "cell_type": "code",
   "execution_count": null,
   "metadata": {
    "pycharm": {
     "name": "#%%\n"
    }
   },
   "outputs": [],
   "source": []
  }
 ],
 "metadata": {
  "interpreter": {
   "hash": "036f0defbf74470483e9956a57df1a911c14217fff51544a7d13aa0cc01b517a"
  },
  "kernelspec": {
   "display_name": "Python 3.9.12 ('venv': venv)",
   "language": "python",
   "name": "python3"
  },
  "language_info": {
   "codemirror_mode": {
    "name": "ipython",
    "version": 3
   },
   "file_extension": ".py",
   "mimetype": "text/x-python",
   "name": "python",
   "nbconvert_exporter": "python",
   "pygments_lexer": "ipython3",
   "version": "3.10.4"
  },
  "orig_nbformat": 4
 },
 "nbformat": 4,
 "nbformat_minor": 2
}
