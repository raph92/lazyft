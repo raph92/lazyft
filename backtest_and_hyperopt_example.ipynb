{
 "cells": [
  {
   "cell_type": "code",
   "execution_count": null,
   "metadata": {},
   "outputs": [],
   "source": [
    "%pip install -e .\n",
    "%pip install -r requirements.txt\n",
    "%pip install nest_asyncio"
   ]
  },
  {
   "cell_type": "code",
   "execution_count": 2,
   "metadata": {},
   "outputs": [
    {
     "data": {
      "text/html": [
       "<style>.output_result { max-width:100% !important; }</style>"
      ],
      "text/plain": [
       "<IPython.core.display.HTML object>"
      ]
     },
     "metadata": {},
     "output_type": "display_data"
    }
   ],
   "source": [
    "import nest_asyncio\n",
    "\n",
    "# Allow backtests to run in notebook\n",
    "nest_asyncio.apply()\n",
    "\n",
    "# Increase width of console output for browsers\n",
    "from IPython.display import HTML, display\n",
    "\n",
    "display(HTML(\"<style>.output_result { max-width:100% !important; }</style>\"))"
   ]
  },
  {
   "cell_type": "code",
   "execution_count": 2,
   "metadata": {},
   "outputs": [
    {
     "name": "stdout",
     "output_type": "stream",
     "text": [
      "2022-05-30 20:19:34.761 | WARNING  | lazyft.remote:<module>:25 - /home/raphael/PycharmProjects/lazyft_lib/remotes.json does not exist. Remotes not loaded\n"
     ]
    }
   ],
   "source": [
    "import pandas as pd\n",
    "\n",
    "from lazyft import backtest, paths, remote\n",
    "from lazyft.backtest.runner import BacktestMultiRunner\n",
    "from lazyft.config import Config\n",
    "from lazyft.reports import get_backtest_repo, get_hyperopt_repo"
   ]
  },
  {
   "cell_type": "markdown",
   "metadata": {},
   "source": [
    "# Prepare to backtest"
   ]
  },
  {
   "cell_type": "code",
   "execution_count": 3,
   "metadata": {},
   "outputs": [
    {
     "name": "stdout",
     "output_type": "stream",
     "text": [
      "29 pairs\n",
      "max open trades: 3\n",
      "stake amount: unlimited\n",
      "timeframe: 20220301-20220401\n",
      "starting balance: 100\n",
      "exchange: binance\n",
      "timeframe: 1h\n"
     ]
    }
   ],
   "source": [
    "from lazyft.command_parameters import BacktestParameters\n",
    "\n",
    "b_timerange = \"20220301-20220401\"\n",
    "# b_days = 30\n",
    "\n",
    "b_conf = Config('config.json')\n",
    "\n",
    "b_params = BacktestParameters(\n",
    "    timerange=b_timerange,\n",
    "    interval='1h',\n",
    "    config_path=b_conf,\n",
    "    # days=b_days,\n",
    "    # secrets_config=priv_bin_us,\n",
    "    # pairs=['PYR/USDT'],\n",
    "    stake_amount='unlimited',\n",
    "    # timeframe_detail='5m',\n",
    "    starting_balance=100,\n",
    "    max_open_trades=3,\n",
    "    download_data=True,\n",
    "    tag='',\n",
    ")\n",
    "print(len(b_params.pairs), 'pairs')\n",
    "# b_params.max_open_trades = len(b_params.pairs)\n",
    "# print('strategy:', b_params.strategies[0])\n",
    "print('max open trades:', b_params.max_open_trades)\n",
    "print('stake amount:', b_params.stake_amount)\n",
    "print('timeframe:', b_params.timerange)\n",
    "print('starting balance:', b_params.starting_balance)\n",
    "print('exchange:', b_params.config['exchange']['name'])\n",
    "print('timeframe:', b_params.interval)\n",
    "if b_params.ensemble:\n",
    "    print('ensemble:', b_params.ensemble)"
   ]
  },
  {
   "cell_type": "markdown",
   "metadata": {},
   "source": [
    "## Run Backtest on Gumbo1"
   ]
  },
  {
   "cell_type": "code",
   "execution_count": 7,
   "metadata": {},
   "outputs": [
    {
     "name": "stdout",
     "output_type": "stream",
     "text": [
      "2022-05-30 20:48:22.326 | INFO     | lazyft.parameter_tools:remove_params_file:36 - Removing strategy params: /home/raphael/PycharmProjects/lazyft_lib/user_data/strategies/Gumbo1.json\n",
      "2022-05-30 20:48:22.340 | INFO     | lazyft.strategy:save_strategy_text_to_database:201 - Strategy Gumbo1 already in database...skipping\n",
      "2022-05-30 20:48:23.212 | INFO     | lazyft.downloader:download_missing_historical_data:315 - Checking if download is needed for ETH/USDT, TRX/USDT, GALA/USDT, EUR/USDT, ETC/USDT, RAD/USDT, APE/USDT, SOL/USDT, BTC/USDT, SAND/USDT, GMT/USDT, LRC/USDT, MATIC/USDT, BURGER/USDT, MANA/USDT, BUSD/USDT, XMR/USDT, FTM/USDT, YFII/USDT, DOGE/USDT, XRP/USDT, USDC/USDT, CHESS/USDT, SHIB/USDT, ROSE/USDT, DOT/USDT, NEAR/USDT, AVAX/USDT, ADA/USDT, BTC/USDT, ETH/USDT, BUSD/USDT, USDC/USDT, XRP/USDT, SOL/USDT, GMT/USDT, TRX/USDT, SAND/USDT, AVAX/USDT, FTM/USDT, APE/USDT, NEAR/USDT, DOT/USDT, ADA/USDT, YFII/USDT, MANA/USDT, GALA/USDT, SHIB/USDT, LRC/USDT, RAD/USDT, MATIC/USDT, BURGER/USDT, ETC/USDT, XMR/USDT, ROSE/USDT, DOGE/USDT, EUR/USDT, CHESS/USDT @ 1h interval(s)\n",
      "2022-05-30 20:48:23.295 | INFO     | lazyft.downloader:download_missing_historical_data:360 - Data is up to date\n",
      "2022-05-30 20:48:24.068 | INFO     | lazyft.backtest.runner:pre_execute:179 - Running command: \"freqtrade backtesting -c /home/raphael/PycharmProjects/lazyft_lib/configs/config.json --user-data-dir /home/raphael/PycharmProjects/lazyft_lib/user_data --strategy-path /home/raphael/PycharmProjects/lazyft_lib/user_data/strategies --timerange 20220301-20220401 --pairs BTC/USDT ETH/USDT BUSD/USDT USDC/USDT XRP/USDT SOL/USDT GMT/USDT TRX/USDT SAND/USDT AVAX/USDT FTM/USDT APE/USDT NEAR/USDT DOT/USDT ADA/USDT YFII/USDT MANA/USDT GALA/USDT SHIB/USDT LRC/USDT RAD/USDT MATIC/USDT BURGER/USDT ETC/USDT XMR/USDT ROSE/USDT DOGE/USDT EUR/USDT CHESS/USDT --starting-balance 100 --stake-amount unlimited --max-open-trades 3 --timeframe 1h --cache none -s Gumbo1\"\n",
      "2022-05-30 20:48:24.069 | INFO     | lazyft.backtest.runner:pre_execute:182 - Backtesting Gumbo1 with params id \"null\" - ae33447b44fd8a3f4eea6939c9937d73\n",
      "Result for strategy Gumbo1\n",
      "=========================================================== BACKTESTING REPORT ===========================================================\n",
      "|        Pair |   Buys |   Avg Profit % |   Cum Profit % |   Tot Profit USDT |   Tot Profit % |   Avg Duration |   Win  Draw  Loss  Win% |\n",
      "|-------------+--------+----------------+----------------+-------------------+----------------+----------------+-------------------------|\n",
      "|    FTM/USDT |      4 |           1.09 |           4.38 |             1.472 |           1.47 |       10:30:00 |     2     2     0   100 |\n",
      "|    GMT/USDT |      2 |           1.85 |           3.70 |             1.259 |           1.26 |       10:00:00 |     1     1     0   100 |\n",
      "|    RAD/USDT |      1 |           2.23 |           2.23 |             0.741 |           0.74 |        7:00:00 |     1     0     0   100 |\n",
      "|   GALA/USDT |      1 |           2.17 |           2.17 |             0.718 |           0.72 |        4:00:00 |     1     0     0   100 |\n",
      "| BURGER/USDT |      2 |           0.27 |           0.54 |             0.182 |           0.18 |        4:30:00 |     1     1     0   100 |\n",
      "|    BTC/USDT |      0 |           0.00 |           0.00 |             0.000 |           0.00 |           0:00 |     0     0     0     0 |\n",
      "|    ETH/USDT |      0 |           0.00 |           0.00 |             0.000 |           0.00 |           0:00 |     0     0     0     0 |\n",
      "|   BUSD/USDT |      0 |           0.00 |           0.00 |             0.000 |           0.00 |           0:00 |     0     0     0     0 |\n",
      "|   USDC/USDT |      0 |           0.00 |           0.00 |             0.000 |           0.00 |           0:00 |     0     0     0     0 |\n",
      "|    XRP/USDT |      0 |           0.00 |           0.00 |             0.000 |           0.00 |           0:00 |     0     0     0     0 |\n",
      "|    SOL/USDT |      0 |           0.00 |           0.00 |             0.000 |           0.00 |           0:00 |     0     0     0     0 |\n",
      "|    TRX/USDT |      0 |           0.00 |           0.00 |             0.000 |           0.00 |           0:00 |     0     0     0     0 |\n",
      "|   SAND/USDT |      0 |           0.00 |           0.00 |             0.000 |           0.00 |           0:00 |     0     0     0     0 |\n",
      "|   AVAX/USDT |      0 |           0.00 |           0.00 |             0.000 |           0.00 |           0:00 |     0     0     0     0 |\n",
      "|    APE/USDT |      0 |           0.00 |           0.00 |             0.000 |           0.00 |           0:00 |     0     0     0     0 |\n",
      "|   NEAR/USDT |      0 |           0.00 |           0.00 |             0.000 |           0.00 |           0:00 |     0     0     0     0 |\n",
      "|    DOT/USDT |      0 |           0.00 |           0.00 |             0.000 |           0.00 |           0:00 |     0     0     0     0 |\n",
      "|    ADA/USDT |      0 |           0.00 |           0.00 |             0.000 |           0.00 |           0:00 |     0     0     0     0 |\n",
      "|   YFII/USDT |      0 |           0.00 |           0.00 |             0.000 |           0.00 |           0:00 |     0     0     0     0 |\n",
      "|   MANA/USDT |      0 |           0.00 |           0.00 |             0.000 |           0.00 |           0:00 |     0     0     0     0 |\n",
      "|   SHIB/USDT |      0 |           0.00 |           0.00 |             0.000 |           0.00 |           0:00 |     0     0     0     0 |\n",
      "|    LRC/USDT |      0 |           0.00 |           0.00 |             0.000 |           0.00 |           0:00 |     0     0     0     0 |\n",
      "|  MATIC/USDT |      0 |           0.00 |           0.00 |             0.000 |           0.00 |           0:00 |     0     0     0     0 |\n",
      "|    ETC/USDT |      0 |           0.00 |           0.00 |             0.000 |           0.00 |           0:00 |     0     0     0     0 |\n",
      "|    XMR/USDT |      0 |           0.00 |           0.00 |             0.000 |           0.00 |           0:00 |     0     0     0     0 |\n",
      "|   ROSE/USDT |      0 |           0.00 |           0.00 |             0.000 |           0.00 |           0:00 |     0     0     0     0 |\n",
      "|   DOGE/USDT |      0 |           0.00 |           0.00 |             0.000 |           0.00 |           0:00 |     0     0     0     0 |\n",
      "|    EUR/USDT |      0 |           0.00 |           0.00 |             0.000 |           0.00 |           0:00 |     0     0     0     0 |\n",
      "|  CHESS/USDT |      0 |           0.00 |           0.00 |             0.000 |           0.00 |           0:00 |     0     0     0     0 |\n",
      "|       TOTAL |     10 |           1.30 |          13.01 |             4.371 |           4.37 |        8:12:00 |     6     4     0   100 |\n",
      "========================================================= ENTER TAG STATS ==========================================================\n",
      "|   TAG |   Buys |   Avg Profit % |   Cum Profit % |   Tot Profit USDT |   Tot Profit % |   Avg Duration |   Win  Draw  Loss  Win% |\n",
      "|-------+--------+----------------+----------------+-------------------+----------------+----------------+-------------------------|\n",
      "| TOTAL |     10 |           1.30 |          13.01 |             4.371 |           4.37 |        8:12:00 |     6     4     0   100 |\n",
      "===================================================== EXIT REASON STATS =====================================================\n",
      "|   Exit Reason |   Exits |   Win  Draws  Loss  Win% |   Avg Profit % |   Cum Profit % |   Tot Profit USDT |   Tot Profit % |\n",
      "|---------------+---------+--------------------------+----------------+----------------+-------------------+----------------|\n",
      "|           roi |      10 |      6     4     0   100 |            1.3 |          13.01 |             4.371 |           4.34 |\n",
      "====================================================== LEFT OPEN TRADES REPORT ======================================================\n",
      "|   Pair |   Buys |   Avg Profit % |   Cum Profit % |   Tot Profit USDT |   Tot Profit % |   Avg Duration |   Win  Draw  Loss  Win% |\n",
      "|--------+--------+----------------+----------------+-------------------+----------------+----------------+-------------------------|\n",
      "|  TOTAL |      0 |           0.00 |           0.00 |             0.000 |           0.00 |           0:00 |     0     0     0     0 |\n",
      "===================== SUMMARY METRICS =====================\n",
      "| Metric                      | Value                     |\n",
      "|-----------------------------+---------------------------|\n",
      "| Backtesting from            | 2022-03-01 00:00:00       |\n",
      "| Backtesting to              | 2022-04-01 00:00:00       |\n",
      "| Max open trades             | 3                         |\n",
      "|                             |                           |\n",
      "| Total/Daily Avg Trades      | 10 / 0.32                 |\n",
      "| Starting balance            | 100 USDT                  |\n",
      "| Final balance               | 104.371 USDT              |\n",
      "| Absolute profit             | 4.371 USDT                |\n",
      "| Total profit %              | 4.37%                     |\n",
      "| CAGR %                      | 65.49%                    |\n",
      "| Trades per day              | 0.32                      |\n",
      "| Avg. daily profit %         | 0.14%                     |\n",
      "| Avg. stake amount           | 33.434 USDT               |\n",
      "| Total trade volume          | 334.345 USDT              |\n",
      "|                             |                           |\n",
      "| Best Pair                   | FTM/USDT 4.38%            |\n",
      "| Worst Pair                  | BTC/USDT 0.00%            |\n",
      "| Best trade                  | GMT/USDT 3.70%            |\n",
      "| Worst trade                 | FTM/USDT -0.00%           |\n",
      "| Best day                    | 1.259 USDT                |\n",
      "| Worst day                   | 0 USDT                    |\n",
      "| Days win/draw/lose          | 5 / 16 / 0                |\n",
      "| Avg. Duration Winners       | 4:30:00                   |\n",
      "| Avg. Duration Loser         | 0:00:00                   |\n",
      "| Rejected Entry signals      | 31                        |\n",
      "| Entry/Exit Timeouts         | 0 / 0                     |\n",
      "|                             |                           |\n",
      "| Min balance                 | 0 USDT                    |\n",
      "| Max balance                 | 0 USDT                    |\n",
      "| Max % of account underwater | 0.00%                     |\n",
      "| Absolute Drawdown (Account) | 0.00%                     |\n",
      "| Absolute Drawdown           | 0 USDT                    |\n",
      "| Drawdown high               | 0 USDT                    |\n",
      "| Drawdown low                | 0 USDT                    |\n",
      "| Drawdown Start              | 1970-01-01 00:00:00+00:00 |\n",
      "| Drawdown End                | 1970-01-01 00:00:00+00:00 |\n",
      "| Market change               | 67.58%                    |\n",
      "===========================================================\n",
      "\n",
      "2022-05-30 20:48:25.495 | INFO     | lazyft.backtest.runner:on_finished:254 - Elapsed time: 1.43\n",
      "2022-05-30 20:48:25.505 | INFO     | lazyft.parameter_tools:remove_params_file:36 - Removing strategy params: /home/raphael/PycharmProjects/lazyft_lib/user_data/strategies/Gumbo1.json\n",
      "2022-05-30 20:48:25.506 | SUCCESS  | lazyft.backtest.runner:on_finished:258 - Backtest Gumbo1 finished successfully\n",
      "2022-05-30 20:48:25.507 | INFO     | lazyft.strategy:delete_temporary_strategy_backup_dir:267 - Temporary folder \"None\" does not exist...skipping\n",
      "2022-05-30 20:48:25.518 | INFO     | lazyft.backtest.runner:save:360 - Created report id 1: {'start_date': datetime.datetime(2022, 3, 1, 0, 0), 'end_date': datetime.datetime(2022, 4, 1, 0, 0), 'trades': 10, 'wins': 6, 'losses': 0, 'draws': 4, 'drawdown': 0.0, 'avg_duration': '8:12:00', 'profit_mean_pct': 0.013014717, 'profit_sum_pct': 13.01, 'profit_total_abs': 4.37115948, 'profit_total_pct': 0.0437, 'duration_avg': datetime.timedelta(seconds=29520)}\n"
     ]
    },
    {
     "data": {
      "text/plain": [
       "BacktestReport(date=datetime.datetime(2022, 5, 30, 20, 48, 25, 506573), session_id=None, tag='20220301-20220401', hyperopt_id='', strategy_hash='59eb4b984906f52dd73aaa7da1031e3c', id=1, hash='ae33447b44fd8a3f4eea6939c9937d73', ensemble='', backtest_file_str='backtest-result-2022-05-30_20-48-25.json', exchange='binance')"
      ]
     },
     "execution_count": 7,
     "metadata": {},
     "output_type": "execute_result"
    }
   ],
   "source": [
    "b_runner = b_params.run('Gumbo1', load_from_hash=False)\n",
    "b_runner.save()"
   ]
  },
  {
   "cell_type": "markdown",
   "metadata": {},
   "source": [
    "## Show backtest"
   ]
  },
  {
   "cell_type": "code",
   "execution_count": 8,
   "metadata": {},
   "outputs": [
    {
     "name": "stdout",
     "output_type": "stream",
     "text": [
      "Result for strategy Gumbo1 #1 | Hyperopt: False | Hyperopt id: \n",
      "=========================================================== BACKTESTING REPORT ===========================================================\n",
      "|        Pair |   Buys |   Avg Profit % |   Cum Profit % |   Tot Profit USDT |   Tot Profit % |   Avg Duration |   Win  Draw  Loss  Win% |\n",
      "|-------------+--------+----------------+----------------+-------------------+----------------+----------------+-------------------------|\n",
      "|    FTM/USDT |      4 |           1.09 |           4.38 |             1.472 |           1.47 |       10:30:00 |     2     2     0   100 |\n",
      "|    GMT/USDT |      2 |           1.85 |           3.70 |             1.259 |           1.26 |       10:00:00 |     1     1     0   100 |\n",
      "|    RAD/USDT |      1 |           2.23 |           2.23 |             0.741 |           0.74 |        7:00:00 |     1     0     0   100 |\n",
      "|   GALA/USDT |      1 |           2.17 |           2.17 |             0.718 |           0.72 |        4:00:00 |     1     0     0   100 |\n",
      "| BURGER/USDT |      2 |           0.27 |           0.54 |             0.182 |           0.18 |        4:30:00 |     1     1     0   100 |\n",
      "|    BTC/USDT |      0 |           0.00 |           0.00 |             0.000 |           0.00 |           0:00 |     0     0     0     0 |\n",
      "|    ETH/USDT |      0 |           0.00 |           0.00 |             0.000 |           0.00 |           0:00 |     0     0     0     0 |\n",
      "|   BUSD/USDT |      0 |           0.00 |           0.00 |             0.000 |           0.00 |           0:00 |     0     0     0     0 |\n",
      "|   USDC/USDT |      0 |           0.00 |           0.00 |             0.000 |           0.00 |           0:00 |     0     0     0     0 |\n",
      "|    XRP/USDT |      0 |           0.00 |           0.00 |             0.000 |           0.00 |           0:00 |     0     0     0     0 |\n",
      "|    SOL/USDT |      0 |           0.00 |           0.00 |             0.000 |           0.00 |           0:00 |     0     0     0     0 |\n",
      "|    TRX/USDT |      0 |           0.00 |           0.00 |             0.000 |           0.00 |           0:00 |     0     0     0     0 |\n",
      "|   SAND/USDT |      0 |           0.00 |           0.00 |             0.000 |           0.00 |           0:00 |     0     0     0     0 |\n",
      "|   AVAX/USDT |      0 |           0.00 |           0.00 |             0.000 |           0.00 |           0:00 |     0     0     0     0 |\n",
      "|    APE/USDT |      0 |           0.00 |           0.00 |             0.000 |           0.00 |           0:00 |     0     0     0     0 |\n",
      "|   NEAR/USDT |      0 |           0.00 |           0.00 |             0.000 |           0.00 |           0:00 |     0     0     0     0 |\n",
      "|    DOT/USDT |      0 |           0.00 |           0.00 |             0.000 |           0.00 |           0:00 |     0     0     0     0 |\n",
      "|    ADA/USDT |      0 |           0.00 |           0.00 |             0.000 |           0.00 |           0:00 |     0     0     0     0 |\n",
      "|   YFII/USDT |      0 |           0.00 |           0.00 |             0.000 |           0.00 |           0:00 |     0     0     0     0 |\n",
      "|   MANA/USDT |      0 |           0.00 |           0.00 |             0.000 |           0.00 |           0:00 |     0     0     0     0 |\n",
      "|   SHIB/USDT |      0 |           0.00 |           0.00 |             0.000 |           0.00 |           0:00 |     0     0     0     0 |\n",
      "|    LRC/USDT |      0 |           0.00 |           0.00 |             0.000 |           0.00 |           0:00 |     0     0     0     0 |\n",
      "|  MATIC/USDT |      0 |           0.00 |           0.00 |             0.000 |           0.00 |           0:00 |     0     0     0     0 |\n",
      "|    ETC/USDT |      0 |           0.00 |           0.00 |             0.000 |           0.00 |           0:00 |     0     0     0     0 |\n",
      "|    XMR/USDT |      0 |           0.00 |           0.00 |             0.000 |           0.00 |           0:00 |     0     0     0     0 |\n",
      "|   ROSE/USDT |      0 |           0.00 |           0.00 |             0.000 |           0.00 |           0:00 |     0     0     0     0 |\n",
      "|   DOGE/USDT |      0 |           0.00 |           0.00 |             0.000 |           0.00 |           0:00 |     0     0     0     0 |\n",
      "|    EUR/USDT |      0 |           0.00 |           0.00 |             0.000 |           0.00 |           0:00 |     0     0     0     0 |\n",
      "|  CHESS/USDT |      0 |           0.00 |           0.00 |             0.000 |           0.00 |           0:00 |     0     0     0     0 |\n",
      "|       TOTAL |     10 |           1.30 |          13.01 |             4.371 |           4.37 |        8:12:00 |     6     4     0   100 |\n",
      "===================================================== SELL REASON STATS =====================================================\n",
      "|   Exit Reason |   Exits |   Win  Draws  Loss  Win% |   Avg Profit % |   Cum Profit % |   Tot Profit USDT |   Tot Profit % |\n",
      "|---------------+---------+--------------------------+----------------+----------------+-------------------+----------------|\n",
      "|           roi |      10 |      6     4     0   100 |            1.3 |          13.01 |             4.371 |           4.34 |\n",
      "====================================================== LEFT OPEN TRADES REPORT ======================================================\n",
      "|   Pair |   Buys |   Avg Profit % |   Cum Profit % |   Tot Profit USDT |   Tot Profit % |   Avg Duration |   Win  Draw  Loss  Win% |\n",
      "|--------+--------+----------------+----------------+-------------------+----------------+----------------+-------------------------|\n",
      "|  TOTAL |      0 |           0.00 |           0.00 |             0.000 |           0.00 |           0:00 |     0     0     0     0 |\n",
      "===================== SUMMARY METRICS =====================\n",
      "| Metric                      | Value                     |\n",
      "|-----------------------------+---------------------------|\n",
      "| Backtesting from            | 2022-03-01 00:00:00       |\n",
      "| Backtesting to              | 2022-04-01 00:00:00       |\n",
      "| Max open trades             | 3                         |\n",
      "|                             |                           |\n",
      "| Total/Daily Avg Trades      | 10 / 0.32                 |\n",
      "| Starting balance            | 100 USDT                  |\n",
      "| Final balance               | 104.371 USDT              |\n",
      "| Absolute profit             | 4.371 USDT                |\n",
      "| Total profit %              | 4.37%                     |\n",
      "| CAGR %                      | 65.49%                    |\n",
      "| Trades per day              | 0.32                      |\n",
      "| Avg. daily profit %         | 0.14%                     |\n",
      "| Avg. stake amount           | 33.434 USDT               |\n",
      "| Total trade volume          | 334.345 USDT              |\n",
      "|                             |                           |\n",
      "| Best Pair                   | FTM/USDT 4.38%            |\n",
      "| Worst Pair                  | BTC/USDT 0.00%            |\n",
      "| Best trade                  | GMT/USDT 3.70%            |\n",
      "| Worst trade                 | FTM/USDT -0.00%           |\n",
      "| Best day                    | 1.259 USDT                |\n",
      "| Worst day                   | 0 USDT                    |\n",
      "| Days win/draw/lose          | 5 / 16 / 0                |\n",
      "| Avg. Duration Winners       | 4:30:00                   |\n",
      "| Avg. Duration Loser         | 0:00:00                   |\n",
      "| Rejected Entry signals      | 31                        |\n",
      "| Entry/Exit Timeouts         | 0 / 0                     |\n",
      "|                             |                           |\n",
      "| Min balance                 | 0 USDT                    |\n",
      "| Max balance                 | 0 USDT                    |\n",
      "| Max % of account underwater | 0.00%                     |\n",
      "| Absolute Drawdown (Account) | 0.00%                     |\n",
      "| Absolute Drawdown           | 0 USDT                    |\n",
      "| Drawdown high               | 0 USDT                    |\n",
      "| Drawdown low                | 0 USDT                    |\n",
      "| Drawdown Start              | 1970-01-01 00:00:00+00:00 |\n",
      "| Drawdown End                | 1970-01-01 00:00:00+00:00 |\n",
      "| Market change               | 67.58%                    |\n",
      "===========================================================\n",
      "\n"
     ]
    }
   ],
   "source": [
    "print(b_runner.report.report_text)"
   ]
  },
  {
   "cell_type": "code",
   "execution_count": 18,
   "metadata": {},
   "outputs": [
    {
     "data": {
      "text/html": [
       "<div>\n",
       "<style scoped>\n",
       "    .dataframe tbody tr th:only-of-type {\n",
       "        vertical-align: middle;\n",
       "    }\n",
       "\n",
       "    .dataframe tbody tr th {\n",
       "        vertical-align: top;\n",
       "    }\n",
       "\n",
       "    .dataframe thead th {\n",
       "        text-align: right;\n",
       "    }\n",
       "</style>\n",
       "<table border=\"1\" class=\"dataframe\">\n",
       "  <thead>\n",
       "    <tr style=\"text-align: right;\">\n",
       "      <th></th>\n",
       "      <th>id</th>\n",
       "      <th>strategy</th>\n",
       "      <th>hyperopt_id</th>\n",
       "      <th>date</th>\n",
       "      <th>exchange</th>\n",
       "      <th>m_o_t</th>\n",
       "      <th>stake</th>\n",
       "      <th>balance</th>\n",
       "      <th>n_pairlist</th>\n",
       "      <th>avg_profit_pct</th>\n",
       "      <th>avg_duration</th>\n",
       "      <th>wins</th>\n",
       "      <th>losses</th>\n",
       "      <th>sortino</th>\n",
       "      <th>drawdown</th>\n",
       "      <th>total_profit_pct</th>\n",
       "      <th>total_profit</th>\n",
       "      <th>trades</th>\n",
       "      <th>days</th>\n",
       "      <th>tag</th>\n",
       "    </tr>\n",
       "  </thead>\n",
       "  <tbody>\n",
       "    <tr>\n",
       "      <th>0</th>\n",
       "      <td>None</td>\n",
       "      <td>Gumbo1</td>\n",
       "      <td></td>\n",
       "      <td>05/30/22 19:59:33</td>\n",
       "      <td>binance</td>\n",
       "      <td>3</td>\n",
       "      <td>unlimited</td>\n",
       "      <td>100</td>\n",
       "      <td>30</td>\n",
       "      <td>-0.020</td>\n",
       "      <td>20:35:00</td>\n",
       "      <td>6</td>\n",
       "      <td>2</td>\n",
       "      <td>-3.692</td>\n",
       "      <td>0.111</td>\n",
       "      <td>-0.078</td>\n",
       "      <td>-7.810</td>\n",
       "      <td>12</td>\n",
       "      <td>31</td>\n",
       "      <td>20220301-20220401</td>\n",
       "    </tr>\n",
       "  </tbody>\n",
       "</table>\n",
       "</div>"
      ],
      "text/plain": [
       "     id strategy hyperopt_id               date exchange  m_o_t      stake  \\\n",
       "0  None   Gumbo1              05/30/22 19:59:33  binance      3  unlimited   \n",
       "\n",
       "   balance  n_pairlist  avg_profit_pct avg_duration  wins  losses  sortino  \\\n",
       "0      100          30          -0.020     20:35:00     6       2   -3.692   \n",
       "\n",
       "   drawdown  total_profit_pct  total_profit  trades  days                tag  \n",
       "0     0.111            -0.078        -7.810      12    31  20220301-20220401  "
      ]
     },
     "execution_count": 18,
     "metadata": {},
     "output_type": "execute_result"
    }
   ],
   "source": [
    "b_runner.report.df"
   ]
  },
  {
   "cell_type": "code",
   "execution_count": 21,
   "metadata": {},
   "outputs": [
    {
     "data": {
      "application/vnd.plotly.v1+json": {
       "config": {
        "plotlyServerURL": "https://plot.ly"
       },
       "data": [
        {
         "hovertemplate": "close_date=%{x}<br>profit_abs=%{text}<extra></extra>",
         "legendgroup": "",
         "line": {
          "color": "#636efa",
          "dash": "solid"
         },
         "marker": {
          "symbol": "circle"
         },
         "mode": "markers+lines+text",
         "name": "",
         "orientation": "v",
         "showlegend": false,
         "text": [
          0.72,
          -4.27,
          -5.37,
          1.11
         ],
         "type": "scatter",
         "x": [
          "2022-03-06T00:00:00+00:00",
          "2022-03-13T00:00:00+00:00",
          "2022-03-20T00:00:00+00:00",
          "2022-03-27T00:00:00+00:00"
         ],
         "xaxis": "x",
         "y": [
          0.72,
          -4.27,
          -5.37,
          1.11
         ],
         "yaxis": "y"
        }
       ],
       "layout": {
        "legend": {
         "tracegroupgap": 0
        },
        "template": {
         "data": {
          "bar": [
           {
            "error_x": {
             "color": "#2a3f5f"
            },
            "error_y": {
             "color": "#2a3f5f"
            },
            "marker": {
             "line": {
              "color": "#E5ECF6",
              "width": 0.5
             },
             "pattern": {
              "fillmode": "overlay",
              "size": 10,
              "solidity": 0.2
             }
            },
            "type": "bar"
           }
          ],
          "barpolar": [
           {
            "marker": {
             "line": {
              "color": "#E5ECF6",
              "width": 0.5
             },
             "pattern": {
              "fillmode": "overlay",
              "size": 10,
              "solidity": 0.2
             }
            },
            "type": "barpolar"
           }
          ],
          "carpet": [
           {
            "aaxis": {
             "endlinecolor": "#2a3f5f",
             "gridcolor": "white",
             "linecolor": "white",
             "minorgridcolor": "white",
             "startlinecolor": "#2a3f5f"
            },
            "baxis": {
             "endlinecolor": "#2a3f5f",
             "gridcolor": "white",
             "linecolor": "white",
             "minorgridcolor": "white",
             "startlinecolor": "#2a3f5f"
            },
            "type": "carpet"
           }
          ],
          "choropleth": [
           {
            "colorbar": {
             "outlinewidth": 0,
             "ticks": ""
            },
            "type": "choropleth"
           }
          ],
          "contour": [
           {
            "colorbar": {
             "outlinewidth": 0,
             "ticks": ""
            },
            "colorscale": [
             [
              0,
              "#0d0887"
             ],
             [
              0.1111111111111111,
              "#46039f"
             ],
             [
              0.2222222222222222,
              "#7201a8"
             ],
             [
              0.3333333333333333,
              "#9c179e"
             ],
             [
              0.4444444444444444,
              "#bd3786"
             ],
             [
              0.5555555555555556,
              "#d8576b"
             ],
             [
              0.6666666666666666,
              "#ed7953"
             ],
             [
              0.7777777777777778,
              "#fb9f3a"
             ],
             [
              0.8888888888888888,
              "#fdca26"
             ],
             [
              1,
              "#f0f921"
             ]
            ],
            "type": "contour"
           }
          ],
          "contourcarpet": [
           {
            "colorbar": {
             "outlinewidth": 0,
             "ticks": ""
            },
            "type": "contourcarpet"
           }
          ],
          "heatmap": [
           {
            "colorbar": {
             "outlinewidth": 0,
             "ticks": ""
            },
            "colorscale": [
             [
              0,
              "#0d0887"
             ],
             [
              0.1111111111111111,
              "#46039f"
             ],
             [
              0.2222222222222222,
              "#7201a8"
             ],
             [
              0.3333333333333333,
              "#9c179e"
             ],
             [
              0.4444444444444444,
              "#bd3786"
             ],
             [
              0.5555555555555556,
              "#d8576b"
             ],
             [
              0.6666666666666666,
              "#ed7953"
             ],
             [
              0.7777777777777778,
              "#fb9f3a"
             ],
             [
              0.8888888888888888,
              "#fdca26"
             ],
             [
              1,
              "#f0f921"
             ]
            ],
            "type": "heatmap"
           }
          ],
          "heatmapgl": [
           {
            "colorbar": {
             "outlinewidth": 0,
             "ticks": ""
            },
            "colorscale": [
             [
              0,
              "#0d0887"
             ],
             [
              0.1111111111111111,
              "#46039f"
             ],
             [
              0.2222222222222222,
              "#7201a8"
             ],
             [
              0.3333333333333333,
              "#9c179e"
             ],
             [
              0.4444444444444444,
              "#bd3786"
             ],
             [
              0.5555555555555556,
              "#d8576b"
             ],
             [
              0.6666666666666666,
              "#ed7953"
             ],
             [
              0.7777777777777778,
              "#fb9f3a"
             ],
             [
              0.8888888888888888,
              "#fdca26"
             ],
             [
              1,
              "#f0f921"
             ]
            ],
            "type": "heatmapgl"
           }
          ],
          "histogram": [
           {
            "marker": {
             "pattern": {
              "fillmode": "overlay",
              "size": 10,
              "solidity": 0.2
             }
            },
            "type": "histogram"
           }
          ],
          "histogram2d": [
           {
            "colorbar": {
             "outlinewidth": 0,
             "ticks": ""
            },
            "colorscale": [
             [
              0,
              "#0d0887"
             ],
             [
              0.1111111111111111,
              "#46039f"
             ],
             [
              0.2222222222222222,
              "#7201a8"
             ],
             [
              0.3333333333333333,
              "#9c179e"
             ],
             [
              0.4444444444444444,
              "#bd3786"
             ],
             [
              0.5555555555555556,
              "#d8576b"
             ],
             [
              0.6666666666666666,
              "#ed7953"
             ],
             [
              0.7777777777777778,
              "#fb9f3a"
             ],
             [
              0.8888888888888888,
              "#fdca26"
             ],
             [
              1,
              "#f0f921"
             ]
            ],
            "type": "histogram2d"
           }
          ],
          "histogram2dcontour": [
           {
            "colorbar": {
             "outlinewidth": 0,
             "ticks": ""
            },
            "colorscale": [
             [
              0,
              "#0d0887"
             ],
             [
              0.1111111111111111,
              "#46039f"
             ],
             [
              0.2222222222222222,
              "#7201a8"
             ],
             [
              0.3333333333333333,
              "#9c179e"
             ],
             [
              0.4444444444444444,
              "#bd3786"
             ],
             [
              0.5555555555555556,
              "#d8576b"
             ],
             [
              0.6666666666666666,
              "#ed7953"
             ],
             [
              0.7777777777777778,
              "#fb9f3a"
             ],
             [
              0.8888888888888888,
              "#fdca26"
             ],
             [
              1,
              "#f0f921"
             ]
            ],
            "type": "histogram2dcontour"
           }
          ],
          "mesh3d": [
           {
            "colorbar": {
             "outlinewidth": 0,
             "ticks": ""
            },
            "type": "mesh3d"
           }
          ],
          "parcoords": [
           {
            "line": {
             "colorbar": {
              "outlinewidth": 0,
              "ticks": ""
             }
            },
            "type": "parcoords"
           }
          ],
          "pie": [
           {
            "automargin": true,
            "type": "pie"
           }
          ],
          "scatter": [
           {
            "fillpattern": {
             "fillmode": "overlay",
             "size": 10,
             "solidity": 0.2
            },
            "type": "scatter"
           }
          ],
          "scatter3d": [
           {
            "line": {
             "colorbar": {
              "outlinewidth": 0,
              "ticks": ""
             }
            },
            "marker": {
             "colorbar": {
              "outlinewidth": 0,
              "ticks": ""
             }
            },
            "type": "scatter3d"
           }
          ],
          "scattercarpet": [
           {
            "marker": {
             "colorbar": {
              "outlinewidth": 0,
              "ticks": ""
             }
            },
            "type": "scattercarpet"
           }
          ],
          "scattergeo": [
           {
            "marker": {
             "colorbar": {
              "outlinewidth": 0,
              "ticks": ""
             }
            },
            "type": "scattergeo"
           }
          ],
          "scattergl": [
           {
            "marker": {
             "colorbar": {
              "outlinewidth": 0,
              "ticks": ""
             }
            },
            "type": "scattergl"
           }
          ],
          "scattermapbox": [
           {
            "marker": {
             "colorbar": {
              "outlinewidth": 0,
              "ticks": ""
             }
            },
            "type": "scattermapbox"
           }
          ],
          "scatterpolar": [
           {
            "marker": {
             "colorbar": {
              "outlinewidth": 0,
              "ticks": ""
             }
            },
            "type": "scatterpolar"
           }
          ],
          "scatterpolargl": [
           {
            "marker": {
             "colorbar": {
              "outlinewidth": 0,
              "ticks": ""
             }
            },
            "type": "scatterpolargl"
           }
          ],
          "scatterternary": [
           {
            "marker": {
             "colorbar": {
              "outlinewidth": 0,
              "ticks": ""
             }
            },
            "type": "scatterternary"
           }
          ],
          "surface": [
           {
            "colorbar": {
             "outlinewidth": 0,
             "ticks": ""
            },
            "colorscale": [
             [
              0,
              "#0d0887"
             ],
             [
              0.1111111111111111,
              "#46039f"
             ],
             [
              0.2222222222222222,
              "#7201a8"
             ],
             [
              0.3333333333333333,
              "#9c179e"
             ],
             [
              0.4444444444444444,
              "#bd3786"
             ],
             [
              0.5555555555555556,
              "#d8576b"
             ],
             [
              0.6666666666666666,
              "#ed7953"
             ],
             [
              0.7777777777777778,
              "#fb9f3a"
             ],
             [
              0.8888888888888888,
              "#fdca26"
             ],
             [
              1,
              "#f0f921"
             ]
            ],
            "type": "surface"
           }
          ],
          "table": [
           {
            "cells": {
             "fill": {
              "color": "#EBF0F8"
             },
             "line": {
              "color": "white"
             }
            },
            "header": {
             "fill": {
              "color": "#C8D4E3"
             },
             "line": {
              "color": "white"
             }
            },
            "type": "table"
           }
          ]
         },
         "layout": {
          "annotationdefaults": {
           "arrowcolor": "#2a3f5f",
           "arrowhead": 0,
           "arrowwidth": 1
          },
          "autotypenumbers": "strict",
          "coloraxis": {
           "colorbar": {
            "outlinewidth": 0,
            "ticks": ""
           }
          },
          "colorscale": {
           "diverging": [
            [
             0,
             "#8e0152"
            ],
            [
             0.1,
             "#c51b7d"
            ],
            [
             0.2,
             "#de77ae"
            ],
            [
             0.3,
             "#f1b6da"
            ],
            [
             0.4,
             "#fde0ef"
            ],
            [
             0.5,
             "#f7f7f7"
            ],
            [
             0.6,
             "#e6f5d0"
            ],
            [
             0.7,
             "#b8e186"
            ],
            [
             0.8,
             "#7fbc41"
            ],
            [
             0.9,
             "#4d9221"
            ],
            [
             1,
             "#276419"
            ]
           ],
           "sequential": [
            [
             0,
             "#0d0887"
            ],
            [
             0.1111111111111111,
             "#46039f"
            ],
            [
             0.2222222222222222,
             "#7201a8"
            ],
            [
             0.3333333333333333,
             "#9c179e"
            ],
            [
             0.4444444444444444,
             "#bd3786"
            ],
            [
             0.5555555555555556,
             "#d8576b"
            ],
            [
             0.6666666666666666,
             "#ed7953"
            ],
            [
             0.7777777777777778,
             "#fb9f3a"
            ],
            [
             0.8888888888888888,
             "#fdca26"
            ],
            [
             1,
             "#f0f921"
            ]
           ],
           "sequentialminus": [
            [
             0,
             "#0d0887"
            ],
            [
             0.1111111111111111,
             "#46039f"
            ],
            [
             0.2222222222222222,
             "#7201a8"
            ],
            [
             0.3333333333333333,
             "#9c179e"
            ],
            [
             0.4444444444444444,
             "#bd3786"
            ],
            [
             0.5555555555555556,
             "#d8576b"
            ],
            [
             0.6666666666666666,
             "#ed7953"
            ],
            [
             0.7777777777777778,
             "#fb9f3a"
            ],
            [
             0.8888888888888888,
             "#fdca26"
            ],
            [
             1,
             "#f0f921"
            ]
           ]
          },
          "colorway": [
           "#636efa",
           "#EF553B",
           "#00cc96",
           "#ab63fa",
           "#FFA15A",
           "#19d3f3",
           "#FF6692",
           "#B6E880",
           "#FF97FF",
           "#FECB52"
          ],
          "font": {
           "color": "#2a3f5f"
          },
          "geo": {
           "bgcolor": "white",
           "lakecolor": "white",
           "landcolor": "#E5ECF6",
           "showlakes": true,
           "showland": true,
           "subunitcolor": "white"
          },
          "hoverlabel": {
           "align": "left"
          },
          "hovermode": "closest",
          "mapbox": {
           "style": "light"
          },
          "paper_bgcolor": "white",
          "plot_bgcolor": "#E5ECF6",
          "polar": {
           "angularaxis": {
            "gridcolor": "white",
            "linecolor": "white",
            "ticks": ""
           },
           "bgcolor": "#E5ECF6",
           "radialaxis": {
            "gridcolor": "white",
            "linecolor": "white",
            "ticks": ""
           }
          },
          "scene": {
           "xaxis": {
            "backgroundcolor": "#E5ECF6",
            "gridcolor": "white",
            "gridwidth": 2,
            "linecolor": "white",
            "showbackground": true,
            "ticks": "",
            "zerolinecolor": "white"
           },
           "yaxis": {
            "backgroundcolor": "#E5ECF6",
            "gridcolor": "white",
            "gridwidth": 2,
            "linecolor": "white",
            "showbackground": true,
            "ticks": "",
            "zerolinecolor": "white"
           },
           "zaxis": {
            "backgroundcolor": "#E5ECF6",
            "gridcolor": "white",
            "gridwidth": 2,
            "linecolor": "white",
            "showbackground": true,
            "ticks": "",
            "zerolinecolor": "white"
           }
          },
          "shapedefaults": {
           "line": {
            "color": "#2a3f5f"
           }
          },
          "ternary": {
           "aaxis": {
            "gridcolor": "white",
            "linecolor": "white",
            "ticks": ""
           },
           "baxis": {
            "gridcolor": "white",
            "linecolor": "white",
            "ticks": ""
           },
           "bgcolor": "#E5ECF6",
           "caxis": {
            "gridcolor": "white",
            "linecolor": "white",
            "ticks": ""
           }
          },
          "title": {
           "x": 0.05
          },
          "xaxis": {
           "automargin": true,
           "gridcolor": "white",
           "linecolor": "white",
           "ticks": "",
           "title": {
            "standoff": 15
           },
           "zerolinecolor": "white",
           "zerolinewidth": 2
          },
          "yaxis": {
           "automargin": true,
           "gridcolor": "white",
           "linecolor": "white",
           "ticks": "",
           "title": {
            "standoff": 15
           },
           "zerolinecolor": "white",
           "zerolinewidth": 2
          }
         }
        },
        "title": {
         "text": "Weekly Profit Gumbo1 | Interval=1h Timerange=20220301-20220401, Total profit=$-7.81, Total pct=-0.08%, Mean pct=-1.97%, Trades=12, Wins=6, Losses=2, Draws=4, Win ratio=50.00%"
        },
        "xaxis": {
         "anchor": "y",
         "domain": [
          0,
          1
         ],
         "title": {
          "text": "close_date"
         }
        },
        "yaxis": {
         "anchor": "x",
         "domain": [
          0,
          1
         ],
         "title": {
          "text": "profit_abs"
         }
        }
       }
      }
     },
     "metadata": {},
     "output_type": "display_data"
    }
   ],
   "source": [
    "b_runner.report.plot_weekly()"
   ]
  },
  {
   "cell_type": "markdown",
   "metadata": {},
   "source": [
    "# Prepare to Hyperopt Gumbo1"
   ]
  },
  {
   "cell_type": "code",
   "execution_count": 29,
   "metadata": {},
   "outputs": [
    {
     "name": "stdout",
     "output_type": "stream",
     "text": [
      "\n",
      "timerange:  20220101-20220331 \n",
      "days:  40 \n",
      "spaces: default \n",
      "loss function: SortinoHyperOptLoss \n",
      "epochs: 50 \n",
      "min trades: 10 \n",
      "tag: 20220101-20220331,default \n",
      "interval: 1h \n",
      "num pairs: 30\n"
     ]
    }
   ],
   "source": [
    "from lazyft.command_parameters import HyperoptParameters\n",
    "\n",
    "h_days = 365\n",
    "h_conf = Config('config.json')\n",
    "starting_balance = 100\n",
    "h_timerange = \"20220101-20220331\"\n",
    "# VRA/USDT HTR/USDT ARX/USDT\n",
    "params = HyperoptParameters(\n",
    "    epochs=50,\n",
    "    config_path=h_conf,\n",
    "    #     secrets_config=str(priv_us),\n",
    "    # days=h_days,\n",
    "    timerange=h_timerange,\n",
    "    spaces=\"default\",\n",
    "    # loss='CalmarHyperOptLoss',\n",
    "    loss='SortinoHyperOptLoss',\n",
    "    interval=\"1h\",\n",
    "    # min_trades=int(days * 0.67 * 0.85),\n",
    "    min_trades=10,\n",
    "    #     pairs=pairlist.load_pairlist_from_id(1),\n",
    "    starting_balance=starting_balance,\n",
    "    max_open_trades=3,\n",
    "    stake_amount=\"unlimited\",\n",
    "    jobs=-2,\n",
    "    download_data=True,\n",
    "    # custom_spaces='atr_roi atr_stoploss',\n",
    "    # custom_settings={\n",
    "    #     'use_custom_stoploss': False,\n",
    "    # },\n",
    "    tag=\"\",\n",
    "    # seed=62581,\n",
    "    #     ensemble=ensemble\n",
    ")\n",
    "# params.tag = params.tag + ',' + params.pairs[0]\n",
    "# params.min_trades = len(params.pairs)\n",
    "print(\"\\ntimerange: \", params.timerange,\n",
    "      \"\\ndays: \", round(params.days * 0.667),\n",
    "      '\\nspaces:', params.spaces,\n",
    "      '\\nloss function:', params.loss,\n",
    "      '\\nepochs:', params.epochs,\n",
    "      '\\nmin trades:', params.min_trades,\n",
    "      '\\ntag:', params.tag,\n",
    "      '\\ninterval:', params.interval,\n",
    "      '\\nnum pairs:', len(params.pairs))\n",
    "# QuickTools.refresh_pairlist(us_conf, 100)"
   ]
  },
  {
   "cell_type": "markdown",
   "metadata": {},
   "source": [
    "## Run Hyperopt"
   ]
  },
  {
   "cell_type": "code",
   "execution_count": 30,
   "metadata": {},
   "outputs": [
    {
     "name": "stdout",
     "output_type": "stream",
     "text": [
      "2022-05-30 20:08:16.298 | INFO     | lazyft.hyperopt.runner:pre_execute:185 - Preparing to hyperopt Gumbo1\n",
      "2022-05-30 20:08:17.296 | INFO     | lazyft.downloader:download_missing_historical_data:315 - Checking if download is needed for BTC/USDT, YFII/USDT, XRP/USDT, AVAX/USDT, MANA/USDT, NEAR/USDT, CHESS/USDT, GMT/USDT, BUSD/USDT, ETC/USDT, DOT/USDT, SHIB/USDT, BURGER/USDT, DOGE/USDT, USDC/USDT, SAND/USDT, FTM/USDT, RAD/USDT, LRC/USDT, APE/USDT, GALA/USDT, XMR/USDT, ANC/USDT, EUR/USDT, ROSE/USDT, TRX/USDT, SOL/USDT, ADA/USDT, MATIC/USDT, ETH/USDT, BTC/USDT, ETH/USDT, BUSD/USDT, USDC/USDT, XRP/USDT, SOL/USDT, ANC/USDT, GMT/USDT, TRX/USDT, SAND/USDT, AVAX/USDT, FTM/USDT, APE/USDT, NEAR/USDT, DOT/USDT, ADA/USDT, YFII/USDT, MANA/USDT, GALA/USDT, SHIB/USDT, LRC/USDT, RAD/USDT, MATIC/USDT, BURGER/USDT, ETC/USDT, XMR/USDT, ROSE/USDT, DOGE/USDT, EUR/USDT, CHESS/USDT @ 1h interval(s)\n",
      "2022-05-30 20:08:17.380 | INFO     | lazyft.downloader:download_missing_historical_data:360 - Data is up to date\n",
      "2022-05-30 20:08:17.390 | INFO     | lazyft.parameter_tools:remove_params_file:36 - Removing strategy params: /home/raphael/PycharmProjects/lazyft_lib/user_data/strategies/Gumbo1.json\n",
      "2022-05-30 20:08:17.406 | INFO     | lazyft.strategy:save_strategy_text_to_database:200 - Strategy Gumbo1 already in database...skipping\n",
      "2022-05-30 20:08:17.406 | INFO     | lazyft.hyperopt.runner:pre_execute:208 - Running command: \"freqtrade hyperopt -c /home/raphael/PycharmProjects/lazyft_lib/configs/config.json --logfile /home/raphael/PycharmProjects/lazyft_lib/logs/hyperopt_logs/8bd77f23-1bd9-4f8c-ab63-c1a201cff733.log --user-data-dir /home/raphael/PycharmProjects/lazyft_lib/user_data --strategy-path /home/raphael/PycharmProjects/lazyft_lib/user_data/strategies --timerange 20220101-20220331 --pairs BTC/USDT ETH/USDT BUSD/USDT USDC/USDT XRP/USDT SOL/USDT ANC/USDT GMT/USDT TRX/USDT SAND/USDT AVAX/USDT FTM/USDT APE/USDT NEAR/USDT DOT/USDT ADA/USDT YFII/USDT MANA/USDT GALA/USDT SHIB/USDT LRC/USDT RAD/USDT MATIC/USDT BURGER/USDT ETC/USDT XMR/USDT ROSE/USDT DOGE/USDT EUR/USDT CHESS/USDT --starting-balance 100 --stake-amount unlimited --max-open-trades 3 --timeframe 1h --epochs 50 --min-trades 10 --spaces default --hyperopt-loss SortinoHyperOptLoss --job-workers -2 --disable-param-export --ignore-missing-spaces -s Gumbo1\"\n",
      "2022-05-30 20:08:17.407 | INFO     | lazyft.hyperopt.runner:pre_execute:210 - Hyperopting Gumbo1 with id \"NO_ID\"\n",
      "2022-05-30 20:08:17.408 | INFO     | lazyft.hyperopt.runner:execute:230 - Executing Hyperopt\n",
      "2022-05-30 20:08:17.421 | INFO     | lazyft.hyperopt.runner:execute:244 - Process ID: 721151\n"
     ]
    },
    {
     "data": {
      "text/html": [
       "<pre style=\"white-space:pre;overflow-x:auto;line-height:normal;font-family:Menlo,'DejaVu Sans Mono',consolas,'Courier New',monospace\">+--------+---------+----------+------------------+--------------+-------------------------------+-----------------+-------------+-------------------------------+\n",
       "</pre>\n"
      ],
      "text/plain": [
       "+--------+---------+----------+------------------+--------------+-------------------------------+-----------------+-------------+-------------------------------+\n"
      ]
     },
     "metadata": {},
     "output_type": "display_data"
    },
    {
     "data": {
      "text/html": [
       "<pre style=\"white-space:pre;overflow-x:auto;line-height:normal;font-family:Menlo,'DejaVu Sans Mono',consolas,'Courier New',monospace\">|   Best |   Epoch |   Trades |    Win Draw Loss |   Avg profit |                        Profit |    Avg duration |   Objective |           Max Drawdown <span style=\"font-weight: bold\">(</span>Acct<span style=\"font-weight: bold\">)</span> |\n",
       "</pre>\n"
      ],
      "text/plain": [
       "|   Best |   Epoch |   Trades |    Win Draw Loss |   Avg profit |                        Profit |    Avg duration |   Objective |           Max Drawdown \u001b[1m(\u001b[0mAcct\u001b[1m)\u001b[0m |\n"
      ]
     },
     "metadata": {},
     "output_type": "display_data"
    },
    {
     "data": {
      "text/html": [
       "<pre style=\"white-space:pre;overflow-x:auto;line-height:normal;font-family:Menlo,'DejaVu Sans Mono',consolas,'Courier New',monospace\">|--------+---------+----------+------------------+--------------+-------------------------------+-----------------+-------------+-------------------------------|\n",
       "</pre>\n"
      ],
      "text/plain": [
       "|--------+---------+----------+------------------+--------------+-------------------------------+-----------------+-------------+-------------------------------|\n"
      ]
     },
     "metadata": {},
     "output_type": "display_data"
    },
    {
     "data": {
      "text/html": [
       "<pre style=\"white-space:pre;overflow-x:auto;line-height:normal;font-family:Menlo,'DejaVu Sans Mono',consolas,'Courier New',monospace\">| * Best |    <span style=\"color: #008080; text-decoration-color: #008080; font-weight: bold\">1</span>/<span style=\"color: #008080; text-decoration-color: #008080; font-weight: bold\">50</span> |       <span style=\"color: #008080; text-decoration-color: #008080; font-weight: bold\">31</span> |     <span style=\"color: #008080; text-decoration-color: #008080; font-weight: bold\">22</span>    <span style=\"color: #008080; text-decoration-color: #008080; font-weight: bold\">2</span>    <span style=\"color: #008080; text-decoration-color: #008080; font-weight: bold\">7</span> |        <span style=\"color: #008080; text-decoration-color: #008080; font-weight: bold\">0.17</span>% |         <span style=\"color: #008080; text-decoration-color: #008080; font-weight: bold\">0.285</span> USDT    <span style=\"font-weight: bold\">(</span><span style=\"color: #008080; text-decoration-color: #008080; font-weight: bold\">0.28</span>%<span style=\"font-weight: bold\">)</span> | <span style=\"color: #008080; text-decoration-color: #008080; font-weight: bold\">0</span> days <span style=\"color: #00ff00; text-decoration-color: #00ff00; font-weight: bold\">14:17:00</span> |    <span style=\"color: #008080; text-decoration-color: #008080; font-weight: bold\">-0.19016</span> |        <span style=\"color: #008080; text-decoration-color: #008080; font-weight: bold\">20.442</span> USDT   <span style=\"font-weight: bold\">(</span><span style=\"color: #008080; text-decoration-color: #008080; font-weight: bold\">20.44</span>%<span style=\"font-weight: bold\">)</span> |\n",
       "</pre>\n"
      ],
      "text/plain": [
       "| * Best |    \u001b[1;36m1\u001b[0m/\u001b[1;36m50\u001b[0m |       \u001b[1;36m31\u001b[0m |     \u001b[1;36m22\u001b[0m    \u001b[1;36m2\u001b[0m    \u001b[1;36m7\u001b[0m |        \u001b[1;36m0.17\u001b[0m% |         \u001b[1;36m0.285\u001b[0m USDT    \u001b[1m(\u001b[0m\u001b[1;36m0.28\u001b[0m%\u001b[1m)\u001b[0m | \u001b[1;36m0\u001b[0m days \u001b[1;92m14:17:00\u001b[0m |    \u001b[1;36m-0.19016\u001b[0m |        \u001b[1;36m20.442\u001b[0m USDT   \u001b[1m(\u001b[0m\u001b[1;36m20.44\u001b[0m%\u001b[1m)\u001b[0m |\n"
      ]
     },
     "metadata": {},
     "output_type": "display_data"
    },
    {
     "data": {
      "text/html": [
       "<pre style=\"white-space:pre;overflow-x:auto;line-height:normal;font-family:Menlo,'DejaVu Sans Mono',consolas,'Courier New',monospace\">| * Best |   <span style=\"color: #008080; text-decoration-color: #008080; font-weight: bold\">14</span>/<span style=\"color: #008080; text-decoration-color: #008080; font-weight: bold\">50</span> |       <span style=\"color: #008080; text-decoration-color: #008080; font-weight: bold\">38</span> |     <span style=\"color: #008080; text-decoration-color: #008080; font-weight: bold\">22</span>    <span style=\"color: #008080; text-decoration-color: #008080; font-weight: bold\">6</span>   <span style=\"color: #008080; text-decoration-color: #008080; font-weight: bold\">10</span> |        <span style=\"color: #008080; text-decoration-color: #008080; font-weight: bold\">0.50</span>% |         <span style=\"color: #008080; text-decoration-color: #008080; font-weight: bold\">3.290</span> USDT    <span style=\"font-weight: bold\">(</span><span style=\"color: #008080; text-decoration-color: #008080; font-weight: bold\">3.29</span>%<span style=\"font-weight: bold\">)</span> | <span style=\"color: #008080; text-decoration-color: #008080; font-weight: bold\">1</span> days <span style=\"color: #00ff00; text-decoration-color: #00ff00; font-weight: bold\">09:14:00</span> |    <span style=\"color: #008080; text-decoration-color: #008080; font-weight: bold\">-0.63241</span> |        <span style=\"color: #008080; text-decoration-color: #008080; font-weight: bold\">21.490</span> USDT   <span style=\"font-weight: bold\">(</span><span style=\"color: #008080; text-decoration-color: #008080; font-weight: bold\">20.92</span>%<span style=\"font-weight: bold\">)</span> |\n",
       "</pre>\n"
      ],
      "text/plain": [
       "| * Best |   \u001b[1;36m14\u001b[0m/\u001b[1;36m50\u001b[0m |       \u001b[1;36m38\u001b[0m |     \u001b[1;36m22\u001b[0m    \u001b[1;36m6\u001b[0m   \u001b[1;36m10\u001b[0m |        \u001b[1;36m0.50\u001b[0m% |         \u001b[1;36m3.290\u001b[0m USDT    \u001b[1m(\u001b[0m\u001b[1;36m3.29\u001b[0m%\u001b[1m)\u001b[0m | \u001b[1;36m1\u001b[0m days \u001b[1;92m09:14:00\u001b[0m |    \u001b[1;36m-0.63241\u001b[0m |        \u001b[1;36m21.490\u001b[0m USDT   \u001b[1m(\u001b[0m\u001b[1;36m20.92\u001b[0m%\u001b[1m)\u001b[0m |\n"
      ]
     },
     "metadata": {},
     "output_type": "display_data"
    },
    {
     "data": {
      "text/html": [
       "<pre style=\"white-space:pre;overflow-x:auto;line-height:normal;font-family:Menlo,'DejaVu Sans Mono',consolas,'Courier New',monospace\">|   Best |   <span style=\"color: #008080; text-decoration-color: #008080; font-weight: bold\">33</span>/<span style=\"color: #008080; text-decoration-color: #008080; font-weight: bold\">50</span> |       <span style=\"color: #008080; text-decoration-color: #008080; font-weight: bold\">63</span> |     <span style=\"color: #008080; text-decoration-color: #008080; font-weight: bold\">38</span>    <span style=\"color: #008080; text-decoration-color: #008080; font-weight: bold\">7</span>   <span style=\"color: #008080; text-decoration-color: #008080; font-weight: bold\">18</span> |        <span style=\"color: #008080; text-decoration-color: #008080; font-weight: bold\">0.35</span>% |         <span style=\"color: #008080; text-decoration-color: #008080; font-weight: bold\">3.205</span> USDT    <span style=\"font-weight: bold\">(</span><span style=\"color: #008080; text-decoration-color: #008080; font-weight: bold\">3.20</span>%<span style=\"font-weight: bold\">)</span> | <span style=\"color: #008080; text-decoration-color: #008080; font-weight: bold\">1</span> days <span style=\"color: #00ff00; text-decoration-color: #00ff00; font-weight: bold\">03:03:00</span> |     <span style=\"color: #008080; text-decoration-color: #008080; font-weight: bold\">-0.7904</span> |        <span style=\"color: #008080; text-decoration-color: #008080; font-weight: bold\">23.269</span> USDT   <span style=\"font-weight: bold\">(</span><span style=\"color: #008080; text-decoration-color: #008080; font-weight: bold\">20.35</span>%<span style=\"font-weight: bold\">)</span> |\n",
       "</pre>\n"
      ],
      "text/plain": [
       "|   Best |   \u001b[1;36m33\u001b[0m/\u001b[1;36m50\u001b[0m |       \u001b[1;36m63\u001b[0m |     \u001b[1;36m38\u001b[0m    \u001b[1;36m7\u001b[0m   \u001b[1;36m18\u001b[0m |        \u001b[1;36m0.35\u001b[0m% |         \u001b[1;36m3.205\u001b[0m USDT    \u001b[1m(\u001b[0m\u001b[1;36m3.20\u001b[0m%\u001b[1m)\u001b[0m | \u001b[1;36m1\u001b[0m days \u001b[1;92m03:03:00\u001b[0m |     \u001b[1;36m-0.7904\u001b[0m |        \u001b[1;36m23.269\u001b[0m USDT   \u001b[1m(\u001b[0m\u001b[1;36m20.35\u001b[0m%\u001b[1m)\u001b[0m |\n"
      ]
     },
     "metadata": {},
     "output_type": "display_data"
    },
    {
     "data": {
      "text/html": [
       "<pre style=\"white-space:pre;overflow-x:auto;line-height:normal;font-family:Menlo,'DejaVu Sans Mono',consolas,'Courier New',monospace\">|   Best |   <span style=\"color: #008080; text-decoration-color: #008080; font-weight: bold\">42</span>/<span style=\"color: #008080; text-decoration-color: #008080; font-weight: bold\">50</span> |       <span style=\"color: #008080; text-decoration-color: #008080; font-weight: bold\">66</span> |     <span style=\"color: #008080; text-decoration-color: #008080; font-weight: bold\">40</span>   <span style=\"color: #008080; text-decoration-color: #008080; font-weight: bold\">13</span>   <span style=\"color: #008080; text-decoration-color: #008080; font-weight: bold\">13</span> |        <span style=\"color: #008080; text-decoration-color: #008080; font-weight: bold\">0.44</span>% |         <span style=\"color: #008080; text-decoration-color: #008080; font-weight: bold\">7.072</span> USDT    <span style=\"font-weight: bold\">(</span><span style=\"color: #008080; text-decoration-color: #008080; font-weight: bold\">7.07</span>%<span style=\"font-weight: bold\">)</span> | <span style=\"color: #008080; text-decoration-color: #008080; font-weight: bold\">0</span> days <span style=\"color: #00ff00; text-decoration-color: #00ff00; font-weight: bold\">17:59:00</span> |    <span style=\"color: #008080; text-decoration-color: #008080; font-weight: bold\">-1.26276</span> |        <span style=\"color: #008080; text-decoration-color: #008080; font-weight: bold\">22.359</span> USDT   <span style=\"font-weight: bold\">(</span><span style=\"color: #008080; text-decoration-color: #008080; font-weight: bold\">20.42</span>%<span style=\"font-weight: bold\">)</span> |\n",
       "</pre>\n"
      ],
      "text/plain": [
       "|   Best |   \u001b[1;36m42\u001b[0m/\u001b[1;36m50\u001b[0m |       \u001b[1;36m66\u001b[0m |     \u001b[1;36m40\u001b[0m   \u001b[1;36m13\u001b[0m   \u001b[1;36m13\u001b[0m |        \u001b[1;36m0.44\u001b[0m% |         \u001b[1;36m7.072\u001b[0m USDT    \u001b[1m(\u001b[0m\u001b[1;36m7.07\u001b[0m%\u001b[1m)\u001b[0m | \u001b[1;36m0\u001b[0m days \u001b[1;92m17:59:00\u001b[0m |    \u001b[1;36m-1.26276\u001b[0m |        \u001b[1;36m22.359\u001b[0m USDT   \u001b[1m(\u001b[0m\u001b[1;36m20.42\u001b[0m%\u001b[1m)\u001b[0m |\n"
      ]
     },
     "metadata": {},
     "output_type": "display_data"
    },
    {
     "data": {
      "text/html": [
       "<pre style=\"white-space:pre;overflow-x:auto;line-height:normal;font-family:Menlo,'DejaVu Sans Mono',consolas,'Courier New',monospace\">\n",
       "</pre>\n"
      ],
      "text/plain": [
       "\n"
      ]
     },
     "metadata": {},
     "output_type": "display_data"
    },
    {
     "data": {
      "text/html": [
       "<pre style=\"white-space:pre;overflow-x:auto;line-height:normal;font-family:Menlo,'DejaVu Sans Mono',consolas,'Courier New',monospace\">Best result:\n",
       "</pre>\n"
      ],
      "text/plain": [
       "Best result:\n"
      ]
     },
     "metadata": {},
     "output_type": "display_data"
    },
    {
     "data": {
      "text/html": [
       "<pre style=\"white-space:pre;overflow-x:auto;line-height:normal;font-family:Menlo,'DejaVu Sans Mono',consolas,'Courier New',monospace\">\n",
       "</pre>\n"
      ],
      "text/plain": [
       "\n"
      ]
     },
     "metadata": {},
     "output_type": "display_data"
    },
    {
     "data": {
      "text/html": [
       "<pre style=\"white-space:pre;overflow-x:auto;line-height:normal;font-family:Menlo,'DejaVu Sans Mono',consolas,'Courier New',monospace\">    <span style=\"color: #008080; text-decoration-color: #008080; font-weight: bold\">42</span>/<span style=\"color: #008080; text-decoration-color: #008080; font-weight: bold\">50</span>:     <span style=\"color: #008080; text-decoration-color: #008080; font-weight: bold\">66</span> trades. <span style=\"color: #008080; text-decoration-color: #008080; font-weight: bold\">40</span>/<span style=\"color: #008080; text-decoration-color: #008080; font-weight: bold\">13</span>/<span style=\"color: #008080; text-decoration-color: #008080; font-weight: bold\">13</span> Wins/Draws/Losses. Avg profit   <span style=\"color: #008080; text-decoration-color: #008080; font-weight: bold\">0.44</span>%. Median profit   <span style=\"color: #008080; text-decoration-color: #008080; font-weight: bold\">3.90</span>%. Total profit  <span style=\"color: #008080; text-decoration-color: #008080; font-weight: bold\">7.07172862</span> USDT <span style=\"font-weight: bold\">(</span>   <span style=\"color: #008080; text-decoration-color: #008080; font-weight: bold\">7.07</span>%<span style=\"font-weight: bold\">)</span>. Avg duration <span style=\"color: #00ff00; text-decoration-color: #00ff00; font-weight: bold\">17:59:00</span> min. Objective: <span style=\"color: #008080; text-decoration-color: #008080; font-weight: bold\">-1.26276</span>\n",
       "</pre>\n"
      ],
      "text/plain": [
       "    \u001b[1;36m42\u001b[0m/\u001b[1;36m50\u001b[0m:     \u001b[1;36m66\u001b[0m trades. \u001b[1;36m40\u001b[0m/\u001b[1;36m13\u001b[0m/\u001b[1;36m13\u001b[0m Wins/Draws/Losses. Avg profit   \u001b[1;36m0.44\u001b[0m%. Median profit   \u001b[1;36m3.90\u001b[0m%. Total profit  \u001b[1;36m7.07172862\u001b[0m USDT \u001b[1m(\u001b[0m   \u001b[1;36m7.07\u001b[0m%\u001b[1m)\u001b[0m. Avg duration \u001b[1;92m17:59:00\u001b[0m min. Objective: \u001b[1;36m-1.26276\u001b[0m\n"
      ]
     },
     "metadata": {},
     "output_type": "display_data"
    },
    {
     "data": {
      "text/html": [
       "<pre style=\"white-space:pre;overflow-x:auto;line-height:normal;font-family:Menlo,'DejaVu Sans Mono',consolas,'Courier New',monospace\">\n",
       "</pre>\n"
      ],
      "text/plain": [
       "\n"
      ]
     },
     "metadata": {},
     "output_type": "display_data"
    },
    {
     "data": {
      "text/html": [
       "<pre style=\"white-space:pre;overflow-x:auto;line-height:normal;font-family:Menlo,'DejaVu Sans Mono',consolas,'Courier New',monospace\">\n",
       "</pre>\n"
      ],
      "text/plain": [
       "\n"
      ]
     },
     "metadata": {},
     "output_type": "display_data"
    },
    {
     "data": {
      "text/html": [
       "<pre style=\"white-space:pre;overflow-x:auto;line-height:normal;font-family:Menlo,'DejaVu Sans Mono',consolas,'Courier New',monospace\">    # Buy hyperspace params:\n",
       "</pre>\n"
      ],
      "text/plain": [
       "    # Buy hyperspace params:\n"
      ]
     },
     "metadata": {},
     "output_type": "display_data"
    },
    {
     "data": {
      "text/html": [
       "<pre style=\"white-space:pre;overflow-x:auto;line-height:normal;font-family:Menlo,'DejaVu Sans Mono',consolas,'Courier New',monospace\">    buy_params = <span style=\"font-weight: bold\">{</span>\n",
       "</pre>\n"
      ],
      "text/plain": [
       "    buy_params = \u001b[1m{\u001b[0m\n"
      ]
     },
     "metadata": {},
     "output_type": "display_data"
    },
    {
     "data": {
      "text/html": [
       "<pre style=\"white-space:pre;overflow-x:auto;line-height:normal;font-family:Menlo,'DejaVu Sans Mono',consolas,'Courier New',monospace\">        <span style=\"color: #008000; text-decoration-color: #008000\">\"ewo_low\"</span>: <span style=\"color: #008080; text-decoration-color: #008080; font-weight: bold\">-5.597</span>,\n",
       "</pre>\n"
      ],
      "text/plain": [
       "        \u001b[32m\"ewo_low\"\u001b[0m: \u001b[1;36m-5.597\u001b[0m,\n"
      ]
     },
     "metadata": {},
     "output_type": "display_data"
    },
    {
     "data": {
      "text/html": [
       "<pre style=\"white-space:pre;overflow-x:auto;line-height:normal;font-family:Menlo,'DejaVu Sans Mono',consolas,'Courier New',monospace\">        <span style=\"color: #008000; text-decoration-color: #008000\">\"t3_periods\"</span>: <span style=\"color: #008080; text-decoration-color: #008080; font-weight: bold\">5</span>,\n",
       "</pre>\n"
      ],
      "text/plain": [
       "        \u001b[32m\"t3_periods\"\u001b[0m: \u001b[1;36m5\u001b[0m,\n"
      ]
     },
     "metadata": {},
     "output_type": "display_data"
    },
    {
     "data": {
      "text/html": [
       "<pre style=\"white-space:pre;overflow-x:auto;line-height:normal;font-family:Menlo,'DejaVu Sans Mono',consolas,'Courier New',monospace\">    <span style=\"font-weight: bold\">}</span>\n",
       "</pre>\n"
      ],
      "text/plain": [
       "    \u001b[1m}\u001b[0m\n"
      ]
     },
     "metadata": {},
     "output_type": "display_data"
    },
    {
     "data": {
      "text/html": [
       "<pre style=\"white-space:pre;overflow-x:auto;line-height:normal;font-family:Menlo,'DejaVu Sans Mono',consolas,'Courier New',monospace\">\n",
       "</pre>\n"
      ],
      "text/plain": [
       "\n"
      ]
     },
     "metadata": {},
     "output_type": "display_data"
    },
    {
     "data": {
      "text/html": [
       "<pre style=\"white-space:pre;overflow-x:auto;line-height:normal;font-family:Menlo,'DejaVu Sans Mono',consolas,'Courier New',monospace\">    # Sell hyperspace params:\n",
       "</pre>\n"
      ],
      "text/plain": [
       "    # Sell hyperspace params:\n"
      ]
     },
     "metadata": {},
     "output_type": "display_data"
    },
    {
     "data": {
      "text/html": [
       "<pre style=\"white-space:pre;overflow-x:auto;line-height:normal;font-family:Menlo,'DejaVu Sans Mono',consolas,'Courier New',monospace\">    sell_params = <span style=\"font-weight: bold\">{</span>\n",
       "</pre>\n"
      ],
      "text/plain": [
       "    sell_params = \u001b[1m{\u001b[0m\n"
      ]
     },
     "metadata": {},
     "output_type": "display_data"
    },
    {
     "data": {
      "text/html": [
       "<pre style=\"white-space:pre;overflow-x:auto;line-height:normal;font-family:Menlo,'DejaVu Sans Mono',consolas,'Courier New',monospace\">        <span style=\"color: #008000; text-decoration-color: #008000\">\"stoch_high\"</span>: <span style=\"color: #008080; text-decoration-color: #008080; font-weight: bold\">68</span>,\n",
       "</pre>\n"
      ],
      "text/plain": [
       "        \u001b[32m\"stoch_high\"\u001b[0m: \u001b[1;36m68\u001b[0m,\n"
      ]
     },
     "metadata": {},
     "output_type": "display_data"
    },
    {
     "data": {
      "text/html": [
       "<pre style=\"white-space:pre;overflow-x:auto;line-height:normal;font-family:Menlo,'DejaVu Sans Mono',consolas,'Courier New',monospace\">        <span style=\"color: #008000; text-decoration-color: #008000\">\"stock_periods\"</span>: <span style=\"color: #008080; text-decoration-color: #008080; font-weight: bold\">70</span>,\n",
       "</pre>\n"
      ],
      "text/plain": [
       "        \u001b[32m\"stock_periods\"\u001b[0m: \u001b[1;36m70\u001b[0m,\n"
      ]
     },
     "metadata": {},
     "output_type": "display_data"
    },
    {
     "data": {
      "text/html": [
       "<pre style=\"white-space:pre;overflow-x:auto;line-height:normal;font-family:Menlo,'DejaVu Sans Mono',consolas,'Courier New',monospace\">    <span style=\"font-weight: bold\">}</span>\n",
       "</pre>\n"
      ],
      "text/plain": [
       "    \u001b[1m}\u001b[0m\n"
      ]
     },
     "metadata": {},
     "output_type": "display_data"
    },
    {
     "data": {
      "text/html": [
       "<pre style=\"white-space:pre;overflow-x:auto;line-height:normal;font-family:Menlo,'DejaVu Sans Mono',consolas,'Courier New',monospace\">\n",
       "</pre>\n"
      ],
      "text/plain": [
       "\n"
      ]
     },
     "metadata": {},
     "output_type": "display_data"
    },
    {
     "data": {
      "text/html": [
       "<pre style=\"white-space:pre;overflow-x:auto;line-height:normal;font-family:Menlo,'DejaVu Sans Mono',consolas,'Courier New',monospace\">    # ROI table:\n",
       "</pre>\n"
      ],
      "text/plain": [
       "    # ROI table:\n"
      ]
     },
     "metadata": {},
     "output_type": "display_data"
    },
    {
     "data": {
      "text/html": [
       "<pre style=\"white-space:pre;overflow-x:auto;line-height:normal;font-family:Menlo,'DejaVu Sans Mono',consolas,'Courier New',monospace\">    minimal_roi = <span style=\"font-weight: bold\">{</span>\n",
       "</pre>\n"
      ],
      "text/plain": [
       "    minimal_roi = \u001b[1m{\u001b[0m\n"
      ]
     },
     "metadata": {},
     "output_type": "display_data"
    },
    {
     "data": {
      "text/html": [
       "<pre style=\"white-space:pre;overflow-x:auto;line-height:normal;font-family:Menlo,'DejaVu Sans Mono',consolas,'Courier New',monospace\">        <span style=\"color: #008000; text-decoration-color: #008000\">\"0\"</span>: <span style=\"color: #008080; text-decoration-color: #008080; font-weight: bold\">0.249</span>,\n",
       "</pre>\n"
      ],
      "text/plain": [
       "        \u001b[32m\"0\"\u001b[0m: \u001b[1;36m0.249\u001b[0m,\n"
      ]
     },
     "metadata": {},
     "output_type": "display_data"
    },
    {
     "data": {
      "text/html": [
       "<pre style=\"white-space:pre;overflow-x:auto;line-height:normal;font-family:Menlo,'DejaVu Sans Mono',consolas,'Courier New',monospace\">        <span style=\"color: #008000; text-decoration-color: #008000\">\"200\"</span>: <span style=\"color: #008080; text-decoration-color: #008080; font-weight: bold\">0.076</span>,\n",
       "</pre>\n"
      ],
      "text/plain": [
       "        \u001b[32m\"200\"\u001b[0m: \u001b[1;36m0.076\u001b[0m,\n"
      ]
     },
     "metadata": {},
     "output_type": "display_data"
    },
    {
     "data": {
      "text/html": [
       "<pre style=\"white-space:pre;overflow-x:auto;line-height:normal;font-family:Menlo,'DejaVu Sans Mono',consolas,'Courier New',monospace\">        <span style=\"color: #008000; text-decoration-color: #008000\">\"570\"</span>: <span style=\"color: #008080; text-decoration-color: #008080; font-weight: bold\">0.039</span>,\n",
       "</pre>\n"
      ],
      "text/plain": [
       "        \u001b[32m\"570\"\u001b[0m: \u001b[1;36m0.039\u001b[0m,\n"
      ]
     },
     "metadata": {},
     "output_type": "display_data"
    },
    {
     "data": {
      "text/html": [
       "<pre style=\"white-space:pre;overflow-x:auto;line-height:normal;font-family:Menlo,'DejaVu Sans Mono',consolas,'Courier New',monospace\">        <span style=\"color: #008000; text-decoration-color: #008000\">\"1270\"</span>: <span style=\"color: #008080; text-decoration-color: #008080; font-weight: bold\">0</span>\n",
       "</pre>\n"
      ],
      "text/plain": [
       "        \u001b[32m\"1270\"\u001b[0m: \u001b[1;36m0\u001b[0m\n"
      ]
     },
     "metadata": {},
     "output_type": "display_data"
    },
    {
     "data": {
      "text/html": [
       "<pre style=\"white-space:pre;overflow-x:auto;line-height:normal;font-family:Menlo,'DejaVu Sans Mono',consolas,'Courier New',monospace\">    <span style=\"font-weight: bold\">}</span>\n",
       "</pre>\n"
      ],
      "text/plain": [
       "    \u001b[1m}\u001b[0m\n"
      ]
     },
     "metadata": {},
     "output_type": "display_data"
    },
    {
     "data": {
      "text/html": [
       "<pre style=\"white-space:pre;overflow-x:auto;line-height:normal;font-family:Menlo,'DejaVu Sans Mono',consolas,'Courier New',monospace\">\n",
       "</pre>\n"
      ],
      "text/plain": [
       "\n"
      ]
     },
     "metadata": {},
     "output_type": "display_data"
    },
    {
     "data": {
      "text/html": [
       "<pre style=\"white-space:pre;overflow-x:auto;line-height:normal;font-family:Menlo,'DejaVu Sans Mono',consolas,'Courier New',monospace\">    # Stoploss:\n",
       "</pre>\n"
      ],
      "text/plain": [
       "    # Stoploss:\n"
      ]
     },
     "metadata": {},
     "output_type": "display_data"
    },
    {
     "data": {
      "text/html": [
       "<pre style=\"white-space:pre;overflow-x:auto;line-height:normal;font-family:Menlo,'DejaVu Sans Mono',consolas,'Courier New',monospace\">    stoploss = <span style=\"color: #008080; text-decoration-color: #008080; font-weight: bold\">-0.133</span>\n",
       "</pre>\n"
      ],
      "text/plain": [
       "    stoploss = \u001b[1;36m-0.133\u001b[0m\n"
      ]
     },
     "metadata": {},
     "output_type": "display_data"
    },
    {
     "data": {
      "text/html": [
       "<pre style=\"white-space:pre;overflow-x:auto;line-height:normal;font-family:Menlo,'DejaVu Sans Mono',consolas,'Courier New',monospace\">\n",
       "</pre>\n"
      ],
      "text/plain": [
       "\n"
      ]
     },
     "metadata": {},
     "output_type": "display_data"
    },
    {
     "data": {
      "text/html": [
       "<pre style=\"white-space:pre;overflow-x:auto;line-height:normal;font-family:Menlo,'DejaVu Sans Mono',consolas,'Courier New',monospace\">    # Trailing stop:\n",
       "</pre>\n"
      ],
      "text/plain": [
       "    # Trailing stop:\n"
      ]
     },
     "metadata": {},
     "output_type": "display_data"
    },
    {
     "data": {
      "text/html": [
       "<pre style=\"white-space:pre;overflow-x:auto;line-height:normal;font-family:Menlo,'DejaVu Sans Mono',consolas,'Courier New',monospace\">    trailing_stop = <span style=\"color: #ff0000; text-decoration-color: #ff0000; font-style: italic\">False</span>  # value loaded from strategy\n",
       "</pre>\n"
      ],
      "text/plain": [
       "    trailing_stop = \u001b[3;91mFalse\u001b[0m  # value loaded from strategy\n"
      ]
     },
     "metadata": {},
     "output_type": "display_data"
    },
    {
     "data": {
      "text/html": [
       "<pre style=\"white-space:pre;overflow-x:auto;line-height:normal;font-family:Menlo,'DejaVu Sans Mono',consolas,'Courier New',monospace\">    trailing_stop_positive = <span style=\"color: #800080; text-decoration-color: #800080; font-style: italic\">None</span>  # value loaded from strategy\n",
       "</pre>\n"
      ],
      "text/plain": [
       "    trailing_stop_positive = \u001b[3;35mNone\u001b[0m  # value loaded from strategy\n"
      ]
     },
     "metadata": {},
     "output_type": "display_data"
    },
    {
     "data": {
      "text/html": [
       "<pre style=\"white-space:pre;overflow-x:auto;line-height:normal;font-family:Menlo,'DejaVu Sans Mono',consolas,'Courier New',monospace\">    trailing_stop_positive_offset = <span style=\"color: #008080; text-decoration-color: #008080; font-weight: bold\">0.0</span>  # value loaded from strategy\n",
       "</pre>\n"
      ],
      "text/plain": [
       "    trailing_stop_positive_offset = \u001b[1;36m0.0\u001b[0m  # value loaded from strategy\n"
      ]
     },
     "metadata": {},
     "output_type": "display_data"
    },
    {
     "data": {
      "text/html": [
       "<pre style=\"white-space:pre;overflow-x:auto;line-height:normal;font-family:Menlo,'DejaVu Sans Mono',consolas,'Courier New',monospace\">    trailing_only_offset_is_reached = <span style=\"color: #ff0000; text-decoration-color: #ff0000; font-style: italic\">False</span>  # value loaded from strategy\n",
       "</pre>\n"
      ],
      "text/plain": [
       "    trailing_only_offset_is_reached = \u001b[3;91mFalse\u001b[0m  # value loaded from strategy\n"
      ]
     },
     "metadata": {},
     "output_type": "display_data"
    },
    {
     "data": {
      "text/html": [
       "<pre style=\"white-space:pre;overflow-x:auto;line-height:normal;font-family:Menlo,'DejaVu Sans Mono',consolas,'Courier New',monospace\">    \n",
       "</pre>\n"
      ],
      "text/plain": [
       "    \n"
      ]
     },
     "metadata": {},
     "output_type": "display_data"
    },
    {
     "name": "stdout",
     "output_type": "stream",
     "text": [
      "2022-05-30 20:09:36.819 | INFO     | lazyft.parameter_tools:remove_params_file:36 - Removing strategy params: /home/raphael/PycharmProjects/lazyft_lib/user_data/strategies/Gumbo1.json\n",
      "2022-05-30 20:09:36.820 | SUCCESS  | lazyft.hyperopt.runner:on_finished:300 - Finished successfully.\n",
      "2022-05-30 20:09:36.888 | INFO     | lazyft.strategy:delete_temporary_strategy_backup_dir:262 - Temporary folder \"None\" does not exist...skipping\n"
     ]
    }
   ],
   "source": [
    "h_runner = params.run('Gumbo1', background=True)"
   ]
  },
  {
   "cell_type": "markdown",
   "metadata": {},
   "source": [
    "## Show"
   ]
  },
  {
   "cell_type": "code",
   "execution_count": 32,
   "metadata": {},
   "outputs": [
    {
     "data": {
      "text/html": [
       "<div>\n",
       "<style scoped>\n",
       "    .dataframe tbody tr th:only-of-type {\n",
       "        vertical-align: middle;\n",
       "    }\n",
       "\n",
       "    .dataframe tbody tr th {\n",
       "        vertical-align: top;\n",
       "    }\n",
       "\n",
       "    .dataframe thead th {\n",
       "        text-align: right;\n",
       "    }\n",
       "</style>\n",
       "<table border=\"1\" class=\"dataframe\">\n",
       "  <thead>\n",
       "    <tr style=\"text-align: right;\">\n",
       "      <th></th>\n",
       "      <th>id</th>\n",
       "      <th>strategy</th>\n",
       "      <th>date</th>\n",
       "      <th>exchange</th>\n",
       "      <th>m_o_t</th>\n",
       "      <th>stake</th>\n",
       "      <th>balance</th>\n",
       "      <th>n_pairlist</th>\n",
       "      <th>avg_profit_pct</th>\n",
       "      <th>avg_duration</th>\n",
       "      <th>wins</th>\n",
       "      <th>losses</th>\n",
       "      <th>drawdown</th>\n",
       "      <th>total_profit_pct</th>\n",
       "      <th>total_profit</th>\n",
       "      <th>trades</th>\n",
       "      <th>days</th>\n",
       "      <th>tag</th>\n",
       "    </tr>\n",
       "  </thead>\n",
       "  <tbody>\n",
       "    <tr>\n",
       "      <th>0</th>\n",
       "      <td>None</td>\n",
       "      <td>Gumbo1</td>\n",
       "      <td>05/30/22 20:09:36</td>\n",
       "      <td>binance</td>\n",
       "      <td>3</td>\n",
       "      <td>unlimited</td>\n",
       "      <td>100</td>\n",
       "      <td>30</td>\n",
       "      <td>0.004</td>\n",
       "      <td>17:59:00</td>\n",
       "      <td>40</td>\n",
       "      <td>13</td>\n",
       "      <td>0.204</td>\n",
       "      <td>0.071</td>\n",
       "      <td>7.070</td>\n",
       "      <td>66</td>\n",
       "      <td>80</td>\n",
       "      <td>20220101-20220331,default</td>\n",
       "    </tr>\n",
       "  </tbody>\n",
       "</table>\n",
       "</div>"
      ],
      "text/plain": [
       "     id strategy               date exchange  m_o_t      stake  balance  \\\n",
       "0  None   Gumbo1  05/30/22 20:09:36  binance      3  unlimited      100   \n",
       "\n",
       "   n_pairlist  avg_profit_pct avg_duration  wins  losses  drawdown  \\\n",
       "0          30           0.004     17:59:00    40      13     0.204   \n",
       "\n",
       "   total_profit_pct  total_profit  trades  days                        tag  \n",
       "0             0.071         7.070      66    80  20220101-20220331,default  "
      ]
     },
     "execution_count": 32,
     "metadata": {},
     "output_type": "execute_result"
    }
   ],
   "source": [
    "h_runner.report.df"
   ]
  },
  {
   "cell_type": "markdown",
   "metadata": {},
   "source": [
    "## Save"
   ]
  },
  {
   "cell_type": "code",
   "execution_count": 33,
   "metadata": {},
   "outputs": [
    {
     "name": "stdout",
     "output_type": "stream",
     "text": [
      "2022-05-30 20:10:18.217 | INFO     | lazyft.hyperopt.runner:save:339 - Created report id: 1\n"
     ]
    },
    {
     "data": {
      "text/plain": [
       "HyperoptReport(id=1, epoch=41, strategy_hash='59eb4b984906f52dd73aaa7da1031e3c', hyperopt_file_str='/home/raphael/PycharmProjects/lazyft_lib/user_data/hyperopt_results/strategy_Gumbo1_2022-05-30_20-08-22.fthypt', date=datetime.datetime(2022, 5, 30, 20, 9, 36, 821268), tag='20220101-20220331,default', exchange='binance')"
      ]
     },
     "execution_count": 33,
     "metadata": {},
     "output_type": "execute_result"
    }
   ],
   "source": [
    "h_runner.save()"
   ]
  },
  {
   "cell_type": "markdown",
   "metadata": {},
   "source": [
    "# Backtest Gumbo1 Using Hyperopted Parameters"
   ]
  },
  {
   "cell_type": "code",
   "execution_count": 9,
   "metadata": {},
   "outputs": [
    {
     "name": "stdout",
     "output_type": "stream",
     "text": [
      "2022-05-30 20:48:48.304 | INFO     | lazyft.models:export_parameters:438 - Exported parameters for report 1 to /home/raphael/PycharmProjects/lazyft_lib/user_data/strategies/Gumbo1.json\n",
      "2022-05-30 20:48:48.306 | INFO     | lazyft.strategy:create_temp_folder_for_strategy_and_params_from_backup:228 - Created temporary folder /tmp/lazyft-Gumbo1_gxy3c7qa for strategy backup Gumbo1\n",
      "2022-05-30 20:48:48.318 | INFO     | lazyft.models:export_to:1019 - Exported strategy Gumbo1 with hash 59eb4b984906f52dd73aaa7da1031e3c to /tmp/lazyft-Gumbo1_gxy3c7qa/Gumbo1.py\n",
      "2022-05-30 20:48:48.319 | INFO     | lazyft.strategy:create_temp_folder_for_strategy_and_params_from_backup:232 - Exported strategy backup Gumbo1 to /tmp/lazyft-Gumbo1_gxy3c7qa/Gumbo1.py\n",
      "2022-05-30 20:48:48.322 | INFO     | lazyft.models:export_parameters:438 - Exported parameters for report 1 to /tmp/lazyft-Gumbo1_gxy3c7qa/Gumbo1.json\n",
      "2022-05-30 20:48:48.323 | INFO     | lazyft.strategy:create_temp_folder_for_strategy_and_params_from_backup:252 - Created symlink to hyperopt_data_dir and data in /tmp/lazyft-Gumbo1_gxy3c7qa\n",
      "2022-05-30 20:48:49.465 | INFO     | lazyft.downloader:download_missing_historical_data:315 - Checking if download is needed for ETH/USDT, TRX/USDT, GALA/USDT, EUR/USDT, ETC/USDT, RAD/USDT, APE/USDT, SOL/USDT, BTC/USDT, SAND/USDT, GMT/USDT, LRC/USDT, MATIC/USDT, BURGER/USDT, MANA/USDT, BUSD/USDT, XMR/USDT, FTM/USDT, YFII/USDT, DOGE/USDT, XRP/USDT, USDC/USDT, CHESS/USDT, SHIB/USDT, ROSE/USDT, DOT/USDT, NEAR/USDT, AVAX/USDT, ADA/USDT, BTC/USDT, ETH/USDT, BUSD/USDT, USDC/USDT, XRP/USDT, SOL/USDT, GMT/USDT, TRX/USDT, SAND/USDT, AVAX/USDT, FTM/USDT, APE/USDT, NEAR/USDT, DOT/USDT, ADA/USDT, YFII/USDT, MANA/USDT, GALA/USDT, SHIB/USDT, LRC/USDT, RAD/USDT, MATIC/USDT, BURGER/USDT, ETC/USDT, XMR/USDT, ROSE/USDT, DOGE/USDT, EUR/USDT, CHESS/USDT @ 1h interval(s)\n",
      "2022-05-30 20:48:49.547 | INFO     | lazyft.downloader:download_missing_historical_data:360 - Data is up to date\n",
      "2022-05-30 20:48:50.393 | INFO     | lazyft.backtest.runner:pre_execute:179 - Running command: \"freqtrade backtesting -c /home/raphael/PycharmProjects/lazyft_lib/configs/config.json --user-data-dir /tmp/lazyft-Gumbo1_gxy3c7qa --strategy-path /tmp/lazyft-Gumbo1_gxy3c7qa --timerange 20220301-20220401 --pairs BTC/USDT ETH/USDT BUSD/USDT USDC/USDT XRP/USDT SOL/USDT GMT/USDT TRX/USDT SAND/USDT AVAX/USDT FTM/USDT APE/USDT NEAR/USDT DOT/USDT ADA/USDT YFII/USDT MANA/USDT GALA/USDT SHIB/USDT LRC/USDT RAD/USDT MATIC/USDT BURGER/USDT ETC/USDT XMR/USDT ROSE/USDT DOGE/USDT EUR/USDT CHESS/USDT --starting-balance 100 --stake-amount unlimited --max-open-trades 3 --timeframe 1h --cache none -s Gumbo1\"\n",
      "2022-05-30 20:48:50.397 | INFO     | lazyft.backtest.runner:pre_execute:182 - Backtesting Gumbo1 with params id \"1\" - bc0be82b5836ab501643dbb5a1c17b83\n",
      "Result for strategy Gumbo1\n",
      "=========================================================== BACKTESTING REPORT ===========================================================\n",
      "|        Pair |   Buys |   Avg Profit % |   Cum Profit % |   Tot Profit USDT |   Tot Profit % |   Avg Duration |   Win  Draw  Loss  Win% |\n",
      "|-------------+--------+----------------+----------------+-------------------+----------------+----------------+-------------------------|\n",
      "|    GMT/USDT |      2 |           5.74 |          11.49 |             4.252 |           4.25 |       13:30:00 |     2     0     0   100 |\n",
      "|    FTM/USDT |      5 |           2.30 |          11.49 |             4.074 |           4.07 |       17:36:00 |     2     3     0   100 |\n",
      "| BURGER/USDT |      2 |           5.74 |          11.49 |             3.934 |           3.93 |       13:00:00 |     2     0     0   100 |\n",
      "|   GALA/USDT |      1 |           4.56 |           4.56 |             1.507 |           1.51 |       10:00:00 |     1     0     0   100 |\n",
      "|    XMR/USDT |      1 |           3.90 |           3.90 |             1.287 |           1.29 |       21:00:00 |     1     0     0   100 |\n",
      "|    RAD/USDT |      1 |           0.88 |           0.88 |             0.298 |           0.30 |       22:00:00 |     1     0     0   100 |\n",
      "|    BTC/USDT |      0 |           0.00 |           0.00 |             0.000 |           0.00 |           0:00 |     0     0     0     0 |\n",
      "|    ETH/USDT |      0 |           0.00 |           0.00 |             0.000 |           0.00 |           0:00 |     0     0     0     0 |\n",
      "|   BUSD/USDT |      0 |           0.00 |           0.00 |             0.000 |           0.00 |           0:00 |     0     0     0     0 |\n",
      "|   USDC/USDT |      0 |           0.00 |           0.00 |             0.000 |           0.00 |           0:00 |     0     0     0     0 |\n",
      "|    XRP/USDT |      0 |           0.00 |           0.00 |             0.000 |           0.00 |           0:00 |     0     0     0     0 |\n",
      "|    SOL/USDT |      0 |           0.00 |           0.00 |             0.000 |           0.00 |           0:00 |     0     0     0     0 |\n",
      "|    TRX/USDT |      0 |           0.00 |           0.00 |             0.000 |           0.00 |           0:00 |     0     0     0     0 |\n",
      "|   SAND/USDT |      0 |           0.00 |           0.00 |             0.000 |           0.00 |           0:00 |     0     0     0     0 |\n",
      "|   AVAX/USDT |      0 |           0.00 |           0.00 |             0.000 |           0.00 |           0:00 |     0     0     0     0 |\n",
      "|   NEAR/USDT |      0 |           0.00 |           0.00 |             0.000 |           0.00 |           0:00 |     0     0     0     0 |\n",
      "|    DOT/USDT |      0 |           0.00 |           0.00 |             0.000 |           0.00 |           0:00 |     0     0     0     0 |\n",
      "|    ADA/USDT |      0 |           0.00 |           0.00 |             0.000 |           0.00 |           0:00 |     0     0     0     0 |\n",
      "|   YFII/USDT |      0 |           0.00 |           0.00 |             0.000 |           0.00 |           0:00 |     0     0     0     0 |\n",
      "|   MANA/USDT |      0 |           0.00 |           0.00 |             0.000 |           0.00 |           0:00 |     0     0     0     0 |\n",
      "|   SHIB/USDT |      0 |           0.00 |           0.00 |             0.000 |           0.00 |           0:00 |     0     0     0     0 |\n",
      "|    LRC/USDT |      0 |           0.00 |           0.00 |             0.000 |           0.00 |           0:00 |     0     0     0     0 |\n",
      "|  MATIC/USDT |      0 |           0.00 |           0.00 |             0.000 |           0.00 |           0:00 |     0     0     0     0 |\n",
      "|    ETC/USDT |      0 |           0.00 |           0.00 |             0.000 |           0.00 |           0:00 |     0     0     0     0 |\n",
      "|   ROSE/USDT |      0 |           0.00 |           0.00 |             0.000 |           0.00 |           0:00 |     0     0     0     0 |\n",
      "|   DOGE/USDT |      0 |           0.00 |           0.00 |             0.000 |           0.00 |           0:00 |     0     0     0     0 |\n",
      "|    EUR/USDT |      0 |           0.00 |           0.00 |             0.000 |           0.00 |           0:00 |     0     0     0     0 |\n",
      "|  CHESS/USDT |      0 |           0.00 |           0.00 |             0.000 |           0.00 |           0:00 |     0     0     0     0 |\n",
      "|    APE/USDT |      1 |          -0.13 |          -0.13 |            -0.049 |          -0.05 |        4:00:00 |     0     0     1     0 |\n",
      "|       TOTAL |     13 |           3.36 |          43.67 |            15.304 |          15.30 |       15:14:00 |     9     3     1  69.2 |\n",
      "========================================================= ENTER TAG STATS ==========================================================\n",
      "|   TAG |   Buys |   Avg Profit % |   Cum Profit % |   Tot Profit USDT |   Tot Profit % |   Avg Duration |   Win  Draw  Loss  Win% |\n",
      "|-------+--------+----------------+----------------+-------------------+----------------+----------------+-------------------------|\n",
      "| TOTAL |     13 |           3.36 |          43.67 |            15.304 |          15.30 |       15:14:00 |     9     3     1  69.2 |\n",
      "===================================================== EXIT REASON STATS =====================================================\n",
      "|   Exit Reason |   Exits |   Win  Draws  Loss  Win% |   Avg Profit % |   Cum Profit % |   Tot Profit USDT |   Tot Profit % |\n",
      "|---------------+---------+--------------------------+----------------+----------------+-------------------+----------------|\n",
      "|           roi |      12 |      9     3     0   100 |           3.65 |          43.8  |            15.354 |          14.6  |\n",
      "|    force_exit |       1 |      0     0     1     0 |          -0.13 |          -0.13 |            -0.049 |          -0.04 |\n",
      "======================================================= LEFT OPEN TRADES REPORT =======================================================\n",
      "|     Pair |   Buys |   Avg Profit % |   Cum Profit % |   Tot Profit USDT |   Tot Profit % |   Avg Duration |   Win  Draw  Loss  Win% |\n",
      "|----------+--------+----------------+----------------+-------------------+----------------+----------------+-------------------------|\n",
      "| APE/USDT |      1 |          -0.13 |          -0.13 |            -0.049 |          -0.05 |        4:00:00 |     0     0     1     0 |\n",
      "|    TOTAL |      1 |          -0.13 |          -0.13 |            -0.049 |          -0.05 |        4:00:00 |     0     0     1     0 |\n",
      "================== SUMMARY METRICS ==================\n",
      "| Metric                      | Value               |\n",
      "|-----------------------------+---------------------|\n",
      "| Backtesting from            | 2022-03-01 00:00:00 |\n",
      "| Backtesting to              | 2022-04-01 00:00:00 |\n",
      "| Max open trades             | 3                   |\n",
      "|                             |                     |\n",
      "| Total/Daily Avg Trades      | 13 / 0.42           |\n",
      "| Starting balance            | 100 USDT            |\n",
      "| Final balance               | 115.304 USDT        |\n",
      "| Absolute profit             | 15.304 USDT         |\n",
      "| Total profit %              | 15.30%              |\n",
      "| CAGR %                      | 434.77%             |\n",
      "| Trades per day              | 0.42                |\n",
      "| Avg. daily profit %         | 0.49%               |\n",
      "| Avg. stake amount           | 34.97 USDT          |\n",
      "| Total trade volume          | 454.608 USDT        |\n",
      "|                             |                     |\n",
      "| Best Pair                   | GMT/USDT 11.49%     |\n",
      "| Worst Pair                  | APE/USDT -0.13%     |\n",
      "| Best trade                  | BURGER/USDT 7.59%   |\n",
      "| Worst trade                 | APE/USDT -0.13%     |\n",
      "| Best day                    | 3.011 USDT          |\n",
      "| Worst day                   | -0.049 USDT         |\n",
      "| Days win/draw/lose          | 6 / 21 / 1          |\n",
      "| Avg. Duration Winners       | 13:53:00            |\n",
      "| Avg. Duration Loser         | 4:00:00             |\n",
      "| Rejected Entry signals      | 578                 |\n",
      "| Entry/Exit Timeouts         | 0 / 0               |\n",
      "|                             |                     |\n",
      "| Min balance                 | 101.507 USDT        |\n",
      "| Max balance                 | 115.354 USDT        |\n",
      "| Max % of account underwater | 0.04%               |\n",
      "| Absolute Drawdown (Account) | 0.04%               |\n",
      "| Absolute Drawdown           | 0.049 USDT          |\n",
      "| Drawdown high               | 15.354 USDT         |\n",
      "| Drawdown low                | 15.304 USDT         |\n",
      "| Drawdown Start              | 2022-03-25 11:00:00 |\n",
      "| Drawdown End                | 2022-04-01 00:00:00 |\n",
      "| Market change               | 67.58%              |\n",
      "=====================================================\n",
      "\n",
      "2022-05-30 20:48:51.869 | INFO     | lazyft.backtest.runner:on_finished:254 - Elapsed time: 1.47\n",
      "2022-05-30 20:48:51.878 | INFO     | lazyft.parameter_tools:remove_params_file:36 - Removing strategy params: /home/raphael/PycharmProjects/lazyft_lib/user_data/strategies/Gumbo1.json\n",
      "2022-05-30 20:48:51.880 | SUCCESS  | lazyft.backtest.runner:on_finished:258 - Backtest Gumbo1 finished successfully\n",
      "2022-05-30 20:48:51.880 | INFO     | lazyft.strategy:delete_temporary_strategy_backup_dir:264 - Deleting temporary strategy folder /tmp/lazyft-Gumbo1_gxy3c7qa\n"
     ]
    }
   ],
   "source": [
    "bh_runner = b_params.run('Gumbo1-1', load_from_hash=False)"
   ]
  },
  {
   "cell_type": "code",
   "execution_count": 10,
   "metadata": {},
   "outputs": [
    {
     "name": "stdout",
     "output_type": "stream",
     "text": [
      "2022-05-30 20:48:58.933 | INFO     | lazyft.backtest.runner:save:360 - Created report id 2: {'start_date': datetime.datetime(2022, 3, 1, 0, 0), 'end_date': datetime.datetime(2022, 4, 1, 0, 0), 'trades': 13, 'wins': 9, 'losses': 1, 'draws': 3, 'drawdown': 0.00042888225715765444, 'avg_duration': '15:14:00', 'profit_mean_pct': 0.03359514153846154, 'profit_sum_pct': 43.67, 'profit_total_abs': 15.30402821, 'profit_total_pct': 0.153, 'duration_avg': datetime.timedelta(seconds=54840)}\n"
     ]
    },
    {
     "data": {
      "text/plain": [
       "BacktestReport(date=datetime.datetime(2022, 5, 30, 20, 48, 51, 880082), session_id=None, tag='20220301-20220401', hyperopt_id='1', strategy_hash='59eb4b984906f52dd73aaa7da1031e3c', id=2, hash='bc0be82b5836ab501643dbb5a1c17b83', ensemble='', backtest_file_str='backtest-result-2022-05-30_20-48-51.json', exchange='binance')"
      ]
     },
     "execution_count": 10,
     "metadata": {},
     "output_type": "execute_result"
    }
   ],
   "source": [
    "bh_runner.save()"
   ]
  },
  {
   "cell_type": "markdown",
   "metadata": {},
   "source": [
    "## Show"
   ]
  },
  {
   "cell_type": "code",
   "execution_count": 5,
   "metadata": {},
   "outputs": [
    {
     "name": "stdout",
     "output_type": "stream",
     "text": [
      "Result for strategy Gumbo1 #None | Hyperopt: False | Hyperopt id: 1\n",
      "=========================================================== BACKTESTING REPORT ===========================================================\n",
      "|        Pair |   Buys |   Avg Profit % |   Cum Profit % |   Tot Profit USDT |   Tot Profit % |   Avg Duration |   Win  Draw  Loss  Win% |\n",
      "|-------------+--------+----------------+----------------+-------------------+----------------+----------------+-------------------------|\n",
      "|    GMT/USDT |      2 |           5.74 |          11.49 |             4.252 |           4.25 |       13:30:00 |     2     0     0   100 |\n",
      "|    FTM/USDT |      5 |           2.30 |          11.49 |             4.074 |           4.07 |       17:36:00 |     2     3     0   100 |\n",
      "| BURGER/USDT |      2 |           5.74 |          11.49 |             3.934 |           3.93 |       13:00:00 |     2     0     0   100 |\n",
      "|   GALA/USDT |      1 |           4.56 |           4.56 |             1.507 |           1.51 |       10:00:00 |     1     0     0   100 |\n",
      "|    XMR/USDT |      1 |           3.90 |           3.90 |             1.287 |           1.29 |       21:00:00 |     1     0     0   100 |\n",
      "|    RAD/USDT |      1 |           0.88 |           0.88 |             0.298 |           0.30 |       22:00:00 |     1     0     0   100 |\n",
      "|    BTC/USDT |      0 |           0.00 |           0.00 |             0.000 |           0.00 |           0:00 |     0     0     0     0 |\n",
      "|    ETH/USDT |      0 |           0.00 |           0.00 |             0.000 |           0.00 |           0:00 |     0     0     0     0 |\n",
      "|   BUSD/USDT |      0 |           0.00 |           0.00 |             0.000 |           0.00 |           0:00 |     0     0     0     0 |\n",
      "|   USDC/USDT |      0 |           0.00 |           0.00 |             0.000 |           0.00 |           0:00 |     0     0     0     0 |\n",
      "|    XRP/USDT |      0 |           0.00 |           0.00 |             0.000 |           0.00 |           0:00 |     0     0     0     0 |\n",
      "|    SOL/USDT |      0 |           0.00 |           0.00 |             0.000 |           0.00 |           0:00 |     0     0     0     0 |\n",
      "|    TRX/USDT |      0 |           0.00 |           0.00 |             0.000 |           0.00 |           0:00 |     0     0     0     0 |\n",
      "|   SAND/USDT |      0 |           0.00 |           0.00 |             0.000 |           0.00 |           0:00 |     0     0     0     0 |\n",
      "|   AVAX/USDT |      0 |           0.00 |           0.00 |             0.000 |           0.00 |           0:00 |     0     0     0     0 |\n",
      "|   NEAR/USDT |      0 |           0.00 |           0.00 |             0.000 |           0.00 |           0:00 |     0     0     0     0 |\n",
      "|    DOT/USDT |      0 |           0.00 |           0.00 |             0.000 |           0.00 |           0:00 |     0     0     0     0 |\n",
      "|    ADA/USDT |      0 |           0.00 |           0.00 |             0.000 |           0.00 |           0:00 |     0     0     0     0 |\n",
      "|   YFII/USDT |      0 |           0.00 |           0.00 |             0.000 |           0.00 |           0:00 |     0     0     0     0 |\n",
      "|   MANA/USDT |      0 |           0.00 |           0.00 |             0.000 |           0.00 |           0:00 |     0     0     0     0 |\n",
      "|   SHIB/USDT |      0 |           0.00 |           0.00 |             0.000 |           0.00 |           0:00 |     0     0     0     0 |\n",
      "|    LRC/USDT |      0 |           0.00 |           0.00 |             0.000 |           0.00 |           0:00 |     0     0     0     0 |\n",
      "|  MATIC/USDT |      0 |           0.00 |           0.00 |             0.000 |           0.00 |           0:00 |     0     0     0     0 |\n",
      "|    ETC/USDT |      0 |           0.00 |           0.00 |             0.000 |           0.00 |           0:00 |     0     0     0     0 |\n",
      "|   ROSE/USDT |      0 |           0.00 |           0.00 |             0.000 |           0.00 |           0:00 |     0     0     0     0 |\n",
      "|   DOGE/USDT |      0 |           0.00 |           0.00 |             0.000 |           0.00 |           0:00 |     0     0     0     0 |\n",
      "|    EUR/USDT |      0 |           0.00 |           0.00 |             0.000 |           0.00 |           0:00 |     0     0     0     0 |\n",
      "|  CHESS/USDT |      0 |           0.00 |           0.00 |             0.000 |           0.00 |           0:00 |     0     0     0     0 |\n",
      "|    APE/USDT |      1 |          -0.13 |          -0.13 |            -0.049 |          -0.05 |        4:00:00 |     0     0     1     0 |\n",
      "|       TOTAL |     13 |           3.36 |          43.67 |            15.304 |          15.30 |       15:14:00 |     9     3     1  69.2 |\n",
      "===================================================== SELL REASON STATS =====================================================\n",
      "|   Exit Reason |   Exits |   Win  Draws  Loss  Win% |   Avg Profit % |   Cum Profit % |   Tot Profit USDT |   Tot Profit % |\n",
      "|---------------+---------+--------------------------+----------------+----------------+-------------------+----------------|\n",
      "|           roi |      12 |      9     3     0   100 |           3.65 |          43.8  |            15.354 |          14.6  |\n",
      "|    force_exit |       1 |      0     0     1     0 |          -0.13 |          -0.13 |            -0.049 |          -0.04 |\n",
      "======================================================= LEFT OPEN TRADES REPORT =======================================================\n",
      "|     Pair |   Buys |   Avg Profit % |   Cum Profit % |   Tot Profit USDT |   Tot Profit % |   Avg Duration |   Win  Draw  Loss  Win% |\n",
      "|----------+--------+----------------+----------------+-------------------+----------------+----------------+-------------------------|\n",
      "| APE/USDT |      1 |          -0.13 |          -0.13 |            -0.049 |          -0.05 |        4:00:00 |     0     0     1     0 |\n",
      "|    TOTAL |      1 |          -0.13 |          -0.13 |            -0.049 |          -0.05 |        4:00:00 |     0     0     1     0 |\n",
      "================== SUMMARY METRICS ==================\n",
      "| Metric                      | Value               |\n",
      "|-----------------------------+---------------------|\n",
      "| Backtesting from            | 2022-03-01 00:00:00 |\n",
      "| Backtesting to              | 2022-04-01 00:00:00 |\n",
      "| Max open trades             | 3                   |\n",
      "|                             |                     |\n",
      "| Total/Daily Avg Trades      | 13 / 0.42           |\n",
      "| Starting balance            | 100 USDT            |\n",
      "| Final balance               | 115.304 USDT        |\n",
      "| Absolute profit             | 15.304 USDT         |\n",
      "| Total profit %              | 15.30%              |\n",
      "| CAGR %                      | 434.77%             |\n",
      "| Trades per day              | 0.42                |\n",
      "| Avg. daily profit %         | 0.49%               |\n",
      "| Avg. stake amount           | 34.97 USDT          |\n",
      "| Total trade volume          | 454.608 USDT        |\n",
      "|                             |                     |\n",
      "| Best Pair                   | GMT/USDT 11.49%     |\n",
      "| Worst Pair                  | APE/USDT -0.13%     |\n",
      "| Best trade                  | BURGER/USDT 7.59%   |\n",
      "| Worst trade                 | APE/USDT -0.13%     |\n",
      "| Best day                    | 3.011 USDT          |\n",
      "| Worst day                   | -0.049 USDT         |\n",
      "| Days win/draw/lose          | 6 / 21 / 1          |\n",
      "| Avg. Duration Winners       | 13:53:00            |\n",
      "| Avg. Duration Loser         | 4:00:00             |\n",
      "| Rejected Entry signals      | 578                 |\n",
      "| Entry/Exit Timeouts         | 0 / 0               |\n",
      "|                             |                     |\n",
      "| Min balance                 | 101.507 USDT        |\n",
      "| Max balance                 | 115.354 USDT        |\n",
      "| Max % of account underwater | 0.04%               |\n",
      "| Absolute Drawdown (Account) | 0.04%               |\n",
      "| Absolute Drawdown           | 0.049 USDT          |\n",
      "| Drawdown high               | 15.354 USDT         |\n",
      "| Drawdown low                | 15.304 USDT         |\n",
      "| Drawdown Start              | 2022-03-25 11:00:00 |\n",
      "| Drawdown End                | 2022-04-01 00:00:00 |\n",
      "| Market change               | 67.58%              |\n",
      "=====================================================\n",
      "\n"
     ]
    }
   ],
   "source": [
    "print(bh_runner.report.report_text)"
   ]
  },
  {
   "cell_type": "code",
   "execution_count": 6,
   "metadata": {},
   "outputs": [
    {
     "data": {
      "application/vnd.plotly.v1+json": {
       "config": {
        "plotlyServerURL": "https://plot.ly"
       },
       "data": [
        {
         "hovertemplate": "variable=equity_daily<br>date=%{x}<br>value=%{y}<extra></extra>",
         "legendgroup": "equity_daily",
         "line": {
          "color": "#636efa",
          "dash": "solid"
         },
         "marker": {
          "symbol": "circle"
         },
         "mode": "lines",
         "name": "equity_daily",
         "orientation": "v",
         "showlegend": true,
         "type": "scatter",
         "x": [
          "2022-03-05",
          "2022-03-06",
          "2022-03-07",
          "2022-03-08",
          "2022-03-09",
          "2022-03-10",
          "2022-03-11",
          "2022-03-12",
          "2022-03-13",
          "2022-03-14",
          "2022-03-15",
          "2022-03-16",
          "2022-03-17",
          "2022-03-18",
          "2022-03-19",
          "2022-03-20",
          "2022-03-21",
          "2022-03-22",
          "2022-03-23",
          "2022-03-24",
          "2022-03-25",
          "2022-03-26",
          "2022-03-27",
          "2022-03-28",
          "2022-03-29",
          "2022-03-30",
          "2022-03-31",
          "2022-04-01"
         ],
         "xaxis": "x",
         "y": [
          0,
          2.794376,
          2.794376,
          5.37245895,
          8.38309597,
          8.38309597,
          8.38309597,
          11.101344019999999,
          11.101344019999999,
          11.101344019999999,
          11.101344019999999,
          11.101344019999999,
          11.101344019999999,
          11.101344019999999,
          11.101344019999999,
          11.101344019999999,
          11.101344019999999,
          12.531218319999999,
          12.531218319999999,
          12.531218319999999,
          12.531218319999999,
          15.35350128,
          15.35350128,
          15.35350128,
          15.35350128,
          15.35350128,
          15.35350128,
          15.35350128
         ],
         "yaxis": "y"
        }
       ],
       "layout": {
        "legend": {
         "title": {
          "text": "variable"
         },
         "tracegroupgap": 0
        },
        "template": {
         "data": {
          "bar": [
           {
            "error_x": {
             "color": "#2a3f5f"
            },
            "error_y": {
             "color": "#2a3f5f"
            },
            "marker": {
             "line": {
              "color": "#E5ECF6",
              "width": 0.5
             },
             "pattern": {
              "fillmode": "overlay",
              "size": 10,
              "solidity": 0.2
             }
            },
            "type": "bar"
           }
          ],
          "barpolar": [
           {
            "marker": {
             "line": {
              "color": "#E5ECF6",
              "width": 0.5
             },
             "pattern": {
              "fillmode": "overlay",
              "size": 10,
              "solidity": 0.2
             }
            },
            "type": "barpolar"
           }
          ],
          "carpet": [
           {
            "aaxis": {
             "endlinecolor": "#2a3f5f",
             "gridcolor": "white",
             "linecolor": "white",
             "minorgridcolor": "white",
             "startlinecolor": "#2a3f5f"
            },
            "baxis": {
             "endlinecolor": "#2a3f5f",
             "gridcolor": "white",
             "linecolor": "white",
             "minorgridcolor": "white",
             "startlinecolor": "#2a3f5f"
            },
            "type": "carpet"
           }
          ],
          "choropleth": [
           {
            "colorbar": {
             "outlinewidth": 0,
             "ticks": ""
            },
            "type": "choropleth"
           }
          ],
          "contour": [
           {
            "colorbar": {
             "outlinewidth": 0,
             "ticks": ""
            },
            "colorscale": [
             [
              0,
              "#0d0887"
             ],
             [
              0.1111111111111111,
              "#46039f"
             ],
             [
              0.2222222222222222,
              "#7201a8"
             ],
             [
              0.3333333333333333,
              "#9c179e"
             ],
             [
              0.4444444444444444,
              "#bd3786"
             ],
             [
              0.5555555555555556,
              "#d8576b"
             ],
             [
              0.6666666666666666,
              "#ed7953"
             ],
             [
              0.7777777777777778,
              "#fb9f3a"
             ],
             [
              0.8888888888888888,
              "#fdca26"
             ],
             [
              1,
              "#f0f921"
             ]
            ],
            "type": "contour"
           }
          ],
          "contourcarpet": [
           {
            "colorbar": {
             "outlinewidth": 0,
             "ticks": ""
            },
            "type": "contourcarpet"
           }
          ],
          "heatmap": [
           {
            "colorbar": {
             "outlinewidth": 0,
             "ticks": ""
            },
            "colorscale": [
             [
              0,
              "#0d0887"
             ],
             [
              0.1111111111111111,
              "#46039f"
             ],
             [
              0.2222222222222222,
              "#7201a8"
             ],
             [
              0.3333333333333333,
              "#9c179e"
             ],
             [
              0.4444444444444444,
              "#bd3786"
             ],
             [
              0.5555555555555556,
              "#d8576b"
             ],
             [
              0.6666666666666666,
              "#ed7953"
             ],
             [
              0.7777777777777778,
              "#fb9f3a"
             ],
             [
              0.8888888888888888,
              "#fdca26"
             ],
             [
              1,
              "#f0f921"
             ]
            ],
            "type": "heatmap"
           }
          ],
          "heatmapgl": [
           {
            "colorbar": {
             "outlinewidth": 0,
             "ticks": ""
            },
            "colorscale": [
             [
              0,
              "#0d0887"
             ],
             [
              0.1111111111111111,
              "#46039f"
             ],
             [
              0.2222222222222222,
              "#7201a8"
             ],
             [
              0.3333333333333333,
              "#9c179e"
             ],
             [
              0.4444444444444444,
              "#bd3786"
             ],
             [
              0.5555555555555556,
              "#d8576b"
             ],
             [
              0.6666666666666666,
              "#ed7953"
             ],
             [
              0.7777777777777778,
              "#fb9f3a"
             ],
             [
              0.8888888888888888,
              "#fdca26"
             ],
             [
              1,
              "#f0f921"
             ]
            ],
            "type": "heatmapgl"
           }
          ],
          "histogram": [
           {
            "marker": {
             "pattern": {
              "fillmode": "overlay",
              "size": 10,
              "solidity": 0.2
             }
            },
            "type": "histogram"
           }
          ],
          "histogram2d": [
           {
            "colorbar": {
             "outlinewidth": 0,
             "ticks": ""
            },
            "colorscale": [
             [
              0,
              "#0d0887"
             ],
             [
              0.1111111111111111,
              "#46039f"
             ],
             [
              0.2222222222222222,
              "#7201a8"
             ],
             [
              0.3333333333333333,
              "#9c179e"
             ],
             [
              0.4444444444444444,
              "#bd3786"
             ],
             [
              0.5555555555555556,
              "#d8576b"
             ],
             [
              0.6666666666666666,
              "#ed7953"
             ],
             [
              0.7777777777777778,
              "#fb9f3a"
             ],
             [
              0.8888888888888888,
              "#fdca26"
             ],
             [
              1,
              "#f0f921"
             ]
            ],
            "type": "histogram2d"
           }
          ],
          "histogram2dcontour": [
           {
            "colorbar": {
             "outlinewidth": 0,
             "ticks": ""
            },
            "colorscale": [
             [
              0,
              "#0d0887"
             ],
             [
              0.1111111111111111,
              "#46039f"
             ],
             [
              0.2222222222222222,
              "#7201a8"
             ],
             [
              0.3333333333333333,
              "#9c179e"
             ],
             [
              0.4444444444444444,
              "#bd3786"
             ],
             [
              0.5555555555555556,
              "#d8576b"
             ],
             [
              0.6666666666666666,
              "#ed7953"
             ],
             [
              0.7777777777777778,
              "#fb9f3a"
             ],
             [
              0.8888888888888888,
              "#fdca26"
             ],
             [
              1,
              "#f0f921"
             ]
            ],
            "type": "histogram2dcontour"
           }
          ],
          "mesh3d": [
           {
            "colorbar": {
             "outlinewidth": 0,
             "ticks": ""
            },
            "type": "mesh3d"
           }
          ],
          "parcoords": [
           {
            "line": {
             "colorbar": {
              "outlinewidth": 0,
              "ticks": ""
             }
            },
            "type": "parcoords"
           }
          ],
          "pie": [
           {
            "automargin": true,
            "type": "pie"
           }
          ],
          "scatter": [
           {
            "fillpattern": {
             "fillmode": "overlay",
             "size": 10,
             "solidity": 0.2
            },
            "type": "scatter"
           }
          ],
          "scatter3d": [
           {
            "line": {
             "colorbar": {
              "outlinewidth": 0,
              "ticks": ""
             }
            },
            "marker": {
             "colorbar": {
              "outlinewidth": 0,
              "ticks": ""
             }
            },
            "type": "scatter3d"
           }
          ],
          "scattercarpet": [
           {
            "marker": {
             "colorbar": {
              "outlinewidth": 0,
              "ticks": ""
             }
            },
            "type": "scattercarpet"
           }
          ],
          "scattergeo": [
           {
            "marker": {
             "colorbar": {
              "outlinewidth": 0,
              "ticks": ""
             }
            },
            "type": "scattergeo"
           }
          ],
          "scattergl": [
           {
            "marker": {
             "colorbar": {
              "outlinewidth": 0,
              "ticks": ""
             }
            },
            "type": "scattergl"
           }
          ],
          "scattermapbox": [
           {
            "marker": {
             "colorbar": {
              "outlinewidth": 0,
              "ticks": ""
             }
            },
            "type": "scattermapbox"
           }
          ],
          "scatterpolar": [
           {
            "marker": {
             "colorbar": {
              "outlinewidth": 0,
              "ticks": ""
             }
            },
            "type": "scatterpolar"
           }
          ],
          "scatterpolargl": [
           {
            "marker": {
             "colorbar": {
              "outlinewidth": 0,
              "ticks": ""
             }
            },
            "type": "scatterpolargl"
           }
          ],
          "scatterternary": [
           {
            "marker": {
             "colorbar": {
              "outlinewidth": 0,
              "ticks": ""
             }
            },
            "type": "scatterternary"
           }
          ],
          "surface": [
           {
            "colorbar": {
             "outlinewidth": 0,
             "ticks": ""
            },
            "colorscale": [
             [
              0,
              "#0d0887"
             ],
             [
              0.1111111111111111,
              "#46039f"
             ],
             [
              0.2222222222222222,
              "#7201a8"
             ],
             [
              0.3333333333333333,
              "#9c179e"
             ],
             [
              0.4444444444444444,
              "#bd3786"
             ],
             [
              0.5555555555555556,
              "#d8576b"
             ],
             [
              0.6666666666666666,
              "#ed7953"
             ],
             [
              0.7777777777777778,
              "#fb9f3a"
             ],
             [
              0.8888888888888888,
              "#fdca26"
             ],
             [
              1,
              "#f0f921"
             ]
            ],
            "type": "surface"
           }
          ],
          "table": [
           {
            "cells": {
             "fill": {
              "color": "#EBF0F8"
             },
             "line": {
              "color": "white"
             }
            },
            "header": {
             "fill": {
              "color": "#C8D4E3"
             },
             "line": {
              "color": "white"
             }
            },
            "type": "table"
           }
          ]
         },
         "layout": {
          "annotationdefaults": {
           "arrowcolor": "#2a3f5f",
           "arrowhead": 0,
           "arrowwidth": 1
          },
          "autotypenumbers": "strict",
          "coloraxis": {
           "colorbar": {
            "outlinewidth": 0,
            "ticks": ""
           }
          },
          "colorscale": {
           "diverging": [
            [
             0,
             "#8e0152"
            ],
            [
             0.1,
             "#c51b7d"
            ],
            [
             0.2,
             "#de77ae"
            ],
            [
             0.3,
             "#f1b6da"
            ],
            [
             0.4,
             "#fde0ef"
            ],
            [
             0.5,
             "#f7f7f7"
            ],
            [
             0.6,
             "#e6f5d0"
            ],
            [
             0.7,
             "#b8e186"
            ],
            [
             0.8,
             "#7fbc41"
            ],
            [
             0.9,
             "#4d9221"
            ],
            [
             1,
             "#276419"
            ]
           ],
           "sequential": [
            [
             0,
             "#0d0887"
            ],
            [
             0.1111111111111111,
             "#46039f"
            ],
            [
             0.2222222222222222,
             "#7201a8"
            ],
            [
             0.3333333333333333,
             "#9c179e"
            ],
            [
             0.4444444444444444,
             "#bd3786"
            ],
            [
             0.5555555555555556,
             "#d8576b"
            ],
            [
             0.6666666666666666,
             "#ed7953"
            ],
            [
             0.7777777777777778,
             "#fb9f3a"
            ],
            [
             0.8888888888888888,
             "#fdca26"
            ],
            [
             1,
             "#f0f921"
            ]
           ],
           "sequentialminus": [
            [
             0,
             "#0d0887"
            ],
            [
             0.1111111111111111,
             "#46039f"
            ],
            [
             0.2222222222222222,
             "#7201a8"
            ],
            [
             0.3333333333333333,
             "#9c179e"
            ],
            [
             0.4444444444444444,
             "#bd3786"
            ],
            [
             0.5555555555555556,
             "#d8576b"
            ],
            [
             0.6666666666666666,
             "#ed7953"
            ],
            [
             0.7777777777777778,
             "#fb9f3a"
            ],
            [
             0.8888888888888888,
             "#fdca26"
            ],
            [
             1,
             "#f0f921"
            ]
           ]
          },
          "colorway": [
           "#636efa",
           "#EF553B",
           "#00cc96",
           "#ab63fa",
           "#FFA15A",
           "#19d3f3",
           "#FF6692",
           "#B6E880",
           "#FF97FF",
           "#FECB52"
          ],
          "font": {
           "color": "#2a3f5f"
          },
          "geo": {
           "bgcolor": "white",
           "lakecolor": "white",
           "landcolor": "#E5ECF6",
           "showlakes": true,
           "showland": true,
           "subunitcolor": "white"
          },
          "hoverlabel": {
           "align": "left"
          },
          "hovermode": "closest",
          "mapbox": {
           "style": "light"
          },
          "paper_bgcolor": "white",
          "plot_bgcolor": "#E5ECF6",
          "polar": {
           "angularaxis": {
            "gridcolor": "white",
            "linecolor": "white",
            "ticks": ""
           },
           "bgcolor": "#E5ECF6",
           "radialaxis": {
            "gridcolor": "white",
            "linecolor": "white",
            "ticks": ""
           }
          },
          "scene": {
           "xaxis": {
            "backgroundcolor": "#E5ECF6",
            "gridcolor": "white",
            "gridwidth": 2,
            "linecolor": "white",
            "showbackground": true,
            "ticks": "",
            "zerolinecolor": "white"
           },
           "yaxis": {
            "backgroundcolor": "#E5ECF6",
            "gridcolor": "white",
            "gridwidth": 2,
            "linecolor": "white",
            "showbackground": true,
            "ticks": "",
            "zerolinecolor": "white"
           },
           "zaxis": {
            "backgroundcolor": "#E5ECF6",
            "gridcolor": "white",
            "gridwidth": 2,
            "linecolor": "white",
            "showbackground": true,
            "ticks": "",
            "zerolinecolor": "white"
           }
          },
          "shapedefaults": {
           "line": {
            "color": "#2a3f5f"
           }
          },
          "ternary": {
           "aaxis": {
            "gridcolor": "white",
            "linecolor": "white",
            "ticks": ""
           },
           "baxis": {
            "gridcolor": "white",
            "linecolor": "white",
            "ticks": ""
           },
           "bgcolor": "#E5ECF6",
           "caxis": {
            "gridcolor": "white",
            "linecolor": "white",
            "ticks": ""
           }
          },
          "title": {
           "x": 0.05
          },
          "xaxis": {
           "automargin": true,
           "gridcolor": "white",
           "linecolor": "white",
           "ticks": "",
           "title": {
            "standoff": 15
           },
           "zerolinecolor": "white",
           "zerolinewidth": 2
          },
          "yaxis": {
           "automargin": true,
           "gridcolor": "white",
           "linecolor": "white",
           "ticks": "",
           "title": {
            "standoff": 15
           },
           "zerolinecolor": "white",
           "zerolinewidth": 2
          }
         }
        },
        "title": {
         "text": "Equity Curve Gumbo1-1 | Interval=1h Timerange=20220301-20220401, Total profit=$15.30, Total pct=15.30%, Mean pct=3.36%, Trades=13, Wins=9, Losses=1, Draws=3, Win ratio=69.23%"
        },
        "xaxis": {
         "anchor": "y",
         "domain": [
          0,
          1
         ],
         "title": {
          "text": "date"
         }
        },
        "yaxis": {
         "anchor": "x",
         "domain": [
          0,
          1
         ],
         "title": {
          "text": "value"
         }
        }
       }
      }
     },
     "metadata": {},
     "output_type": "display_data"
    }
   ],
   "source": [
    "bh_runner.report.plot() "
   ]
  },
  {
   "cell_type": "markdown",
   "metadata": {},
   "source": [
    "# Browse Repo"
   ]
  },
  {
   "cell_type": "code",
   "execution_count": 11,
   "metadata": {},
   "outputs": [
    {
     "data": {
      "text/html": [
       "<div>\n",
       "<style scoped>\n",
       "    .dataframe tbody tr th:only-of-type {\n",
       "        vertical-align: middle;\n",
       "    }\n",
       "\n",
       "    .dataframe tbody tr th {\n",
       "        vertical-align: top;\n",
       "    }\n",
       "\n",
       "    .dataframe thead th {\n",
       "        text-align: right;\n",
       "    }\n",
       "</style>\n",
       "<table border=\"1\" class=\"dataframe\">\n",
       "  <thead>\n",
       "    <tr style=\"text-align: right;\">\n",
       "      <th></th>\n",
       "      <th>strategy</th>\n",
       "      <th>hyperopt_id</th>\n",
       "      <th>date</th>\n",
       "      <th>exchange</th>\n",
       "      <th>m_o_t</th>\n",
       "      <th>stake</th>\n",
       "      <th>balance</th>\n",
       "      <th>n_pairlist</th>\n",
       "      <th>avg_profit_pct</th>\n",
       "      <th>avg_duration</th>\n",
       "      <th>wins</th>\n",
       "      <th>losses</th>\n",
       "      <th>sortino</th>\n",
       "      <th>drawdown</th>\n",
       "      <th>total_profit_pct</th>\n",
       "      <th>total_profit</th>\n",
       "      <th>trades</th>\n",
       "      <th>days</th>\n",
       "      <th>tag</th>\n",
       "    </tr>\n",
       "    <tr>\n",
       "      <th>id</th>\n",
       "      <th></th>\n",
       "      <th></th>\n",
       "      <th></th>\n",
       "      <th></th>\n",
       "      <th></th>\n",
       "      <th></th>\n",
       "      <th></th>\n",
       "      <th></th>\n",
       "      <th></th>\n",
       "      <th></th>\n",
       "      <th></th>\n",
       "      <th></th>\n",
       "      <th></th>\n",
       "      <th></th>\n",
       "      <th></th>\n",
       "      <th></th>\n",
       "      <th></th>\n",
       "      <th></th>\n",
       "      <th></th>\n",
       "    </tr>\n",
       "  </thead>\n",
       "  <tbody>\n",
       "    <tr>\n",
       "      <th>2</th>\n",
       "      <td>Gumbo1</td>\n",
       "      <td>1</td>\n",
       "      <td>05/30/22 20:48:51</td>\n",
       "      <td>binance</td>\n",
       "      <td>3</td>\n",
       "      <td>unlimited</td>\n",
       "      <td>100</td>\n",
       "      <td>29</td>\n",
       "      <td>3.360</td>\n",
       "      <td>15:14:00</td>\n",
       "      <td>9</td>\n",
       "      <td>1</td>\n",
       "      <td>832.213</td>\n",
       "      <td>0.000</td>\n",
       "      <td>0.153</td>\n",
       "      <td>15.300</td>\n",
       "      <td>13</td>\n",
       "      <td>31</td>\n",
       "      <td>20220301-20220401</td>\n",
       "    </tr>\n",
       "    <tr>\n",
       "      <th>1</th>\n",
       "      <td>Gumbo1</td>\n",
       "      <td></td>\n",
       "      <td>05/30/22 20:48:25</td>\n",
       "      <td>binance</td>\n",
       "      <td>3</td>\n",
       "      <td>unlimited</td>\n",
       "      <td>100</td>\n",
       "      <td>29</td>\n",
       "      <td>1.301</td>\n",
       "      <td>8:12:00</td>\n",
       "      <td>6</td>\n",
       "      <td>0</td>\n",
       "      <td>1.04K</td>\n",
       "      <td>0.000</td>\n",
       "      <td>0.044</td>\n",
       "      <td>4.370</td>\n",
       "      <td>10</td>\n",
       "      <td>31</td>\n",
       "      <td>20220301-20220401</td>\n",
       "    </tr>\n",
       "  </tbody>\n",
       "</table>\n",
       "</div>"
      ],
      "text/plain": [
       "   strategy hyperopt_id               date exchange  m_o_t      stake  \\\n",
       "id                                                                      \n",
       "2    Gumbo1           1  05/30/22 20:48:51  binance      3  unlimited   \n",
       "1    Gumbo1              05/30/22 20:48:25  binance      3  unlimited   \n",
       "\n",
       "    balance  n_pairlist  avg_profit_pct avg_duration  wins  losses  sortino  \\\n",
       "id                                                                            \n",
       "2       100          29           3.360     15:14:00     9       1  832.213   \n",
       "1       100          29           1.301      8:12:00     6       0    1.04K   \n",
       "\n",
       "    drawdown  total_profit_pct  total_profit  trades  days                tag  \n",
       "id                                                                             \n",
       "2      0.000             0.153        15.300      13    31  20220301-20220401  \n",
       "1      0.000             0.044         4.370      10    31  20220301-20220401  "
      ]
     },
     "execution_count": 11,
     "metadata": {},
     "output_type": "execute_result"
    }
   ],
   "source": [
    "get_backtest_repo().df()"
   ]
  },
  {
   "cell_type": "code",
   "execution_count": 13,
   "metadata": {},
   "outputs": [
    {
     "data": {
      "text/plain": [
       "BacktestReport(date=datetime.datetime(2022, 5, 30, 20, 48, 25, 506573), session_id=None, tag='20220301-20220401', hyperopt_id='', strategy_hash='59eb4b984906f52dd73aaa7da1031e3c', id=1, hash='ae33447b44fd8a3f4eea6939c9937d73', ensemble='', backtest_file_str='backtest-result-2022-05-30_20-48-25.json', exchange='binance')"
      ]
     },
     "execution_count": 13,
     "metadata": {},
     "output_type": "execute_result"
    }
   ],
   "source": [
    "get_backtest_repo().get(1)"
   ]
  },
  {
   "cell_type": "code",
   "execution_count": 12,
   "metadata": {},
   "outputs": [
    {
     "data": {
      "text/html": [
       "<div>\n",
       "<style scoped>\n",
       "    .dataframe tbody tr th:only-of-type {\n",
       "        vertical-align: middle;\n",
       "    }\n",
       "\n",
       "    .dataframe tbody tr th {\n",
       "        vertical-align: top;\n",
       "    }\n",
       "\n",
       "    .dataframe thead th {\n",
       "        text-align: right;\n",
       "    }\n",
       "</style>\n",
       "<table border=\"1\" class=\"dataframe\">\n",
       "  <thead>\n",
       "    <tr style=\"text-align: right;\">\n",
       "      <th></th>\n",
       "      <th>strategy</th>\n",
       "      <th>date</th>\n",
       "      <th>exchange</th>\n",
       "      <th>m_o_t</th>\n",
       "      <th>stake</th>\n",
       "      <th>balance</th>\n",
       "      <th>n_pairlist</th>\n",
       "      <th>avg_profit_pct</th>\n",
       "      <th>avg_duration</th>\n",
       "      <th>wins</th>\n",
       "      <th>losses</th>\n",
       "      <th>drawdown</th>\n",
       "      <th>total_profit_pct</th>\n",
       "      <th>total_profit</th>\n",
       "      <th>trades</th>\n",
       "      <th>days</th>\n",
       "      <th>tag</th>\n",
       "    </tr>\n",
       "    <tr>\n",
       "      <th>id</th>\n",
       "      <th></th>\n",
       "      <th></th>\n",
       "      <th></th>\n",
       "      <th></th>\n",
       "      <th></th>\n",
       "      <th></th>\n",
       "      <th></th>\n",
       "      <th></th>\n",
       "      <th></th>\n",
       "      <th></th>\n",
       "      <th></th>\n",
       "      <th></th>\n",
       "      <th></th>\n",
       "      <th></th>\n",
       "      <th></th>\n",
       "      <th></th>\n",
       "      <th></th>\n",
       "    </tr>\n",
       "  </thead>\n",
       "  <tbody>\n",
       "    <tr>\n",
       "      <th>1</th>\n",
       "      <td>Gumbo1</td>\n",
       "      <td>05/30/22 20:09:36</td>\n",
       "      <td>binance</td>\n",
       "      <td>3</td>\n",
       "      <td>unlimited</td>\n",
       "      <td>100</td>\n",
       "      <td>30</td>\n",
       "      <td>0.437</td>\n",
       "      <td>17:59:00</td>\n",
       "      <td>40</td>\n",
       "      <td>13</td>\n",
       "      <td>0.204</td>\n",
       "      <td>0.071</td>\n",
       "      <td>7.070</td>\n",
       "      <td>66</td>\n",
       "      <td>80</td>\n",
       "      <td>20220101-20220331,default</td>\n",
       "    </tr>\n",
       "  </tbody>\n",
       "</table>\n",
       "</div>"
      ],
      "text/plain": [
       "   strategy               date exchange  m_o_t      stake  balance  \\\n",
       "id                                                                   \n",
       "1    Gumbo1  05/30/22 20:09:36  binance      3  unlimited      100   \n",
       "\n",
       "    n_pairlist  avg_profit_pct avg_duration  wins  losses  drawdown  \\\n",
       "id                                                                    \n",
       "1           30           0.437     17:59:00    40      13     0.204   \n",
       "\n",
       "    total_profit_pct  total_profit  trades  days                        tag  \n",
       "id                                                                           \n",
       "1              0.071         7.070      66    80  20220101-20220331,default  "
      ]
     },
     "execution_count": 12,
     "metadata": {},
     "output_type": "execute_result"
    }
   ],
   "source": [
    "get_hyperopt_repo().df()"
   ]
  },
  {
   "cell_type": "code",
   "execution_count": null,
   "metadata": {},
   "outputs": [],
   "source": []
  }
 ],
 "metadata": {
  "interpreter": {
   "hash": "036f0defbf74470483e9956a57df1a911c14217fff51544a7d13aa0cc01b517a"
  },
  "kernelspec": {
   "display_name": "Python 3.9.12 ('venv': venv)",
   "language": "python",
   "name": "python3"
  },
  "language_info": {
   "codemirror_mode": {
    "name": "ipython",
    "version": 3
   },
   "file_extension": ".py",
   "mimetype": "text/x-python",
   "name": "python",
   "nbconvert_exporter": "python",
   "pygments_lexer": "ipython3",
   "version": "3.10.4"
  },
  "orig_nbformat": 4
 },
 "nbformat": 4,
 "nbformat_minor": 2
}
