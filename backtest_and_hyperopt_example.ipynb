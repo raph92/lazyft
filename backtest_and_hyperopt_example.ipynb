{
 "cells": [
  {
   "cell_type": "code",
   "execution_count": null,
   "metadata": {
    "pycharm": {
     "name": "#%%\n"
    }
   },
   "outputs": [],
   "source": [
    "%pip install -e .\n",
    "%pip install -r requirements.txt\n",
    "%pip install nest_asyncio"
   ]
  },
  {
   "cell_type": "code",
   "execution_count": 1,
   "metadata": {
    "pycharm": {
     "name": "#%%\n"
    }
   },
   "outputs": [
    {
     "data": {
      "text/html": [
       "<style>.output_result { max-width:100% !important; }</style>"
      ],
      "text/plain": [
       "<IPython.core.display.HTML object>"
      ]
     },
     "metadata": {},
     "output_type": "display_data"
    }
   ],
   "source": [
    "import nest_asyncio\n",
    "\n",
    "# Allow backtests to run in notebook\n",
    "nest_asyncio.apply()\n",
    "\n",
    "# Increase width of console output for browsers\n",
    "from IPython.display import HTML, display\n",
    "\n",
    "\n",
    "display(HTML(\"<style>.output_result { max-width:100% !important; }</style>\"))"
   ]
  },
  {
   "cell_type": "code",
   "execution_count": 1,
   "metadata": {
    "pycharm": {
     "name": "#%%\n"
    }
   },
   "outputs": [],
   "source": [
    "import pandas as pd\n",
    "\n",
    "\n",
    "from lazyft import backtest, paths, remote\n",
    "from lazyft.backtest.runner import BacktestMultiRunner\n",
    "from lazyft.config import Config\n",
    "from lazyft.reports import get_backtest_repo, get_hyperopt_repo"
   ]
  },
  {
   "cell_type": "markdown",
   "metadata": {
    "pycharm": {
     "name": "#%% md\n"
    }
   },
   "source": [
    "# Prepare to backtest"
   ]
  },
  {
   "cell_type": "code",
   "execution_count": 2,
   "metadata": {
    "pycharm": {
     "name": "#%%\n"
    }
   },
   "outputs": [
    {
     "name": "stdout",
     "output_type": "stream",
     "text": [
      "29 pairs\n",
      "max open trades: 3\n",
      "stake amount: unlimited\n",
      "timeframe: 20220301-20220401\n",
      "starting balance: 100\n",
      "exchange: binance\n",
      "timeframe: 1h\n"
     ]
    }
   ],
   "source": [
    "from lazyft.command_parameters import BacktestParameters\n",
    "\n",
    "b_timerange = \"20220301-20220401\"\n",
    "# b_days = 30\n",
    "\n",
    "b_conf = Config('config.json')\n",
    "\n",
    "b_params = BacktestParameters(\n",
    "    timerange=b_timerange,\n",
    "    interval='1h',\n",
    "    config_path=b_conf,\n",
    "    # days=b_days,\n",
    "    # secrets_config=priv_bin_us,\n",
    "    # pairs=['PYR/USDT'],\n",
    "    stake_amount='unlimited',\n",
    "    # timeframe_detail='5m',\n",
    "    starting_balance=100,\n",
    "    max_open_trades=3,\n",
    "    download_data=True,\n",
    "    tag='',\n",
    ")\n",
    "print(len(b_params.pairs), 'pairs')\n",
    "# b_params.max_open_trades = len(b_params.pairs)\n",
    "# print('strategy:', b_params.strategies[0])\n",
    "print('max open trades:', b_params.max_open_trades)\n",
    "print('stake amount:', b_params.stake_amount)\n",
    "print('timeframe:', b_params.timerange)\n",
    "print('starting balance:', b_params.starting_balance)\n",
    "print('exchange:', b_params.config['exchange']['name'])\n",
    "print('timeframe:', b_params.interval)\n",
    "if b_params.ensemble:\n",
    "    print('ensemble:', b_params.ensemble)"
   ]
  },
  {
   "cell_type": "markdown",
   "metadata": {
    "pycharm": {
     "name": "#%% md\n"
    }
   },
   "source": [
    "## Run Backtest on Gumbo1"
   ]
  },
  {
   "cell_type": "code",
   "execution_count": null,
   "metadata": {
    "pycharm": {
     "name": "#%%\n"
    }
   },
   "outputs": [],
   "source": [
    "b_runner = b_params.run('Gumbo1', load_from_hash=False)\n",
    "b_runner.save()"
   ]
  },
  {
   "cell_type": "markdown",
   "metadata": {
    "pycharm": {
     "name": "#%% md\n"
    }
   },
   "source": [
    "## Show backtest"
   ]
  },
  {
   "cell_type": "code",
   "execution_count": null,
   "metadata": {
    "pycharm": {
     "name": "#%%\n"
    }
   },
   "outputs": [],
   "source": [
    "print(b_runner.report.report_text)"
   ]
  },
  {
   "cell_type": "code",
   "execution_count": null,
   "metadata": {
    "pycharm": {
     "name": "#%%\n"
    }
   },
   "outputs": [],
   "source": [
    "b_runner.report.df"
   ]
  },
  {
   "cell_type": "code",
   "execution_count": null,
   "metadata": {
    "pycharm": {
     "name": "#%%\n"
    }
   },
   "outputs": [],
   "source": [
    "b_runner.report.plot_weekly()"
   ]
  },
  {
   "cell_type": "markdown",
   "metadata": {
    "pycharm": {
     "name": "#%% md\n"
    }
   },
   "source": [
    "# Prepare to Hyperopt Gumbo1"
   ]
  },
  {
   "cell_type": "code",
   "execution_count": null,
   "metadata": {
    "pycharm": {
     "name": "#%%\n"
    }
   },
   "outputs": [],
   "source": [
    "from lazyft.command_parameters import HyperoptParameters\n",
    "\n",
    "h_days = 365\n",
    "h_conf = Config('config.json')\n",
    "starting_balance = 100\n",
    "h_timerange = \"20220101-20220331\"\n",
    "# VRA/USDT HTR/USDT ARX/USDT\n",
    "params = HyperoptParameters(\n",
    "    epochs=50,\n",
    "    config_path=h_conf,\n",
    "    #     secrets_config=str(priv_us),\n",
    "    # days=h_days,\n",
    "    timerange=h_timerange,\n",
    "    spaces=\"default\",\n",
    "    # loss='CalmarHyperOptLoss',\n",
    "    loss='SortinoHyperOptLoss',\n",
    "    interval=\"1h\",\n",
    "    # min_trades=int(days * 0.67 * 0.85),\n",
    "    min_trades=10,\n",
    "    #     pairs=pairlist.load_pairlist_from_id(1),\n",
    "    starting_balance=starting_balance,\n",
    "    max_open_trades=3,\n",
    "    stake_amount=\"unlimited\",\n",
    "    jobs=-2,\n",
    "    download_data=True,\n",
    "    # custom_spaces='atr_roi atr_stoploss',\n",
    "    # custom_settings={\n",
    "    #     'use_custom_stoploss': False,\n",
    "    # },\n",
    "    tag=\"\",\n",
    "    # seed=62581,\n",
    "    #     ensemble=ensemble\n",
    ")\n",
    "# params.tag = params.tag + ',' + params.pairs[0]\n",
    "# params.min_trades = len(params.pairs)\n",
    "print(\"\\ntimerange: \", params.timerange,\n",
    "      \"\\ndays: \", round(params.days * 0.667),\n",
    "      '\\nspaces:', params.spaces,\n",
    "      '\\nloss function:', params.loss,\n",
    "      '\\nepochs:', params.epochs,\n",
    "      '\\nmin trades:', params.min_trades,\n",
    "      '\\ntag:', params.tag,\n",
    "      '\\ninterval:', params.interval,\n",
    "      '\\nnum pairs:', len(params.pairs))\n",
    "# QuickTools.refresh_pairlist(us_conf, 100)"
   ]
  },
  {
   "cell_type": "markdown",
   "metadata": {
    "pycharm": {
     "name": "#%% md\n"
    }
   },
   "source": [
    "## Run Hyperopt"
   ]
  },
  {
   "cell_type": "code",
   "execution_count": null,
   "metadata": {
    "pycharm": {
     "name": "#%%\n"
    }
   },
   "outputs": [],
   "source": [
    "h_runner = params.run('Strategy', background=True)"
   ]
  },
  {
   "cell_type": "code",
   "execution_count": null,
   "metadata": {},
   "outputs": [],
   "source": [
    "print(get_hyperopt_repo().filter_by_id([2]).df().to_markdown())"
   ]
  },
  {
   "cell_type": "markdown",
   "metadata": {
    "pycharm": {
     "name": "#%% md\n"
    }
   },
   "source": [
    "## Show"
   ]
  },
  {
   "cell_type": "code",
   "execution_count": null,
   "metadata": {
    "pycharm": {
     "name": "#%%\n"
    }
   },
   "outputs": [],
   "source": [
    "h_runner.report.df"
   ]
  },
  {
   "cell_type": "markdown",
   "metadata": {
    "pycharm": {
     "name": "#%% md\n"
    }
   },
   "source": [
    "## Save"
   ]
  },
  {
   "cell_type": "code",
   "execution_count": null,
   "metadata": {
    "pycharm": {
     "name": "#%%\n"
    }
   },
   "outputs": [],
   "source": [
    "h_runner.save()"
   ]
  },
  {
   "cell_type": "markdown",
   "metadata": {
    "pycharm": {
     "name": "#%% md\n"
    }
   },
   "source": [
    "# Backtest Gumbo1 Using Hyperopted Parameters"
   ]
  },
  {
   "cell_type": "code",
   "execution_count": null,
   "metadata": {
    "pycharm": {
     "name": "#%%\n"
    }
   },
   "outputs": [],
   "source": [
    "bh_runner = b_params.run('Gumbo1-1', load_from_hash=False)"
   ]
  },
  {
   "cell_type": "code",
   "execution_count": null,
   "metadata": {
    "pycharm": {
     "name": "#%%\n"
    }
   },
   "outputs": [],
   "source": [
    "bh_runner.save()"
   ]
  },
  {
   "cell_type": "markdown",
   "metadata": {
    "pycharm": {
     "name": "#%% md\n"
    }
   },
   "source": [
    "## Show"
   ]
  },
  {
   "cell_type": "code",
   "execution_count": null,
   "metadata": {
    "pycharm": {
     "name": "#%%\n"
    }
   },
   "outputs": [],
   "source": [
    "print(bh_runner.report.report_text)"
   ]
  },
  {
   "cell_type": "code",
   "execution_count": null,
   "metadata": {
    "pycharm": {
     "name": "#%%\n"
    }
   },
   "outputs": [],
   "source": [
    "bh_runner.report.plot() "
   ]
  },
  {
   "cell_type": "markdown",
   "metadata": {
    "pycharm": {
     "name": "#%% md\n"
    }
   },
   "source": [
    "# Browse Repo"
   ]
  },
  {
   "cell_type": "code",
   "execution_count": null,
   "metadata": {
    "pycharm": {
     "name": "#%%\n"
    }
   },
   "outputs": [],
   "source": [
    "get_backtest_repo()"
   ]
  },
  {
   "cell_type": "code",
   "execution_count": null,
   "metadata": {
    "pycharm": {
     "name": "#%%\n"
    }
   },
   "outputs": [],
   "source": [
    "get_backtest_repo().df()"
   ]
  },
  {
   "cell_type": "code",
   "execution_count": null,
   "metadata": {
    "pycharm": {
     "name": "#%%\n"
    }
   },
   "outputs": [],
   "source": [
    "get_hyperopt_repo().first().backtest_data.keys()"
   ]
  },
  {
   "cell_type": "code",
   "execution_count": null,
   "metadata": {
    "pycharm": {
     "name": "#%%\n"
    }
   },
   "outputs": [],
   "source": []
  }
 ],
 "metadata": {
  "interpreter": {
   "hash": "668ffed27ad03ba8170618bc5d27db63bbd079c3fd9b61cf0c71013df4f83268"
  },
  "kernelspec": {
   "display_name": "Python 3.10.4 ('lazyft-gkL8q6_O-py3.10')",
   "language": "python",
   "name": "python3"
  },
  "language_info": {
   "codemirror_mode": {
    "name": "ipython",
    "version": 3
   },
   "file_extension": ".py",
   "mimetype": "text/x-python",
   "name": "python",
   "nbconvert_exporter": "python",
   "pygments_lexer": "ipython3",
   "version": "3.10.4"
  },
  "orig_nbformat": 4
 },
 "nbformat": 4,
 "nbformat_minor": 2
}
