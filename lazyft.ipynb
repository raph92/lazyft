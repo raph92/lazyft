{
 "cells": [
  {
   "cell_type": "markdown",
   "metadata": {},
   "source": [
    "# Imports"
   ]
  },
  {
   "cell_type": "code",
   "execution_count": 1,
   "metadata": {
    "ExecuteTime": {
     "end_time": "2021-08-30T22:09:09.683196Z",
     "start_time": "2021-08-30T22:09:09.604053Z"
    },
    "autorun": true,
    "init_cell": true,
    "tags": []
   },
   "outputs": [],
   "source": [
    "# %load_ext nb_black\n",
    "# %config Completer.use_jedi = False\n",
    "import nest_asyncio\n",
    "# from IPython.core.interactiveshell import InteractiveShell\n",
    "\n",
    "# nest_asyncio.apply()\n",
    "# InteractiveShell.ast_node_interactivity = \"all\""
   ]
  },
  {
   "cell_type": "code",
   "execution_count": 2,
   "metadata": {
    "ExecuteTime": {
     "end_time": "2021-08-30T22:09:11.443255Z",
     "start_time": "2021-08-30T22:09:09.684627Z"
    },
    "autorun": true,
    "init_cell": true,
    "scrolled": true,
    "tags": []
   },
   "outputs": [
    {
     "data": {
      "text/html": [
       "<pre style=\"white-space:pre;overflow-x:auto;line-height:normal;font-family:Menlo,'DejaVu Sans Mono',consolas,'Courier New',monospace\"><span style=\"font-weight: bold\">&lt;</span><span style=\"color: #ff00ff; text-decoration-color: #ff00ff; font-weight: bold\">bound</span><span style=\"color: #000000; text-decoration-color: #000000\"> method InteractiveShell.excepthook of &lt;ipykernel.zmqshell.ZMQInteractiveShell object at </span><span style=\"color: #008080; text-decoration-color: #008080; font-weight: bold\">0x7f0444ed0cd0</span><span style=\"font-weight: bold\">&gt;</span>&gt;\n",
       "</pre>\n"
      ],
      "text/plain": [
       "\u001b[1m<\u001b[0m\u001b[1;95mbound\u001b[0m\u001b[39m method InteractiveShell.excepthook of <ipykernel.zmqshell.ZMQInteractiveShell object at \u001b[0m\u001b[1;36m0x7f0444ed0cd0\u001b[0m\u001b[1m>\u001b[0m>\n"
      ]
     },
     "metadata": {},
     "output_type": "display_data"
    },
    {
     "name": "stdout",
     "output_type": "stream",
     "text": [
      "2021-09-15 21:50:07.076 | INFO     | lazyft.util:set_params_file:40 - Copying id file 94db2236-0861-4d7b-b720-7ecd04999290.json to strategy folder\n",
      "2021-09-15 21:50:07.078 | INFO     | lazyft.strategy:create_strategy_params_filepath:87 - Getting parameters file of NotAnotherSMAOffsetStrategyModHO\n",
      "2021-09-15 21:50:08.747 | INFO     | lazyft.strategy:create_strategy_params_filepath:87 - Getting parameters file of NASOSv4\n",
      "2021-09-15 21:50:10.400 | INFO     | lazyft.util:remove_params_file:75 - Removing strategy params: /home/sage/ftworkdir/user_data/strategies/NASOSv4.json\n",
      "2021-09-15 21:50:10.402 | INFO     | lazyft.strategy:create_strategy_params_filepath:87 - Getting parameters file of NostalgiaForInfinityNext\n",
      "2021-09-15 21:50:12.052 | INFO     | lazyft.util:remove_params_file:75 - Removing strategy params: /home/sage/ftworkdir/user_data/strategies/NostalgiaForInfinityNext.json\n",
      "2021-09-15 21:50:12.053 | INFO     | lazyft.util:set_params_file:40 - Copying id file 92435106-95f4-4e78-bc4e-3f7ec1509f36.json to strategy folder\n",
      "2021-09-15 21:50:12.054 | INFO     | lazyft.strategy:create_strategy_params_filepath:87 - Getting parameters file of NotAnotherSMAOffsetStrategyHOv3Mod\n"
     ]
    }
   ],
   "source": [
    "from lazyft import hyperopt, backtest, remote\n",
    "from lazyft.quicktools.quick_tools import Config\n",
    "from rich import console, pretty, traceback\n",
    "from lazyft.command_parameters import HyperoptParameters, BacktestParameters\n",
    "from lazyft.reports import get_backtest_repo, get_hyperopt_repo\n",
    "from lazyft.models import Strategy\n",
    "import pandas as pd\n",
    "from lazyft.quicktools.quick_tools import QuickTools\n",
    "c = console.Console(width=300, soft_wrap=True)\n",
    "print = c.print\n",
    "pretty.install(console=c)\n",
    "traceback.install(console=c, show_locals=True)"
   ]
  },
  {
   "cell_type": "markdown",
   "metadata": {},
   "source": [
    "# Configuration"
   ]
  },
  {
   "cell_type": "code",
   "execution_count": 3,
   "metadata": {
    "ExecuteTime": {
     "end_time": "2021-08-30T22:09:11.463343Z",
     "start_time": "2021-08-30T22:09:11.444424Z"
    },
    "autorun": true,
    "init_cell": true,
    "tags": []
   },
   "outputs": [],
   "source": [
    "# chosen_conf = Config(\"config_binance.com.json\")\n",
    "# chosen_conf = Config('config_binance.us.json')\n",
    "private_conf = Config(\"binancecom.json\")\n",
    "us_conf = Config(\"config_binance.us.json\")\n",
    "kucoin = Config(\"config_3_100_unlimited_usdt.json\")\n",
    "# us_conf_no_blacklist = Config(\"config_binance_no_bl.us.json\")\n",
    "int_conf = Config(\"config_binance.com.json\")\n",
    "priv_us = Config(\"binanceus.json\")\n",
    "priv_int = Config(\"binancecom.json\")\n",
    "\n",
    "# chosen_conf = config_com\n",
    "# general\n",
    "n_coins = 50\n",
    "starting_balance = 100\n",
    "max_open_trades = 4\n",
    "stake_amount = starting_balance / max_open_trades\n",
    "interval = \"5m\"\n",
    "inf_interval = \"1h\"\n",
    "# config_new['timeframe'] = interval\n",
    "timerange = \"20210601-20210701\"\n",
    "timerange = None\n",
    "\n",
    "# h_strategies = [\"CombinedBinHClucAndMADV9\", \"BollingerBands3\"]\n",
    "# strategies = [\n",
    "#     \"TTF\",\n",
    "#     \"BollingerBands2\",\n",
    "#     \"BollingerBands3\",\n",
    "#     \"NFI5MOHO_WIP\",\n",
    "#     \"NotAnotherSMAOffsetStrategyModHO-yiXgyD\",\n",
    "# ]"
   ]
  },
  {
   "cell_type": "markdown",
   "metadata": {},
   "source": [
    "# Data Downloading"
   ]
  },
  {
   "cell_type": "code",
   "execution_count": null,
   "metadata": {
    "tags": []
   },
   "outputs": [],
   "source": [
    "QuickTools.download_data(kucoin, '5m 1h', 10, verbose=True)"
   ]
  },
  {
   "cell_type": "markdown",
   "metadata": {},
   "source": [
    "# Hyperopting"
   ]
  },
  {
   "cell_type": "code",
   "execution_count": null,
   "metadata": {
    "ExecuteTime": {
     "end_time": "2021-08-30T22:09:11.550209Z",
     "start_time": "2021-08-30T22:09:11.464904Z"
    },
    "autorun": true,
    "init_cell": true,
    "tags": []
   },
   "outputs": [],
   "source": [
    "days = 365\n",
    "# VRA/USDT HTR/USDT ARX/USDT\n",
    "params = HyperoptParameters(\n",
    "    epochs=400,\n",
    "    strategies=[\n",
    "        \"NASOSv4\",\n",
    "#         Strategy(id='b40294bf-de3b-4f7d-a6f7-a412709e549c')\n",
    "               ],\n",
    "    config_path=kucoin,\n",
    "    #     secrets_config=str(priv_us),\n",
    "    days=days,\n",
    "#     timerange=\"20200701-20201231\",\n",
    "    spaces=\"default\",\n",
    "    loss='ROIAndProfitHyperOptLoss',\n",
    "    interval=\"5m\",\n",
    "    inf_interval=\"30m 1h\",\n",
    "    min_trades=121,\n",
    "    pairs=kucoin.whitelist,\n",
    "#     pairs=['KSM/USDT'],\n",
    "    #     pairs=pairlist.load_pairlist_from_id(\"52V2DPay\"),\n",
    "    starting_balance=starting_balance,\n",
    "    max_open_trades=3,\n",
    "    jobs=-2,\n",
    "    download_data=False,\n",
    "    tag=\"\"\n",
    ")\n",
    "params\n",
    "# QuickTools.refresh_pairlist(us_conf, 100)"
   ]
  },
  {
   "cell_type": "code",
   "execution_count": null,
   "metadata": {
    "ExecuteTime": {
     "end_time": "2021-08-28T22:28:28.309150Z",
     "start_time": "2021-08-28T22:28:26.614158Z"
    },
    "scrolled": true
   },
   "outputs": [],
   "source": [
    "h_commands = hyperopt.create_commands(params, verbose=False)\n",
    "h_runner = hyperopt.HyperoptRunner(h_commands[0])\n",
    "h_runner.execute(background=True)"
   ]
  },
  {
   "cell_type": "code",
   "execution_count": null,
   "metadata": {
    "ExecuteTime": {
     "end_time": "2021-08-29T02:34:11.528768Z",
     "start_time": "2021-08-29T02:34:11.519398Z"
    },
    "scrolled": true
   },
   "outputs": [],
   "source": [
    "h_runner.get_results()"
   ]
  },
  {
   "cell_type": "code",
   "execution_count": null,
   "metadata": {
    "ExecuteTime": {
     "end_time": "2021-08-29T02:07:18.053312Z",
     "start_time": "2021-08-29T02:07:18.044802Z"
    }
   },
   "outputs": [],
   "source": [
    "h_runner.running"
   ]
  },
  {
   "cell_type": "code",
   "execution_count": null,
   "metadata": {
    "ExecuteTime": {
     "end_time": "2021-08-26T19:39:12.968740Z",
     "start_time": "2021-08-26T19:39:05.728698Z"
    },
    "scrolled": true
   },
   "outputs": [],
   "source": [
    "h_runner.live_output()"
   ]
  },
  {
   "cell_type": "code",
   "execution_count": null,
   "metadata": {
    "ExecuteTime": {
     "end_time": "2021-08-29T02:36:20.879694Z",
     "start_time": "2021-08-29T02:36:19.186454Z"
    },
    "tags": []
   },
   "outputs": [],
   "source": [
    "_ = !freqtrade hyperopt-show --best\n",
    "report = h_runner.generate_report()\n",
    "report.save()"
   ]
  },
  {
   "cell_type": "code",
   "execution_count": null,
   "metadata": {
    "ExecuteTime": {
     "end_time": "2021-08-29T02:34:19.510779Z",
     "start_time": "2021-08-29T02:34:19.502996Z"
    }
   },
   "outputs": [],
   "source": [
    "h_runner.stop()"
   ]
  },
  {
   "cell_type": "code",
   "execution_count": null,
   "metadata": {
    "ExecuteTime": {
     "end_time": "2021-08-29T02:07:26.378220Z",
     "start_time": "2021-08-29T02:07:26.323535Z"
    },
    "pycharm": {
     "name": "#%%\n"
    },
    "tags": []
   },
   "outputs": [],
   "source": [
    "print(h_runner.output)\n",
    "# regex.EPOCH_LINE_REGEX.findall(h_runner.output)"
   ]
  },
  {
   "cell_type": "markdown",
   "metadata": {
    "tags": []
   },
   "source": [
    "# Backtesting"
   ]
  },
  {
   "cell_type": "code",
   "execution_count": 4,
   "metadata": {
    "ExecuteTime": {
     "end_time": "2021-08-30T22:09:11.654852Z",
     "start_time": "2021-08-30T22:09:11.551260Z"
    },
    "autorun": true,
    "init_cell": true,
    "tags": []
   },
   "outputs": [
    {
     "data": {
      "text/html": [
       "<pre style=\"white-space:pre;overflow-x:auto;line-height:normal;font-family:Menlo,'DejaVu Sans Mono',consolas,'Courier New',monospace\">\n",
       "<span style=\"color: #800080; text-decoration-color: #800080; font-weight: bold\">BacktestParameters</span><span style=\"font-weight: bold\">(</span>\n",
       "    <span style=\"color: #808000; text-decoration-color: #808000\">config_path</span>=<span style=\"color: #008000; text-decoration-color: #008000\">'/home/sage/ftworkdir/configs/config_3_100_unlimited_usdt.json'</span>,\n",
       "    <span style=\"color: #808000; text-decoration-color: #808000\">secrets_config</span>=<span style=\"color: #800080; text-decoration-color: #800080; font-style: italic\">None</span>,\n",
       "    <span style=\"color: #808000; text-decoration-color: #808000\">strategies</span>=<span style=\"font-weight: bold\">[</span><span style=\"color: #008000; text-decoration-color: #008000\">'EnsembleStrategy'</span><span style=\"font-weight: bold\">]</span>,\n",
       "    <span style=\"color: #808000; text-decoration-color: #808000\">download_data</span>=<span style=\"color: #ff0000; text-decoration-color: #ff0000; font-style: italic\">False</span>,\n",
       "    <span style=\"color: #808000; text-decoration-color: #808000\">ensemble</span>=<span style=\"font-weight: bold\">[</span>\n",
       "        <span style=\"color: #800080; text-decoration-color: #800080; font-weight: bold\">Strategy</span><span style=\"font-weight: bold\">(</span><span style=\"color: #808000; text-decoration-color: #808000\">name</span>=<span style=\"color: #008000; text-decoration-color: #008000\">'NotAnotherSMAOffsetStrategyModHO'</span>, <span style=\"color: #808000; text-decoration-color: #808000\">id</span>=<span style=\"color: #008000; text-decoration-color: #008000\">'94db2236-0861-4d7b-b720-7ecd04999290'</span><span style=\"font-weight: bold\">)</span>,\n",
       "        <span style=\"color: #800080; text-decoration-color: #800080; font-weight: bold\">Strategy</span><span style=\"font-weight: bold\">(</span><span style=\"color: #808000; text-decoration-color: #808000\">name</span>=<span style=\"color: #008000; text-decoration-color: #008000\">'NASOSv4'</span>, <span style=\"color: #808000; text-decoration-color: #808000\">id</span>=<span style=\"color: #800080; text-decoration-color: #800080; font-style: italic\">None</span><span style=\"font-weight: bold\">)</span>,\n",
       "        <span style=\"color: #800080; text-decoration-color: #800080; font-weight: bold\">Strategy</span><span style=\"font-weight: bold\">(</span><span style=\"color: #808000; text-decoration-color: #808000\">name</span>=<span style=\"color: #008000; text-decoration-color: #008000\">'NostalgiaForInfinityNext'</span>, <span style=\"color: #808000; text-decoration-color: #808000\">id</span>=<span style=\"color: #800080; text-decoration-color: #800080; font-style: italic\">None</span><span style=\"font-weight: bold\">)</span>,\n",
       "        <span style=\"color: #800080; text-decoration-color: #800080; font-weight: bold\">Strategy</span><span style=\"font-weight: bold\">(</span><span style=\"color: #808000; text-decoration-color: #808000\">name</span>=<span style=\"color: #008000; text-decoration-color: #008000\">'NotAnotherSMAOffsetStrategyHOv3Mod'</span>, <span style=\"color: #808000; text-decoration-color: #808000\">id</span>=<span style=\"color: #008000; text-decoration-color: #008000\">'92435106-95f4-4e78-bc4e-3f7ec1509f36'</span><span style=\"font-weight: bold\">)</span>\n",
       "    <span style=\"font-weight: bold\">]</span>,\n",
       "    <span style=\"color: #808000; text-decoration-color: #808000\">timerange</span>=<span style=\"color: #008000; text-decoration-color: #008000\">'20210820-'</span>,\n",
       "    <span style=\"color: #808000; text-decoration-color: #808000\">pairs</span>=<span style=\"font-weight: bold\">[</span>\n",
       "        <span style=\"color: #008000; text-decoration-color: #008000\">'ADA/USDT'</span>,\n",
       "        <span style=\"color: #008000; text-decoration-color: #008000\">'XRP/USDT'</span>,\n",
       "        <span style=\"color: #008000; text-decoration-color: #008000\">'LUNA/USDT'</span>,\n",
       "        <span style=\"color: #008000; text-decoration-color: #008000\">'CIRUS/USDT'</span>,\n",
       "        <span style=\"color: #008000; text-decoration-color: #008000\">'DOGE/USDT'</span>,\n",
       "        <span style=\"color: #008000; text-decoration-color: #008000\">'AVAX/USDT'</span>,\n",
       "        <span style=\"color: #008000; text-decoration-color: #008000\">'VET/USDT'</span>,\n",
       "        <span style=\"color: #008000; text-decoration-color: #008000\">'VRA/USDT'</span>,\n",
       "        <span style=\"color: #008000; text-decoration-color: #008000\">'DOT/USDT'</span>,\n",
       "        <span style=\"color: #008000; text-decoration-color: #008000\">'KCS/USDT'</span>,\n",
       "        <span style=\"color: #008000; text-decoration-color: #008000\">'QI/USDT'</span>,\n",
       "        <span style=\"color: #008000; text-decoration-color: #008000\">'COTI/USDT'</span>,\n",
       "        <span style=\"color: #008000; text-decoration-color: #008000\">'SOL/USDT'</span>,\n",
       "        <span style=\"color: #008000; text-decoration-color: #008000\">'MASK/USDT'</span>,\n",
       "        <span style=\"color: #008000; text-decoration-color: #008000\">'DAG/USDT'</span>,\n",
       "        <span style=\"color: #008000; text-decoration-color: #008000\">'ICP/USDT'</span>,\n",
       "        <span style=\"color: #008000; text-decoration-color: #008000\">'LABS/USDT'</span>,\n",
       "        <span style=\"color: #008000; text-decoration-color: #008000\">'EOS/USDT'</span>,\n",
       "        <span style=\"color: #008000; text-decoration-color: #008000\">'LINK/USDT'</span>,\n",
       "        <span style=\"color: #008000; text-decoration-color: #008000\">'MATIC/USDT'</span>,\n",
       "        <span style=\"color: #008000; text-decoration-color: #008000\">'XLM/USDT'</span>,\n",
       "        <span style=\"color: #008000; text-decoration-color: #008000\">'LTC/USDT'</span>,\n",
       "        <span style=\"color: #008000; text-decoration-color: #008000\">'XTZ/USDT'</span>,\n",
       "        <span style=\"color: #008000; text-decoration-color: #008000\">'SAND/USDT'</span>,\n",
       "        <span style=\"color: #008000; text-decoration-color: #008000\">'ZEC/USDT'</span>,\n",
       "        <span style=\"color: #008000; text-decoration-color: #008000\">'XDC/USDT'</span>,\n",
       "        <span style=\"color: #008000; text-decoration-color: #008000\">'QNT/USDT'</span>,\n",
       "        <span style=\"color: #008000; text-decoration-color: #008000\">'HTR/USDT'</span>,\n",
       "        <span style=\"color: #008000; text-decoration-color: #008000\">'TRX/USDT'</span>,\n",
       "        <span style=\"color: #008000; text-decoration-color: #008000\">'THETA/USDT'</span>,\n",
       "        <span style=\"color: #008000; text-decoration-color: #008000\">'ALGO/USDT'</span>,\n",
       "        <span style=\"color: #008000; text-decoration-color: #008000\">'KSM/USDT'</span>,\n",
       "        <span style=\"color: #008000; text-decoration-color: #008000\">'GRT/USDT'</span>,\n",
       "        <span style=\"color: #008000; text-decoration-color: #008000\">'AAVE/USDT'</span>,\n",
       "        <span style=\"color: #008000; text-decoration-color: #008000\">'CHR/USDT'</span>,\n",
       "        <span style=\"color: #008000; text-decoration-color: #008000\">'FTM/USDT'</span>,\n",
       "        <span style=\"color: #008000; text-decoration-color: #008000\">'XAVA/USDT'</span>,\n",
       "        <span style=\"color: #008000; text-decoration-color: #008000\">'ERG/USDT'</span>,\n",
       "        <span style=\"color: #008000; text-decoration-color: #008000\">'CAKE/USDT'</span>,\n",
       "        <span style=\"color: #008000; text-decoration-color: #008000\">'SHA/USDT'</span>,\n",
       "        <span style=\"color: #008000; text-decoration-color: #008000\">'MIR/USDT'</span>,\n",
       "        <span style=\"color: #008000; text-decoration-color: #008000\">'ARX/USDT'</span>,\n",
       "        <span style=\"color: #008000; text-decoration-color: #008000\">'DASH/USDT'</span>,\n",
       "        <span style=\"color: #008000; text-decoration-color: #008000\">'WAXP/USDT'</span>,\n",
       "        <span style=\"color: #008000; text-decoration-color: #008000\">'AI/USDT'</span>,\n",
       "        <span style=\"color: #008000; text-decoration-color: #008000\">'ONE/USDT'</span>,\n",
       "        <span style=\"color: #008000; text-decoration-color: #008000\">'ENJ/USDT'</span>,\n",
       "        <span style=\"color: #008000; text-decoration-color: #008000\">'BTT/USDT'</span>,\n",
       "        <span style=\"color: #008000; text-decoration-color: #008000\">'BCH/USDT'</span>,\n",
       "        <span style=\"color: #008000; text-decoration-color: #008000\">'PDEX/USDT'</span>,\n",
       "        <span style=\"color: #008000; text-decoration-color: #008000\">'NWC/USDT'</span>,\n",
       "        <span style=\"color: #008000; text-decoration-color: #008000\">'EWT/USDT'</span>,\n",
       "        <span style=\"color: #008000; text-decoration-color: #008000\">'FIL/USDT'</span>,\n",
       "        <span style=\"color: #008000; text-decoration-color: #008000\">'IOST/USDT'</span>,\n",
       "        <span style=\"color: #008000; text-decoration-color: #008000\">'XMR/USDT'</span>,\n",
       "        <span style=\"color: #008000; text-decoration-color: #008000\">'ZIL/USDT'</span>,\n",
       "        <span style=\"color: #008000; text-decoration-color: #008000\">'SXP/USDT'</span>,\n",
       "        <span style=\"color: #008000; text-decoration-color: #008000\">'CHZ/USDT'</span>,\n",
       "        <span style=\"color: #008000; text-decoration-color: #008000\">'MANA/USDT'</span>,\n",
       "        <span style=\"color: #008000; text-decoration-color: #008000\">'SUSHI/USDT'</span>,\n",
       "        <span style=\"color: #008000; text-decoration-color: #008000\">'GALAX/USDT'</span>,\n",
       "        <span style=\"color: #008000; text-decoration-color: #008000\">'UNI/USDT'</span>,\n",
       "        <span style=\"color: #008000; text-decoration-color: #008000\">'NEO/USDT'</span>,\n",
       "        <span style=\"color: #008000; text-decoration-color: #008000\">'CQT/USDT'</span>\n",
       "    <span style=\"font-weight: bold\">]</span>,\n",
       "    <span style=\"color: #808000; text-decoration-color: #808000\">days</span>=<span style=\"color: #008080; text-decoration-color: #008080; font-weight: bold\">365</span>,\n",
       "    <span style=\"color: #808000; text-decoration-color: #808000\">starting_balance</span>=<span style=\"color: #008080; text-decoration-color: #008080; font-weight: bold\">100</span>,\n",
       "    <span style=\"color: #808000; text-decoration-color: #808000\">stake_amount</span>=<span style=\"color: #008000; text-decoration-color: #008000\">'unlimited'</span>,\n",
       "    <span style=\"color: #808000; text-decoration-color: #808000\">max_open_trades</span>=<span style=\"color: #008080; text-decoration-color: #008080; font-weight: bold\">3</span>,\n",
       "    <span style=\"color: #808000; text-decoration-color: #808000\">interval</span>=<span style=\"color: #008000; text-decoration-color: #008000\">'5m'</span>,\n",
       "    <span style=\"color: #808000; text-decoration-color: #808000\">inf_interval</span>=<span style=\"color: #008000; text-decoration-color: #008000\">'30m 1h'</span>,\n",
       "    <span style=\"color: #808000; text-decoration-color: #808000\">tag</span>=<span style=\"color: #008000; text-decoration-color: #008000\">'20210820-20210915'</span>\n",
       "<span style=\"font-weight: bold\">)</span>\n",
       "</pre>\n"
      ],
      "text/plain": [
       "\n",
       "\u001b[1;35mBacktestParameters\u001b[0m\u001b[1m(\u001b[0m\n",
       "    \u001b[33mconfig_path\u001b[0m=\u001b[32m'/home/sage/ftworkdir/configs/config_3_100_unlimited_usdt.json'\u001b[0m,\n",
       "    \u001b[33msecrets_config\u001b[0m=\u001b[3;35mNone\u001b[0m,\n",
       "    \u001b[33mstrategies\u001b[0m=\u001b[1m[\u001b[0m\u001b[32m'EnsembleStrategy'\u001b[0m\u001b[1m]\u001b[0m,\n",
       "    \u001b[33mdownload_data\u001b[0m=\u001b[3;91mFalse\u001b[0m,\n",
       "    \u001b[33mensemble\u001b[0m=\u001b[1m[\u001b[0m\n",
       "        \u001b[1;35mStrategy\u001b[0m\u001b[1m(\u001b[0m\u001b[33mname\u001b[0m=\u001b[32m'NotAnotherSMAOffsetStrategyModHO'\u001b[0m, \u001b[33mid\u001b[0m=\u001b[32m'94db2236-0861-4d7b-b720-7ecd04999290'\u001b[0m\u001b[1m)\u001b[0m,\n",
       "        \u001b[1;35mStrategy\u001b[0m\u001b[1m(\u001b[0m\u001b[33mname\u001b[0m=\u001b[32m'NASOSv4'\u001b[0m, \u001b[33mid\u001b[0m=\u001b[3;35mNone\u001b[0m\u001b[1m)\u001b[0m,\n",
       "        \u001b[1;35mStrategy\u001b[0m\u001b[1m(\u001b[0m\u001b[33mname\u001b[0m=\u001b[32m'NostalgiaForInfinityNext'\u001b[0m, \u001b[33mid\u001b[0m=\u001b[3;35mNone\u001b[0m\u001b[1m)\u001b[0m,\n",
       "        \u001b[1;35mStrategy\u001b[0m\u001b[1m(\u001b[0m\u001b[33mname\u001b[0m=\u001b[32m'NotAnotherSMAOffsetStrategyHOv3Mod'\u001b[0m, \u001b[33mid\u001b[0m=\u001b[32m'92435106-95f4-4e78-bc4e-3f7ec1509f36'\u001b[0m\u001b[1m)\u001b[0m\n",
       "    \u001b[1m]\u001b[0m,\n",
       "    \u001b[33mtimerange\u001b[0m=\u001b[32m'20210820-'\u001b[0m,\n",
       "    \u001b[33mpairs\u001b[0m=\u001b[1m[\u001b[0m\n",
       "        \u001b[32m'ADA/USDT'\u001b[0m,\n",
       "        \u001b[32m'XRP/USDT'\u001b[0m,\n",
       "        \u001b[32m'LUNA/USDT'\u001b[0m,\n",
       "        \u001b[32m'CIRUS/USDT'\u001b[0m,\n",
       "        \u001b[32m'DOGE/USDT'\u001b[0m,\n",
       "        \u001b[32m'AVAX/USDT'\u001b[0m,\n",
       "        \u001b[32m'VET/USDT'\u001b[0m,\n",
       "        \u001b[32m'VRA/USDT'\u001b[0m,\n",
       "        \u001b[32m'DOT/USDT'\u001b[0m,\n",
       "        \u001b[32m'KCS/USDT'\u001b[0m,\n",
       "        \u001b[32m'QI/USDT'\u001b[0m,\n",
       "        \u001b[32m'COTI/USDT'\u001b[0m,\n",
       "        \u001b[32m'SOL/USDT'\u001b[0m,\n",
       "        \u001b[32m'MASK/USDT'\u001b[0m,\n",
       "        \u001b[32m'DAG/USDT'\u001b[0m,\n",
       "        \u001b[32m'ICP/USDT'\u001b[0m,\n",
       "        \u001b[32m'LABS/USDT'\u001b[0m,\n",
       "        \u001b[32m'EOS/USDT'\u001b[0m,\n",
       "        \u001b[32m'LINK/USDT'\u001b[0m,\n",
       "        \u001b[32m'MATIC/USDT'\u001b[0m,\n",
       "        \u001b[32m'XLM/USDT'\u001b[0m,\n",
       "        \u001b[32m'LTC/USDT'\u001b[0m,\n",
       "        \u001b[32m'XTZ/USDT'\u001b[0m,\n",
       "        \u001b[32m'SAND/USDT'\u001b[0m,\n",
       "        \u001b[32m'ZEC/USDT'\u001b[0m,\n",
       "        \u001b[32m'XDC/USDT'\u001b[0m,\n",
       "        \u001b[32m'QNT/USDT'\u001b[0m,\n",
       "        \u001b[32m'HTR/USDT'\u001b[0m,\n",
       "        \u001b[32m'TRX/USDT'\u001b[0m,\n",
       "        \u001b[32m'THETA/USDT'\u001b[0m,\n",
       "        \u001b[32m'ALGO/USDT'\u001b[0m,\n",
       "        \u001b[32m'KSM/USDT'\u001b[0m,\n",
       "        \u001b[32m'GRT/USDT'\u001b[0m,\n",
       "        \u001b[32m'AAVE/USDT'\u001b[0m,\n",
       "        \u001b[32m'CHR/USDT'\u001b[0m,\n",
       "        \u001b[32m'FTM/USDT'\u001b[0m,\n",
       "        \u001b[32m'XAVA/USDT'\u001b[0m,\n",
       "        \u001b[32m'ERG/USDT'\u001b[0m,\n",
       "        \u001b[32m'CAKE/USDT'\u001b[0m,\n",
       "        \u001b[32m'SHA/USDT'\u001b[0m,\n",
       "        \u001b[32m'MIR/USDT'\u001b[0m,\n",
       "        \u001b[32m'ARX/USDT'\u001b[0m,\n",
       "        \u001b[32m'DASH/USDT'\u001b[0m,\n",
       "        \u001b[32m'WAXP/USDT'\u001b[0m,\n",
       "        \u001b[32m'AI/USDT'\u001b[0m,\n",
       "        \u001b[32m'ONE/USDT'\u001b[0m,\n",
       "        \u001b[32m'ENJ/USDT'\u001b[0m,\n",
       "        \u001b[32m'BTT/USDT'\u001b[0m,\n",
       "        \u001b[32m'BCH/USDT'\u001b[0m,\n",
       "        \u001b[32m'PDEX/USDT'\u001b[0m,\n",
       "        \u001b[32m'NWC/USDT'\u001b[0m,\n",
       "        \u001b[32m'EWT/USDT'\u001b[0m,\n",
       "        \u001b[32m'FIL/USDT'\u001b[0m,\n",
       "        \u001b[32m'IOST/USDT'\u001b[0m,\n",
       "        \u001b[32m'XMR/USDT'\u001b[0m,\n",
       "        \u001b[32m'ZIL/USDT'\u001b[0m,\n",
       "        \u001b[32m'SXP/USDT'\u001b[0m,\n",
       "        \u001b[32m'CHZ/USDT'\u001b[0m,\n",
       "        \u001b[32m'MANA/USDT'\u001b[0m,\n",
       "        \u001b[32m'SUSHI/USDT'\u001b[0m,\n",
       "        \u001b[32m'GALAX/USDT'\u001b[0m,\n",
       "        \u001b[32m'UNI/USDT'\u001b[0m,\n",
       "        \u001b[32m'NEO/USDT'\u001b[0m,\n",
       "        \u001b[32m'CQT/USDT'\u001b[0m\n",
       "    \u001b[1m]\u001b[0m,\n",
       "    \u001b[33mdays\u001b[0m=\u001b[1;36m365\u001b[0m,\n",
       "    \u001b[33mstarting_balance\u001b[0m=\u001b[1;36m100\u001b[0m,\n",
       "    \u001b[33mstake_amount\u001b[0m=\u001b[32m'unlimited'\u001b[0m,\n",
       "    \u001b[33mmax_open_trades\u001b[0m=\u001b[1;36m3\u001b[0m,\n",
       "    \u001b[33minterval\u001b[0m=\u001b[32m'5m'\u001b[0m,\n",
       "    \u001b[33minf_interval\u001b[0m=\u001b[32m'30m 1h'\u001b[0m,\n",
       "    \u001b[33mtag\u001b[0m=\u001b[32m'20210820-20210915'\u001b[0m\n",
       "\u001b[1m)\u001b[0m\n"
      ]
     },
     "metadata": {},
     "output_type": "display_data"
    }
   ],
   "source": [
    "# b_strategies = [\n",
    "#     f\"{s}-{id}\"\n",
    "#     for s, id in get_hyperopt_repo()\n",
    "#     .sort_by_loss()\n",
    "#     .head(3)\n",
    "#     .get_strategy_id_pairs()\n",
    "# ]\n",
    "b_strategies = [\n",
    "    \"EnsembleStrategy\"\n",
    "#     \"NotAnotherSMAOffsetStrategyHOv3Mod\",\n",
    "#     \"ElliotV8_original_ichiv2\",\n",
    "#     \"Elliotv8\",\n",
    "#     \"NASOSv4\",\n",
    "#     \"NASOSv5\",\n",
    "#     \"DIV_v1\",\n",
    "#     \"BurkoBB1Strategy\"\n",
    "#     \"TAD\",\n",
    "#     \"Diamond\",\n",
    "#     \"ElliotV3\",\n",
    "#     \"Elliotv8\",\n",
    "#     \"BigZ07\",\n",
    "#     \"CombinedBinHClucAndMADV9\",\n",
    "#     \"MADisplaceV3\",\n",
    "#     \"SMAOG\",\n",
    "#     \"Combined_NFIv7_SMA\",\n",
    "#     \"NotAnotherSMAOffsetStrategyModHO\",\n",
    "#     \"NotAnotherSMAOffsetStrategyHOv3\",\n",
    "#     \"NFI5MOHO_WIP\",\n",
    "#     \"TDLA\",\n",
    "#     \"NostalgiaForInfinityV7\",\n",
    "#     \"NotAnotherSMAOffsetStrategy_UZI\",\n",
    "#     \"NotAnotherSMAOffSetStrategy_V2\",\n",
    "#     Strategy(id='7d818358-d86d-4301-9282-8aa32ecf359a'),\n",
    "#     Strategy(id='b40294bf-de3b-4f7d-a6f7-a412709e549c'),\n",
    "#     Strategy(id='ca1f7c9b-e3d6-483b-b912-00688410f0ed')\n",
    "]\n",
    "ensemble=[\n",
    "    \"NotAnotherSMAOffsetStrategyModHO-94db2236-0861-4d7b-b720-7ecd04999290\",\n",
    "    \"NASOSv4\",\n",
    "    \"NostalgiaForInfinityNext\",\n",
    "    \"NotAnotherSMAOffsetStrategyHOv3Mod-92435106-95f4-4e78-bc4e-3f7ec1509f36\"\n",
    "         ]\n",
    "b_timerange = \"20210820-\"\n",
    "# b_timerange = None\n",
    "b_days = 365\n",
    "b_interval = \"5m 1h\"\n",
    "b_conf = kucoin\n",
    "# b_conf = kucoin\n",
    "b_params = BacktestParameters(\n",
    "    strategies=b_strategies,\n",
    "    interval=\"5m\",\n",
    "    inf_interval=\"30m 1h\",\n",
    "    config_path=b_conf,\n",
    "    days=b_days,\n",
    "    pairs=b_conf.whitelist,\n",
    "#     pairs=['VRA/USDT', 'HTR/USDT', 'KSM/USDT'],\n",
    "    stake_amount=\"unlimited\",\n",
    "    starting_balance=100,\n",
    "    max_open_trades=3,\n",
    "    timerange=b_timerange,\n",
    "    download_data=False,\n",
    "    tag='',\n",
    "    ensemble=ensemble\n",
    ")\n",
    "b_params"
   ]
  },
  {
   "cell_type": "code",
   "execution_count": null,
   "metadata": {
    "tags": []
   },
   "outputs": [],
   "source": [
    "# QuickTools.download_data(us_conf, '30m', timerange='20200801-', pairs=['BTC/USD'], verbose=True)\n",
    "QuickTools.download_data(kucoin, '30m', timerange='20200801-', pairs=['BTC/USDT'], verbose=True)"
   ]
  },
  {
   "cell_type": "code",
   "execution_count": 5,
   "metadata": {
    "ExecuteTime": {
     "end_time": "2021-08-17T17:03:16.326257Z",
     "start_time": "2021-08-17T17:02:58.056033Z"
    },
    "tags": []
   },
   "outputs": [
    {
     "data": {
      "text/html": [
       "<pre style=\"white-space:pre;overflow-x:auto;line-height:normal;font-family:Menlo,'DejaVu Sans Mono',consolas,'Courier New',monospace\"><span style=\"color: #008000; text-decoration-color: #008000\">''</span>\n",
       "</pre>\n"
      ],
      "text/plain": [
       "\u001b[32m''\u001b[0m\n"
      ]
     },
     "metadata": {},
     "output_type": "display_data"
    },
    {
     "data": {
      "text/html": [
       "<div>\n",
       "<style scoped>\n",
       "    .dataframe tbody tr th:only-of-type {\n",
       "        vertical-align: middle;\n",
       "    }\n",
       "\n",
       "    .dataframe tbody tr th {\n",
       "        vertical-align: top;\n",
       "    }\n",
       "\n",
       "    .dataframe thead th {\n",
       "        text-align: right;\n",
       "    }\n",
       "</style>\n",
       "<table border=\"1\" class=\"dataframe\">\n",
       "  <thead>\n",
       "    <tr style=\"text-align: right;\">\n",
       "      <th></th>\n",
       "      <th>strategy</th>\n",
       "      <th>date</th>\n",
       "      <th>hyperopt_id</th>\n",
       "      <th>exchange</th>\n",
       "      <th>m_o_t</th>\n",
       "      <th>stake</th>\n",
       "      <th>balance</th>\n",
       "      <th>score</th>\n",
       "      <th>avg_profit_pct</th>\n",
       "      <th>total_profit_pct</th>\n",
       "      <th>roiloss</th>\n",
       "      <th>winratioloss</th>\n",
       "      <th>sharpe_loss</th>\n",
       "      <th>sortino</th>\n",
       "      <th>total_profit</th>\n",
       "      <th>trades</th>\n",
       "      <th>days</th>\n",
       "      <th>tag</th>\n",
       "    </tr>\n",
       "  </thead>\n",
       "  <tbody>\n",
       "    <tr>\n",
       "      <th>0</th>\n",
       "      <td>NASOSv4</td>\n",
       "      <td>09/15/21 16:09:24</td>\n",
       "      <td></td>\n",
       "      <td>binanceus</td>\n",
       "      <td>3</td>\n",
       "      <td>unlimited</td>\n",
       "      <td>100</td>\n",
       "      <td>4.08</td>\n",
       "      <td>17.68</td>\n",
       "      <td>0.28</td>\n",
       "      <td>-14.75</td>\n",
       "      <td>-5,303.01</td>\n",
       "      <td>-1.63</td>\n",
       "      <td>-10.25</td>\n",
       "      <td>27.51</td>\n",
       "      <td>6</td>\n",
       "      <td>26</td>\n",
       "      <td>20210820-</td>\n",
       "    </tr>\n",
       "  </tbody>\n",
       "</table>\n",
       "</div>"
      ]
     },
     "execution_count": 5,
     "metadata": {},
     "output_type": "execute_result"
    },
    {
     "data": {
      "application/javascript": [
       "\n",
       "            setTimeout(function() {\n",
       "                var nbb_cell_id = 5;\n",
       "                var nbb_unformatted_code = \"# print(b_commands[0].command_string)\\nb_commands = backtest.create_commands(\\n    b_params,\\n    verbose=False,\\n)\\nb_runner = backtest.BacktestRunner(b_commands[0])\\nb_runner.execute()\\nif b_runner.error:\\n    print(b_runner.output)\\nelse:\\n    b_runner.save()\\n    get_backtest_repo().df().head(1)\";\n",
       "                var nbb_formatted_code = \"# print(b_commands[0].command_string)\\nb_commands = backtest.create_commands(\\n    b_params,\\n    verbose=False,\\n)\\nb_runner = backtest.BacktestRunner(b_commands[0])\\nb_runner.execute()\\nif b_runner.error:\\n    print(b_runner.output)\\nelse:\\n    b_runner.save()\\n    get_backtest_repo().df().head(1)\";\n",
       "                var nbb_cells = Jupyter.notebook.get_cells();\n",
       "                for (var i = 0; i < nbb_cells.length; ++i) {\n",
       "                    if (nbb_cells[i].input_prompt_number == nbb_cell_id) {\n",
       "                        if (nbb_cells[i].get_text() == nbb_unformatted_code) {\n",
       "                             nbb_cells[i].set_text(nbb_formatted_code);\n",
       "                        }\n",
       "                        break;\n",
       "                    }\n",
       "                }\n",
       "            }, 500);\n",
       "            "
      ]
     },
     "metadata": {},
     "output_type": "display_data"
    }
   ],
   "source": [
    "# print(b_commands[0].command_string)\n",
    "b_commands = backtest.create_commands(\n",
    "    b_params,\n",
    "    verbose=False,\n",
    ")\n",
    "b_runner = backtest.BacktestRunner(b_commands[0])\n",
    "b_runner.execute()\n",
    "if b_runner.error:\n",
    "    print(b_runner.output)\n",
    "else:\n",
    "    b_runner.save()\n",
    "    get_backtest_repo().df().head(1)"
   ]
  },
  {
   "cell_type": "code",
   "execution_count": null,
   "metadata": {
    "tags": []
   },
   "outputs": [],
   "source": [
    "print(b_runner.output)"
   ]
  },
  {
   "cell_type": "code",
   "execution_count": null,
   "metadata": {
    "ExecuteTime": {
     "end_time": "2021-08-30T21:54:17.242935Z",
     "start_time": "2021-08-30T21:52:41.849119Z"
    },
    "tags": []
   },
   "outputs": [],
   "source": [
    "b_commands = backtest.create_commands(\n",
    "    b_params,\n",
    "    verbose=False,\n",
    ")\n",
    "bm_runner = backtest.BacktestMultiRunner(b_commands)\n",
    "bm_runner.execute()\n",
    "if any(bm_runner.errors):\n",
    "    print(bm_runner.errors)\n",
    "\n",
    "bm_runner.save()\n",
    "get_backtest_repo().df().head(len(bm_runner.reports))"
   ]
  },
  {
   "cell_type": "code",
   "execution_count": null,
   "metadata": {
    "tags": []
   },
   "outputs": [],
   "source": [
    "print(bm_runner.runners[0].output)"
   ]
  },
  {
   "cell_type": "code",
   "execution_count": null,
   "metadata": {
    "ExecuteTime": {
     "end_time": "2021-08-30T18:41:06.845328Z",
     "start_time": "2021-08-30T18:41:05.633119Z"
    }
   },
   "outputs": [],
   "source": [
    "get_backtest_repo()[0].trades_to_csv()"
   ]
  },
  {
   "cell_type": "markdown",
   "metadata": {
    "tags": []
   },
   "source": [
    "# Reports"
   ]
  },
  {
   "cell_type": "markdown",
   "metadata": {
    "tags": []
   },
   "source": [
    "## Hyperopt Reports"
   ]
  },
  {
   "cell_type": "code",
   "execution_count": null,
   "metadata": {},
   "outputs": [],
   "source": [
    "get_hyperopt_repo().df()"
   ]
  },
  {
   "cell_type": "code",
   "execution_count": null,
   "metadata": {},
   "outputs": [],
   "source": []
  },
  {
   "cell_type": "markdown",
   "metadata": {},
   "source": [
    "## Backtest Reports"
   ]
  },
  {
   "cell_type": "code",
   "execution_count": 10,
   "metadata": {},
   "outputs": [
    {
     "data": {
      "application/javascript": [
       "\n",
       "            setTimeout(function() {\n",
       "                var nbb_cell_id = 10;\n",
       "                var nbb_unformatted_code = \"get_backtest_repo().delete(0)\";\n",
       "                var nbb_formatted_code = \"get_backtest_repo().delete(0)\";\n",
       "                var nbb_cells = Jupyter.notebook.get_cells();\n",
       "                for (var i = 0; i < nbb_cells.length; ++i) {\n",
       "                    if (nbb_cells[i].input_prompt_number == nbb_cell_id) {\n",
       "                        if (nbb_cells[i].get_text() == nbb_unformatted_code) {\n",
       "                             nbb_cells[i].set_text(nbb_formatted_code);\n",
       "                        }\n",
       "                        break;\n",
       "                    }\n",
       "                }\n",
       "            }, 500);\n",
       "            "
      ]
     },
     "metadata": {},
     "output_type": "display_data"
    }
   ],
   "source": [
    "get_backtest_repo().delete(0)"
   ]
  },
  {
   "cell_type": "code",
   "execution_count": null,
   "metadata": {
    "tags": []
   },
   "outputs": [],
   "source": [
    "get_backtest_repo().df().sort_values('roiloss').head(10)"
   ]
  },
  {
   "cell_type": "code",
   "execution_count": null,
   "metadata": {},
   "outputs": [],
   "source": [
    "(get_backtest_repo()\n",
    " .filter_by_strategy('NotAnotherSMAOffsetStrategyHOv3', 'NotAnotherSMAOffsetStrategyHOv3Mod', 'NotAnotherSMAOffsetStrategyModHO')\n",
    ".df()\n",
    " .query('days>364')\n",
    " .sort_values(by=['strategy', 'score'], ascending=False))\n"
   ]
  },
  {
   "cell_type": "code",
   "execution_count": null,
   "metadata": {
    "ExecuteTime": {
     "end_time": "2021-08-30T18:35:37.051647Z",
     "start_time": "2021-08-30T18:35:37.023203Z"
    },
    "tags": []
   },
   "outputs": [],
   "source": [
    "get_backtest_repo().filter_by_id('4db2236-0861-4d7b-b720-7ecd04999290')"
   ]
  },
  {
   "cell_type": "code",
   "execution_count": null,
   "metadata": {
    "ExecuteTime": {
     "end_time": "2021-08-26T17:07:58.595751Z",
     "start_time": "2021-08-26T17:07:58.578108Z"
    }
   },
   "outputs": [],
   "source": [
    "# import rapidjson\n",
    "\n",
    "# rapidjson.loads(\n",
    "#     ParameterTools.get_path_of_params(\n",
    "#         \"ca1f7c9b-e3d6-483b-b912-00688410f0ed\"\n",
    "#     ).read_text()\n",
    "# )\n",
    "get_hyperopt_repo().get_by_param_id('b40294bf-de3b-4f7d-a6f7-a412709e549c').parameters()"
   ]
  },
  {
   "cell_type": "markdown",
   "metadata": {},
   "source": [
    "# Remote"
   ]
  },
  {
   "cell_type": "code",
   "execution_count": null,
   "metadata": {
    "ExecuteTime": {
     "end_time": "2021-08-30T22:09:11.731576Z",
     "start_time": "2021-08-30T22:09:11.655812Z"
    },
    "autorun": true,
    "init_cell": true,
    "tags": []
   },
   "outputs": [],
   "source": [
    "bot1 = remote.RemoteBot(1, \"vps\")\n",
    "bot4 = remote.RemoteBot(4, \"vps\")\n",
    "bot2 = remote.RemoteBot(2, \"pi\")\n",
    "bot3 = remote.RemoteBot(3, \"pi\")\n",
    "bot5 = remote.RemoteBot(5, \"pi\")"
   ]
  },
  {
   "cell_type": "code",
   "execution_count": null,
   "metadata": {
    "ExecuteTime": {
     "end_time": "2021-08-20T17:31:18.060443Z",
     "start_time": "2021-08-20T17:31:13.744564Z"
    }
   },
   "outputs": [],
   "source": [
    "bot4.tools.send_file(4, str(priv_us), \"user_data/priv_us.json\")"
   ]
  },
  {
   "cell_type": "code",
   "execution_count": null,
   "metadata": {
    "ExecuteTime": {
     "end_time": "2021-08-11T23:04:55.828217Z",
     "start_time": "2021-08-11T23:04:55.828170Z"
    }
   },
   "outputs": [],
   "source": [
    "c = remote.RemoteBotInfo(1).config\n",
    "c.pairslist"
   ]
  },
  {
   "cell_type": "code",
   "execution_count": null,
   "metadata": {
    "ExecuteTime": {
     "end_time": "2021-08-26T14:36:03.173307Z",
     "start_time": "2021-08-26T14:35:39.097704Z"
    },
    "tags": []
   },
   "outputs": [],
   "source": [
    "bot4.update_config(dict(max_open_trades=3))\n",
    "bot4.restart()"
   ]
  },
  {
   "cell_type": "code",
   "execution_count": null,
   "metadata": {
    "ExecuteTime": {
     "end_time": "2021-08-29T17:42:05.456598Z",
     "start_time": "2021-08-29T17:41:11.539914Z"
    },
    "tags": []
   },
   "outputs": [],
   "source": [
    "bot = bot5\n",
    "bot.set_strategy(\"NotAnotherSMAOffsetStrategyHOv3Mod\", id=\"b40294bf-de3b-4f7d-a6f7-a412709e549c\")\n",
    "# bot.set_run_mode(\"live\")\n",
    "bot.env\n",
    "bot.restart()"
   ]
  },
  {
   "cell_type": "code",
   "execution_count": null,
   "metadata": {
    "ExecuteTime": {
     "end_time": "2021-08-28T23:24:05.091178Z",
     "start_time": "2021-08-28T23:24:02.763912Z"
    },
    "tags": []
   },
   "outputs": [],
   "source": [
    "bot4.get_trades().to_csv('exports/bot4_trades.csv', index=False)"
   ]
  },
  {
   "cell_type": "code",
   "execution_count": null,
   "metadata": {},
   "outputs": [],
   "source": [
    "bot2.get_trades().profit_abs.sum()"
   ]
  },
  {
   "cell_type": "code",
   "execution_count": null,
   "metadata": {},
   "outputs": [],
   "source": [
    "bot3.env"
   ]
  },
  {
   "cell_type": "code",
   "execution_count": null,
   "metadata": {
    "ExecuteTime": {
     "end_time": "2021-08-28T17:12:01.515959Z",
     "start_time": "2021-08-28T17:11:34.601729Z"
    },
    "tags": []
   },
   "outputs": [],
   "source": [
    "# bot3.restart()\n",
    "# bot5.restart()\n",
    "bot2.env"
   ]
  },
  {
   "cell_type": "markdown",
   "metadata": {},
   "source": [
    "# Misc"
   ]
  },
  {
   "cell_type": "code",
   "execution_count": null,
   "metadata": {
    "ExecuteTime": {
     "end_time": "2021-08-29T02:35:22.555797Z",
     "start_time": "2021-08-29T02:34:51.871132Z"
    },
    "tags": []
   },
   "outputs": [],
   "source": [
    "!freqtrade hyperopt-show"
   ]
  },
  {
   "cell_type": "code",
   "execution_count": null,
   "metadata": {
    "tags": []
   },
   "outputs": [],
   "source": [
    "!freqtrade hyperopt --help"
   ]
  },
  {
   "cell_type": "code",
   "execution_count": null,
   "metadata": {},
   "outputs": [],
   "source": [
    "!freqtrade list-strategies"
   ]
  },
  {
   "cell_type": "code",
   "execution_count": null,
   "metadata": {
    "tags": []
   },
   "outputs": [],
   "source": [
    "!echo \"hi\""
   ]
  },
  {
   "cell_type": "markdown",
   "metadata": {},
   "source": [
    "# Logs"
   ]
  },
  {
   "cell_type": "code",
   "execution_count": null,
   "metadata": {},
   "outputs": [],
   "source": [
    "!tail --help"
   ]
  },
  {
   "cell_type": "code",
   "execution_count": null,
   "metadata": {},
   "outputs": [],
   "source": []
  }
 ],
 "metadata": {
  "celltoolbar": "Initialization Cell",
  "kernelspec": {
   "display_name": "Python 3 (ipykernel)",
   "language": "python",
   "name": "python3"
  },
  "language_info": {
   "codemirror_mode": {
    "name": "ipython",
    "version": 3
   },
   "file_extension": ".py",
   "mimetype": "text/x-python",
   "name": "python",
   "nbconvert_exporter": "python",
   "pygments_lexer": "ipython3",
   "version": "3.9.6"
  },
  "toc-autonumbering": true,
  "varInspector": {
   "cols": {
    "lenName": 16,
    "lenType": 16,
    "lenVar": 40
   },
   "kernels_config": {
    "python": {
     "delete_cmd_postfix": "",
     "delete_cmd_prefix": "del ",
     "library": "var_list.py",
     "varRefreshCmd": "print(var_dic_list())"
    },
    "r": {
     "delete_cmd_postfix": ") ",
     "delete_cmd_prefix": "rm(",
     "library": "var_list.r",
     "varRefreshCmd": "cat(var_dic_list()) "
    }
   },
   "position": {
    "height": "267.85px",
    "left": "1389.83px",
    "right": "20px",
    "top": "120px",
    "width": "350.167px"
   },
   "types_to_exclude": [
    "module",
    "function",
    "builtin_function_or_method",
    "instance",
    "_Feature"
   ],
   "window_display": false
  }
 },
 "nbformat": 4,
 "nbformat_minor": 4
}
